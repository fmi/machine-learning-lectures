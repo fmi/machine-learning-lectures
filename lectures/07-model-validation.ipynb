{
 "cells": [
  {
   "cell_type": "markdown",
   "metadata": {
    "slideshow": {
     "slide_type": "slide"
    }
   },
   "source": [
    "# Валидиране на модели"
   ]
  },
  {
   "cell_type": "code",
   "execution_count": 1,
   "metadata": {
    "collapsed": true,
    "slideshow": {
     "slide_type": "skip"
    }
   },
   "outputs": [],
   "source": [
    "import numpy as np\n",
    "import pandas as pd\n",
    "import matplotlib.pyplot as plt\n",
    "import seaborn as sns\n",
    "import mglearn\n",
    "import warnings\n",
    "\n",
    "warnings.filterwarnings(action='ignore', module='scipy', message='^internal gelsd')\n",
    "\n",
    "%matplotlib inline"
   ]
  },
  {
   "cell_type": "markdown",
   "metadata": {
    "slideshow": {
     "slide_type": "slide"
    }
   },
   "source": [
    "# Днес\n",
    "\n",
    "1. Оценяване на модел\n",
    "2. Увереност на модел\n",
    "3. Cross-validation"
   ]
  },
  {
   "cell_type": "markdown",
   "metadata": {
    "slideshow": {
     "slide_type": "slide"
    }
   },
   "source": [
    "# Оценяване на модел\n",
    "\n",
    "Когато искаме да определим колко добре се справя даден модел може да ползваме различни методи за оценяването му. Няма универсална формула – всичко зависи от конкретните данни и целта ни с тях.\n",
    "\n",
    "Ще разгледаме няколко различни подхода."
   ]
  },
  {
   "cell_type": "markdown",
   "metadata": {
    "slideshow": {
     "slide_type": "subslide"
    }
   },
   "source": [
    "Подходите за оценка на регресия и класификация са различни.\n",
    "\n",
    "Ще започнем с регресията и ще минем към класификацията."
   ]
  },
  {
   "cell_type": "markdown",
   "metadata": {
    "slideshow": {
     "slide_type": "subslide"
    }
   },
   "source": [
    "# Нотации\n",
    "\n",
    "Ще ползваме следните нотации (примери в контекста на определяне на цени на апартаменти).\n",
    "\n",
    "* $n$ – брой данни (колко апартамента имаме)\n",
    "* $y \\in \\mathbb{R}^n$ – целеви стойности / target values (истинската цена на апартамент)\n",
    "* $\\hat{y} \\in \\mathbb{R}^n$ – предвидени стойности / predicted values (цени, предвидени от нашия модел)\n",
    "* $\\hat{y}_i \\in \\mathbb{R}$ – предвидена стойност на $i$-тия елемент (цена на $i$-тия апартамент според модела)"
   ]
  },
  {
   "cell_type": "markdown",
   "metadata": {
    "slideshow": {
     "slide_type": "slide"
    }
   },
   "source": [
    "# Средна квадратна грешка\n",
    "\n",
    "Още Mean Squared Error (MSE). Това е средно аритметичното на грешките в предвижданията:\n",
    "\n",
    "$$\n",
    "\\operatorname {MSE} = \\frac{1}{n} \\sum_{i=1}^{n} \\big( \\hat{y}_i - y_i \\big) ^ 2\n",
    "$$\n",
    "\n",
    "Обърнете внимание, че $\\hat{y}_i - y_i$ е грешката за $i$-тия елемент (разликата между търсената стойност и какво казва модела)."
   ]
  },
  {
   "cell_type": "markdown",
   "metadata": {
    "slideshow": {
     "slide_type": "subslide"
    }
   },
   "source": [
    "Когато ползваме линейна регресия (без регуляризация), алгоритъма намира коефициенти $a_0, a_1, \\ldots, a_n$, които минимизират тази функция."
   ]
  },
  {
   "cell_type": "markdown",
   "metadata": {},
   "source": [
    "Нека да видим пример. Първо, малко данни:"
   ]
  },
  {
   "cell_type": "code",
   "execution_count": 2,
   "metadata": {
    "collapsed": true,
    "slideshow": {
     "slide_type": "subslide"
    }
   },
   "outputs": [],
   "source": [
    "frame = pd.DataFrame({\n",
    "    'y': [1, 3, 5, 10, 24, 55, 77],\n",
    "    'ŷ': [1, 2, 5, 10, 30, 50, 100],\n",
    "})\n",
    "\n",
    "frame['correct'] = frame['y'] == frame['ŷ']\n",
    "frame['difference'] = frame['ŷ'] - frame['y']\n",
    "frame['squared_error'] = frame.difference**2"
   ]
  },
  {
   "cell_type": "code",
   "execution_count": 3,
   "metadata": {
    "slideshow": {
     "slide_type": "subslide"
    }
   },
   "outputs": [
    {
     "data": {
      "text/html": [
       "<div>\n",
       "<style>\n",
       "    .dataframe thead tr:only-child th {\n",
       "        text-align: right;\n",
       "    }\n",
       "\n",
       "    .dataframe thead th {\n",
       "        text-align: left;\n",
       "    }\n",
       "\n",
       "    .dataframe tbody tr th {\n",
       "        vertical-align: top;\n",
       "    }\n",
       "</style>\n",
       "<table border=\"1\" class=\"dataframe\">\n",
       "  <thead>\n",
       "    <tr style=\"text-align: right;\">\n",
       "      <th></th>\n",
       "      <th>y</th>\n",
       "      <th>ŷ</th>\n",
       "      <th>correct</th>\n",
       "      <th>difference</th>\n",
       "      <th>squared_error</th>\n",
       "    </tr>\n",
       "  </thead>\n",
       "  <tbody>\n",
       "    <tr>\n",
       "      <th>0</th>\n",
       "      <td>1</td>\n",
       "      <td>1</td>\n",
       "      <td>True</td>\n",
       "      <td>0</td>\n",
       "      <td>0</td>\n",
       "    </tr>\n",
       "    <tr>\n",
       "      <th>1</th>\n",
       "      <td>3</td>\n",
       "      <td>2</td>\n",
       "      <td>False</td>\n",
       "      <td>-1</td>\n",
       "      <td>1</td>\n",
       "    </tr>\n",
       "    <tr>\n",
       "      <th>2</th>\n",
       "      <td>5</td>\n",
       "      <td>5</td>\n",
       "      <td>True</td>\n",
       "      <td>0</td>\n",
       "      <td>0</td>\n",
       "    </tr>\n",
       "    <tr>\n",
       "      <th>3</th>\n",
       "      <td>10</td>\n",
       "      <td>10</td>\n",
       "      <td>True</td>\n",
       "      <td>0</td>\n",
       "      <td>0</td>\n",
       "    </tr>\n",
       "    <tr>\n",
       "      <th>4</th>\n",
       "      <td>24</td>\n",
       "      <td>30</td>\n",
       "      <td>False</td>\n",
       "      <td>6</td>\n",
       "      <td>36</td>\n",
       "    </tr>\n",
       "    <tr>\n",
       "      <th>5</th>\n",
       "      <td>55</td>\n",
       "      <td>50</td>\n",
       "      <td>False</td>\n",
       "      <td>-5</td>\n",
       "      <td>25</td>\n",
       "    </tr>\n",
       "    <tr>\n",
       "      <th>6</th>\n",
       "      <td>77</td>\n",
       "      <td>100</td>\n",
       "      <td>False</td>\n",
       "      <td>23</td>\n",
       "      <td>529</td>\n",
       "    </tr>\n",
       "  </tbody>\n",
       "</table>\n",
       "</div>"
      ],
      "text/plain": [
       "    y    ŷ  correct  difference  squared_error\n",
       "0   1    1     True           0              0\n",
       "1   3    2    False          -1              1\n",
       "2   5    5     True           0              0\n",
       "3  10   10     True           0              0\n",
       "4  24   30    False           6             36\n",
       "5  55   50    False          -5             25\n",
       "6  77  100    False          23            529"
      ]
     },
     "execution_count": 3,
     "metadata": {},
     "output_type": "execute_result"
    }
   ],
   "source": [
    "frame"
   ]
  },
  {
   "cell_type": "code",
   "execution_count": 4,
   "metadata": {
    "slideshow": {
     "slide_type": "subslide"
    }
   },
   "outputs": [
    {
     "data": {
      "text/plain": [
       "84.428571428571431"
      ]
     },
     "execution_count": 4,
     "metadata": {},
     "output_type": "execute_result"
    }
   ],
   "source": [
    "frame.squared_error.mean()"
   ]
  },
  {
   "cell_type": "markdown",
   "metadata": {
    "slideshow": {
     "slide_type": "subslide"
    }
   },
   "source": [
    "Въпрос:\n",
    "\n",
    "Кой е най-добрият константен предиктор $c$ за горния сет $y$?\n",
    "\n",
    "\"Константен предиктор\" ще рече $c = \\hat{y}_1 = \\hat{y}_2 = \\ldots = \\hat{y}_n$."
   ]
  },
  {
   "cell_type": "markdown",
   "metadata": {
    "slideshow": {
     "slide_type": "subslide"
    }
   },
   "source": [
    "Нека пробваме да го намерим по \"инженерен метод\" (без математика). Просто ще пробваме числата между -100 и 100."
   ]
  },
  {
   "cell_type": "code",
   "execution_count": 5,
   "metadata": {
    "slideshow": {
     "slide_type": "subslide"
    }
   },
   "outputs": [
    {
     "data": {
      "image/png": "[encoded data removed]",
      "text/plain": [
       "<matplotlib.figure.Figure at 0x1110a7438>"
      ]
     },
     "metadata": {},
     "output_type": "display_data"
    }
   ],
   "source": [
    "xs = pd.np.linspace(-100, 100)\n",
    "ys = [((frame.y - constant) ** 2).mean() for constant in xs]\n",
    "plt.plot(xs, ys)\n",
    "plt.grid();"
   ]
  },
  {
   "cell_type": "markdown",
   "metadata": {},
   "source": [
    "Тази функция изглежда изпъкнала с минимум в `constant = 25`."
   ]
  },
  {
   "cell_type": "markdown",
   "metadata": {
    "slideshow": {
     "slide_type": "subslide"
    }
   },
   "source": [
    "Интересно, но това е и средното-аритметично на $y$:"
   ]
  },
  {
   "cell_type": "code",
   "execution_count": 6,
   "metadata": {},
   "outputs": [
    {
     "data": {
      "text/plain": [
       "25.0"
      ]
     },
     "execution_count": 6,
     "metadata": {},
     "output_type": "execute_result"
    }
   ],
   "source": [
    "frame.y.mean()"
   ]
  },
  {
   "cell_type": "markdown",
   "metadata": {
    "slideshow": {
     "slide_type": "subslide"
    }
   },
   "source": [
    "Нека да наречем това Constant Model Mean Square Error (CMMSE). Т.е.:\n",
    "\n",
    "$$\n",
    "\\operatorname{CMMSE} = \\frac{1}{n} \\sum_{i=1}^{n} \\big( \\bar{y} - y_i \\big)^2\n",
    "$$\n",
    "\n",
    "Където $\\bar{y}$ е средното-аритметично, т.е.:\n",
    "\n",
    "$$\n",
    "\\bar{y} = \\frac{1}{n} \\sum_{i=1}^{n} y_i\n",
    "$$"
   ]
  },
  {
   "cell_type": "markdown",
   "metadata": {
    "slideshow": {
     "slide_type": "subslide"
    }
   },
   "source": [
    "# $R^2$ – коефициент на детерминация\n",
    "\n",
    "Най-популярната оценка при регресия е $R^2$. Тя се измерва с:\n",
    "\n",
    "$$\n",
    "\\operatorname{R^2} = 1 - \\frac{\\operatorname{MSE}}{\\operatorname{CMMSE}}\n",
    "$$\n",
    "\n",
    "Или по-подробно:\n",
    "\n",
    "$$\n",
    "\\operatorname{R^2} =\n",
    " 1 - \\frac{\\frac{1}{n} \\sum_{i=1}^n \\big( \\hat{y}_i - y_i \\big)^2}{\\frac{1}{n} \\sum_{i=1}^n \\big( \\bar{y} - y_i \\big)^2}\n",
    "$$\n",
    "\n",
    "Обърнете внимание, че:\n",
    "\n",
    "* Когато $\\operatorname{MSE}$ е 0 имаме $R^2 = 1$ (максимална оценка)\n",
    "* Когато $\\operatorname{MSE}$ съвпада с този на константния модел имаме $R^2 = 0$\n",
    "* $R^2$ може да е отрицателен (например при по-лош модел от оптималния константен модел)\n",
    "* Оптимизиране на $\\operatorname{MSE}$ оптимизира и $R^2$ (знаменателя е константен)\n",
    "\n",
    "Накратко, baseline-а на $R^2$ е средното аритметично и оценява на нула. Всичко по-добре е положително число, като максималния резултат е 0. Всичко по-лошо е отрицателно число."
   ]
  },
  {
   "cell_type": "markdown",
   "metadata": {
    "slideshow": {
     "slide_type": "subslide"
    }
   },
   "source": [
    "`score` на линейната регресия връща $R^2$ score. Това най-полезния score за регресия в повечето практически ситуации."
   ]
  },
  {
   "cell_type": "markdown",
   "metadata": {
    "slideshow": {
     "slide_type": "subslide"
    }
   },
   "source": [
    "Да илюстрираме това с малък есперимент. Ще вземем следните данни:"
   ]
  },
  {
   "cell_type": "code",
   "execution_count": 7,
   "metadata": {},
   "outputs": [
    {
     "data": {
      "image/png": "[encoded data removed]",
      "text/plain": [
       "<matplotlib.figure.Figure at 0x1111cbb00>"
      ]
     },
     "metadata": {},
     "output_type": "display_data"
    }
   ],
   "source": [
    "from sklearn.datasets import make_regression\n",
    "\n",
    "X, y = make_regression(n_features=1, n_samples=100, noise=15.0, random_state=0)\n",
    "\n",
    "plt.scatter(X, y);"
   ]
  },
  {
   "cell_type": "markdown",
   "metadata": {},
   "source": [
    "Да натренираме линейна регресия:"
   ]
  },
  {
   "cell_type": "code",
   "execution_count": 8,
   "metadata": {
    "slideshow": {
     "slide_type": "subslide"
    }
   },
   "outputs": [
    {
     "data": {
      "text/plain": [
       "0.87837943574915134"
      ]
     },
     "execution_count": 8,
     "metadata": {},
     "output_type": "execute_result"
    }
   ],
   "source": [
    "from sklearn.linear_model import LinearRegression\n",
    "\n",
    "model = LinearRegression().fit(X, y)\n",
    "model.score(X, y)"
   ]
  },
  {
   "cell_type": "markdown",
   "metadata": {
    "slideshow": {
     "slide_type": "subslide"
    }
   },
   "source": [
    "Видяхме какво връща `score`. Нека пробваме горната формула:"
   ]
  },
  {
   "cell_type": "code",
   "execution_count": 9,
   "metadata": {},
   "outputs": [
    {
     "data": {
      "text/plain": [
       "0.87837943574915134"
      ]
     },
     "execution_count": 9,
     "metadata": {},
     "output_type": "execute_result"
    }
   ],
   "source": [
    "1 - ((model.predict(X) - y) ** 2).mean() / ((y.mean() - y) ** 2).mean()"
   ]
  },
  {
   "cell_type": "markdown",
   "metadata": {},
   "source": [
    "Получаваме същия резултат."
   ]
  },
  {
   "cell_type": "markdown",
   "metadata": {
    "slideshow": {
     "slide_type": "subslide"
    }
   },
   "source": [
    "Може да видим и отрицателна стойност с много грешен модел (например винаги отговор 100):"
   ]
  },
  {
   "cell_type": "code",
   "execution_count": 10,
   "metadata": {},
   "outputs": [
    {
     "data": {
      "text/plain": [
       "-4.6088828493778671"
      ]
     },
     "execution_count": 10,
     "metadata": {},
     "output_type": "execute_result"
    }
   ],
   "source": [
    "from sklearn.dummy import DummyRegressor\n",
    "\n",
    "model = DummyRegressor(strategy='constant', constant=100).fit(X, y)\n",
    "model.score(X, y)"
   ]
  },
  {
   "cell_type": "markdown",
   "metadata": {
    "slideshow": {
     "slide_type": "subslide"
    }
   },
   "source": [
    "При оптималния константен модел имаме $R^2 = 0$:"
   ]
  },
  {
   "cell_type": "code",
   "execution_count": 11,
   "metadata": {},
   "outputs": [
    {
     "data": {
      "text/plain": [
       "0.0"
      ]
     },
     "execution_count": 11,
     "metadata": {},
     "output_type": "execute_result"
    }
   ],
   "source": [
    "model = DummyRegressor(strategy='constant', constant=y.mean()).fit(X, y)\n",
    "model.score(X, y)"
   ]
  },
  {
   "cell_type": "markdown",
   "metadata": {
    "slideshow": {
     "slide_type": "slide"
    }
   },
   "source": [
    "# Mean Absolute Error (MAE)\n",
    "    \n",
    "$$\n",
    "\\operatorname{MAE} = \\frac{1}{N} \\sum_{i=1}^N \\big| \\hat y_i - y_i \\big|\n",
    "$$\n",
    "\n",
    "* Използва се често във финансите\n",
    "* €10 грешка е 2 пъти повече от €5 грешка\n",
    "* При MSE €10 грешка е 4 по-лошо от €5 грешка\n",
    "* По-устойчив на outliers"
   ]
  },
  {
   "cell_type": "markdown",
   "metadata": {
    "slideshow": {
     "slide_type": "subslide"
    }
   },
   "source": [
    "Забележете, че константия модел, оптимизиращ MSE не е същия като този, който оптимизира MAE."
   ]
  },
  {
   "cell_type": "code",
   "execution_count": 12,
   "metadata": {
    "slideshow": {
     "slide_type": "-"
    }
   },
   "outputs": [
    {
     "data": {
      "image/png": "[encoded data removed]",
      "text/plain": [
       "<matplotlib.figure.Figure at 0x111260588>"
      ]
     },
     "metadata": {},
     "output_type": "display_data"
    }
   ],
   "source": [
    "xs = np.linspace(-10, 30, 400)\n",
    "ys = [(constant - frame.y).abs().mean() for constant in xs]\n",
    "plt.plot(xs, ys)\n",
    "plt.grid();"
   ]
  },
  {
   "cell_type": "markdown",
   "metadata": {
    "slideshow": {
     "slide_type": "subslide"
    }
   },
   "source": [
    "scikit-learn ви дава функции за тези метрики:"
   ]
  },
  {
   "cell_type": "code",
   "execution_count": 13,
   "metadata": {},
   "outputs": [
    {
     "name": "stdout",
     "output_type": "stream",
     "text": [
      "mean square error:   256.8858438784384\n",
      "mean absolute error: 13.161296203224675\n",
      "R² score:            0.8783794357491513\n"
     ]
    }
   ],
   "source": [
    "from sklearn.metrics import mean_absolute_error, r2_score, mean_squared_error\n",
    "\n",
    "X, y = make_regression(n_features=1, n_samples=100, noise=15.0, random_state=0)\n",
    "model = LinearRegression().fit(X, y)\n",
    "y_pred = model.predict(X)\n",
    "\n",
    "print(\"mean square error:   {}\".format(mean_squared_error(y, y_pred)))\n",
    "print(\"mean absolute error: {}\".format(mean_absolute_error(y, y_pred)))\n",
    "print(\"R² score:            {}\".format(r2_score(y, y_pred)))"
   ]
  },
  {
   "cell_type": "markdown",
   "metadata": {
    "slideshow": {
     "slide_type": "slide"
    }
   },
   "source": [
    "# Mean Squared Logarithmic Error (MSLE)\n",
    "\n",
    "Може и да изчислим MSE на логаритмите на $y$ и $\\hat{y}$:\n",
    "\n",
    "$$\n",
    "\\operatorname{MSLE} = \\frac{1}{n} \\sum_{i=1}^{n} \\big( \\ln(1 + y_i) - \\ln(1 + \\hat{y}_i) \\big)\n",
    "$$\n",
    "\n",
    "Тази функция е по-подходяща при експоненциално нарастващи dataset-и."
   ]
  },
  {
   "cell_type": "markdown",
   "metadata": {
    "slideshow": {
     "slide_type": "subslide"
    }
   },
   "source": [
    "scikit-learn ви я дава на готово."
   ]
  },
  {
   "cell_type": "code",
   "execution_count": 14,
   "metadata": {
    "collapsed": true
   },
   "outputs": [],
   "source": [
    "from sklearn.metrics import mean_squared_log_error"
   ]
  },
  {
   "cell_type": "markdown",
   "metadata": {
    "slideshow": {
     "slide_type": "slide"
    }
   },
   "source": [
    "# Класификация\n",
    "\n",
    "Класификацията ползва малко по-различни методи за оценка. Нека ги разгледаме."
   ]
  },
  {
   "cell_type": "markdown",
   "metadata": {
    "slideshow": {
     "slide_type": "slide"
    }
   },
   "source": [
    "# Accuracy\n",
    "\n",
    "Най-простата метрика е за колко точки предвиждаме правилно:\n",
    "    \n",
    "$$\n",
    "\\operatorname{Accuracy} = \\frac{1}{n} \\sum_{i=1}^n \\big[ \\hat{y}_i = y_i \\big]\n",
    "$$\n",
    "\n",
    "Където $\\big[ \\hat{y}_i = y_i \\big]$ е 1 при правилно предвиждане и 0 при грешно.\n",
    "\n",
    "Показва колко често моделът предсказва верен клас."
   ]
  },
  {
   "cell_type": "markdown",
   "metadata": {
    "slideshow": {
     "slide_type": "subslide"
    }
   },
   "source": [
    "Това прави `score` при класификациите в scikit-learn:"
   ]
  },
  {
   "cell_type": "code",
   "execution_count": 15,
   "metadata": {},
   "outputs": [
    {
     "data": {
      "text/plain": [
       "0.95804195804195802"
      ]
     },
     "execution_count": 15,
     "metadata": {},
     "output_type": "execute_result"
    }
   ],
   "source": [
    "from sklearn.datasets import load_breast_cancer\n",
    "from sklearn.linear_model import LogisticRegression\n",
    "from sklearn.model_selection import train_test_split\n",
    "\n",
    "cancer = load_breast_cancer()\n",
    "X_train, X_test, y_train, y_test = train_test_split(\n",
    "    cancer.data, cancer.target, stratify=cancer.target, random_state=42)\n",
    "\n",
    "model = LogisticRegression(C=1.0).fit(X_train, y_train)\n",
    "model.score(X_test, y_test)"
   ]
  },
  {
   "cell_type": "markdown",
   "metadata": {
    "slideshow": {
     "slide_type": "subslide"
    }
   },
   "source": [
    "# Небалансирани данни\n",
    "\n",
    "Тази метрика е много неподходяща за данни, в които единия клас има много повече представители от другия. Нека да разгледаме какво се случва."
   ]
  },
  {
   "cell_type": "markdown",
   "metadata": {
    "slideshow": {
     "slide_type": "subslide"
    }
   },
   "source": [
    "Ще ползваме друг интересен dataset – digits."
   ]
  },
  {
   "cell_type": "code",
   "execution_count": 16,
   "metadata": {},
   "outputs": [
    {
     "data": {
      "image/png": "[encoded data removed]",
      "text/plain": [
       "<matplotlib.figure.Figure at 0x111366b00>"
      ]
     },
     "metadata": {},
     "output_type": "display_data"
    }
   ],
   "source": [
    "from sklearn.datasets import load_digits\n",
    "\n",
    "digits = load_digits()\n",
    "\n",
    "fig, axes = plt.subplots(5, 20, figsize=(10, 5), subplot_kw={'xticks': (), 'yticks': ()})\n",
    "for ax, img in zip(axes.ravel(), digits.images):\n",
    "    ax.imshow(img)   \n",
    "plt.subplots_adjust(wspace=1, hspace=0, top=.5, bottom=0)"
   ]
  },
  {
   "cell_type": "markdown",
   "metadata": {
    "slideshow": {
     "slide_type": "subslide"
    }
   },
   "source": [
    "Всяка \"данна\" е просто 8x8 картинка, представена като масив от пиксели:"
   ]
  },
  {
   "cell_type": "code",
   "execution_count": 17,
   "metadata": {},
   "outputs": [
    {
     "data": {
      "text/plain": [
       "array([  0.,   0.,   5.,  13.,   9.,   1.,   0.,   0.,   0.,   0.,  13.,\n",
       "        15.,  10.,  15.,   5.,   0.,   0.,   3.,  15.,   2.,   0.,  11.,\n",
       "         8.,   0.,   0.,   4.,  12.,   0.,   0.,   8.,   8.,   0.,   0.,\n",
       "         5.,   8.,   0.,   0.,   9.,   8.,   0.,   0.,   4.,  11.,   0.,\n",
       "         1.,  12.,   7.,   0.,   0.,   2.,  14.,   5.,  10.,  12.,   0.,\n",
       "         0.,   0.,   0.,   6.,  13.,  10.,   0.,   0.,   0.])"
      ]
     },
     "execution_count": 17,
     "metadata": {},
     "output_type": "execute_result"
    }
   ],
   "source": [
    "digits.data[0]"
   ]
  },
  {
   "cell_type": "markdown",
   "metadata": {},
   "source": [
    "Ако се загледате внимателно, може да видите нулата по-долу:"
   ]
  },
  {
   "cell_type": "code",
   "execution_count": 18,
   "metadata": {
    "slideshow": {
     "slide_type": "subslide"
    }
   },
   "outputs": [
    {
     "data": {
      "text/plain": [
       "array([[  0.,   0.,   5.,  13.,   9.,   1.,   0.,   0.],\n",
       "       [  0.,   0.,  13.,  15.,  10.,  15.,   5.,   0.],\n",
       "       [  0.,   3.,  15.,   2.,   0.,  11.,   8.,   0.],\n",
       "       [  0.,   4.,  12.,   0.,   0.,   8.,   8.,   0.],\n",
       "       [  0.,   5.,   8.,   0.,   0.,   9.,   8.,   0.],\n",
       "       [  0.,   4.,  11.,   0.,   1.,  12.,   7.,   0.],\n",
       "       [  0.,   2.,  14.,   5.,  10.,  12.,   0.,   0.],\n",
       "       [  0.,   0.,   6.,  13.,  10.,   0.,   0.,   0.]])"
      ]
     },
     "execution_count": 18,
     "metadata": {},
     "output_type": "execute_result"
    }
   ],
   "source": [
    "digits.data[0].reshape(8, 8)"
   ]
  },
  {
   "cell_type": "markdown",
   "metadata": {
    "slideshow": {
     "slide_type": "subslide"
    }
   },
   "source": [
    "Нека да създадем dataset в който ще се опитваме да отгатваме само 9ките."
   ]
  },
  {
   "cell_type": "code",
   "execution_count": 19,
   "metadata": {
    "collapsed": true
   },
   "outputs": [],
   "source": [
    "y = digits.target == 9\n",
    "\n",
    "X_train, X_test, y_train, y_test = train_test_split(digits.data, y, random_state=0, stratify=y)"
   ]
  },
  {
   "cell_type": "markdown",
   "metadata": {
    "slideshow": {
     "slide_type": "subslide"
    }
   },
   "source": [
    "Какво ли прави логистичната регресия:"
   ]
  },
  {
   "cell_type": "code",
   "execution_count": 20,
   "metadata": {},
   "outputs": [
    {
     "data": {
      "text/plain": [
       "0.96666666666666667"
      ]
     },
     "execution_count": 20,
     "metadata": {},
     "output_type": "execute_result"
    }
   ],
   "source": [
    "logistic = LogisticRegression().fit(X_train, y_train)\n",
    "logistic.score(X_test, y_test)"
   ]
  },
  {
   "cell_type": "markdown",
   "metadata": {
    "slideshow": {
     "slide_type": "subslide"
    }
   },
   "source": [
    "96% не е никак зле!\n",
    "\n",
    "Или?"
   ]
  },
  {
   "cell_type": "markdown",
   "metadata": {
    "slideshow": {
     "slide_type": "subslide"
    }
   },
   "source": [
    "Да видим какво ще направи един константен модел:"
   ]
  },
  {
   "cell_type": "code",
   "execution_count": 21,
   "metadata": {},
   "outputs": [
    {
     "data": {
      "text/plain": [
       "0.90000000000000002"
      ]
     },
     "execution_count": 21,
     "metadata": {},
     "output_type": "execute_result"
    }
   ],
   "source": [
    "from sklearn.dummy import DummyClassifier\n",
    "\n",
    "dummy = DummyClassifier(strategy='constant', constant=0).fit(X_train, y_train)\n",
    "dummy.score(X_test, y_test)"
   ]
  },
  {
   "cell_type": "markdown",
   "metadata": {},
   "source": [
    "Явно може и по-лесно да постигнем 90% точност."
   ]
  },
  {
   "cell_type": "markdown",
   "metadata": {
    "slideshow": {
     "slide_type": "subslide"
    }
   },
   "source": [
    "Представете си, че имаме рядко заболяване – имат го само 1% от хората. Може да постигнем 99% точност просто като винаги отговаряме \"пациента е здрав\". Това не е много добър модел.\n",
    "\n",
    "За да се справим с това ползваме малко по-различни метрики."
   ]
  },
  {
   "cell_type": "markdown",
   "metadata": {
    "slideshow": {
     "slide_type": "slide"
    }
   },
   "source": [
    "# Confusion matrix\n",
    "\n",
    "Първата интересна графика е confusion matrix. За да я начертаем ни трябват 4 числа:\n",
    "\n",
    "* True Positives (TP) – $\\hat{y} = 1$ за които сме предвидили правилно\n",
    "* False Positives (FP) – $\\hat{y} = 1$ за които сме предвидили грешно\n",
    "* True Negatives (TN) – $\\hat{y} = 0$ за които сме предвидили правилно\n",
    "* False Negatives (FN) – $\\hat{y} = 0$ за които сме предвидили грешно\n",
    "\n",
    "Обърнете внимание, че при бинарната класификация често наричаме единия клас \"позитивен\" ($y = 1$). Това може да е \"спам\" в мейлите, \"злокачествен\" при туморите и \"девятка\" при числата."
   ]
  },
  {
   "cell_type": "markdown",
   "metadata": {
    "slideshow": {
     "slide_type": "subslide"
    }
   },
   "source": [
    "Confusion matrix е просто следната таблица:"
   ]
  },
  {
   "cell_type": "code",
   "execution_count": 22,
   "metadata": {},
   "outputs": [
    {
     "data": {
      "image/png": "[encoded data removed]",
      "text/plain": [
       "<matplotlib.figure.Figure at 0x10b191a58>"
      ]
     },
     "metadata": {},
     "output_type": "display_data"
    }
   ],
   "source": [
    "mglearn.plots.plot_binary_confusion_matrix()"
   ]
  },
  {
   "cell_type": "markdown",
   "metadata": {
    "slideshow": {
     "slide_type": "subslide"
    }
   },
   "source": [
    "scikit-learn има функция, която дава метриките на confusion matrix:"
   ]
  },
  {
   "cell_type": "code",
   "execution_count": 23,
   "metadata": {},
   "outputs": [
    {
     "data": {
      "text/plain": [
       "array([[405,   0],\n",
       "       [ 45,   0]])"
      ]
     },
     "execution_count": 23,
     "metadata": {},
     "output_type": "execute_result"
    }
   ],
   "source": [
    "from sklearn.metrics import confusion_matrix\n",
    "\n",
    "confusion_matrix(y_test, dummy.predict(X_test))"
   ]
  },
  {
   "cell_type": "markdown",
   "metadata": {},
   "source": [
    "Така по-лесно може да се ориентираме в резултата и да видим, че има проблем."
   ]
  },
  {
   "cell_type": "markdown",
   "metadata": {
    "slideshow": {
     "slide_type": "subslide"
    }
   },
   "source": [
    "Логистичната регресия се справя по-добре:"
   ]
  },
  {
   "cell_type": "code",
   "execution_count": 24,
   "metadata": {},
   "outputs": [
    {
     "data": {
      "text/plain": [
       "array([[395,  10],\n",
       "       [  5,  40]])"
      ]
     },
     "execution_count": 24,
     "metadata": {},
     "output_type": "execute_result"
    }
   ],
   "source": [
    "confusion_matrix(y_test, logistic.predict(X_test))"
   ]
  },
  {
   "cell_type": "markdown",
   "metadata": {
    "slideshow": {
     "slide_type": "slide"
    }
   },
   "source": [
    "Хората се радват на шарено. Нека си направим функция за чертане на confusion matrix:"
   ]
  },
  {
   "cell_type": "code",
   "execution_count": 25,
   "metadata": {
    "collapsed": true,
    "slideshow": {
     "slide_type": "skip"
    }
   },
   "outputs": [],
   "source": [
    "import itertools\n",
    "\n",
    "def plot_confusion_matrix(y_true, y_pred, classes,\n",
    "                          normalize=False,\n",
    "                          title='Confusion matrix',\n",
    "                          cmap=plt.cm.Blues,\n",
    "                          figsize=(9, 7)):\n",
    "    matrix = confusion_matrix(y_true, y_pred)\n",
    "\n",
    "    if normalize:\n",
    "        matrix = matrix.astype('float') / matrix.sum(axis=1)[:, np.newaxis]\n",
    "\n",
    "    plt.figure(figsize=figsize)\n",
    "    plt.imshow(matrix, interpolation='nearest', cmap=cmap)\n",
    "    plt.title(title)\n",
    "    plt.colorbar()\n",
    "\n",
    "    tick_marks = np.arange(len(classes))\n",
    "    plt.xticks(tick_marks, classes, rotation=45)\n",
    "    plt.yticks(tick_marks, classes)\n",
    "\n",
    "    fmt = '.2f' if normalize else 'd'\n",
    "    thresh = matrix.max() / 2.\n",
    "    for i, j in itertools.product(range(matrix.shape[0]), range(matrix.shape[1])):\n",
    "        plt.text(j, i, format(matrix[i, j], fmt),\n",
    "                 horizontalalignment=\"center\",\n",
    "                 size=int((figsize[0] / 10) * 38),\n",
    "                 color=\"white\" if matrix[i, j] > thresh else \"black\")\n",
    "\n",
    "    plt.tight_layout()\n",
    "    plt.ylabel('True label')\n",
    "    plt.xlabel('Predicted label')"
   ]
  },
  {
   "cell_type": "code",
   "execution_count": 26,
   "metadata": {},
   "outputs": [
    {
     "data": {
      "image/png": "[encoded data removed]",
      "text/plain": [
       "<matplotlib.figure.Figure at 0x1142a8f60>"
      ]
     },
     "metadata": {},
     "output_type": "display_data"
    }
   ],
   "source": [
    "plot_confusion_matrix(y_test, logistic.predict(X_test), ['not nine', 'nine'])"
   ]
  },
  {
   "cell_type": "markdown",
   "metadata": {
    "slideshow": {
     "slide_type": "subslide"
    }
   },
   "source": [
    "Така числата са малко трудни за разбиране. Затова имаме `normalize=True`:"
   ]
  },
  {
   "cell_type": "code",
   "execution_count": 27,
   "metadata": {},
   "outputs": [
    {
     "data": {
      "image/png": "[encoded data removed]",
      "text/plain": [
       "<matplotlib.figure.Figure at 0x1141e6f28>"
      ]
     },
     "metadata": {},
     "output_type": "display_data"
    }
   ],
   "source": [
    "plot_confusion_matrix(y_test, logistic.predict(X_test), ['not nine', 'nine'], normalize=True)"
   ]
  },
  {
   "cell_type": "markdown",
   "metadata": {},
   "source": [
    "Виждаме, че познаваме not-nine в 98% от случаите и nine в 89%."
   ]
  },
  {
   "cell_type": "markdown",
   "metadata": {
    "slideshow": {
     "slide_type": "subslide"
    }
   },
   "source": [
    "Как ли се справя глупавия ни модел?"
   ]
  },
  {
   "cell_type": "code",
   "execution_count": 28,
   "metadata": {},
   "outputs": [
    {
     "data": {
      "image/png": "[encoded data removed]",
      "text/plain": [
       "<matplotlib.figure.Figure at 0x1140be780>"
      ]
     },
     "metadata": {},
     "output_type": "display_data"
    }
   ],
   "source": [
    "plot_confusion_matrix(y_test, dummy.predict(X_test), ['not nine', 'nine'])"
   ]
  },
  {
   "cell_type": "markdown",
   "metadata": {},
   "source": [
    "Тук ясно се вижда проблема.\n",
    "\n",
    "Като цяло, оптималната матрица е с положителни числа по основния диагонал и нули извън него."
   ]
  },
  {
   "cell_type": "markdown",
   "metadata": {
    "slideshow": {
     "slide_type": "subslide"
    }
   },
   "source": [
    "## Precision\n",
    "\n",
    "Precision е метрика, която се опитва да намали False Positives:\n",
    "\n",
    "$$ \\operatorname{Precision} = \\frac{\\operatorname{TP}}{\\operatorname{TP} + \\operatorname{FP}} $$\n",
    "\n",
    "Тя е, важна когато искаме да сме сигурни в позитивното си предвиждане."
   ]
  },
  {
   "cell_type": "markdown",
   "metadata": {
    "slideshow": {
     "slide_type": "subslide"
    }
   },
   "source": [
    "### Примери за важен precision\n",
    "\n",
    "Представете си, че правим система за автоматично бомбардиране на терористи. Алгоритъма преценява дали даден човек е терорист, и ако е такъв, го бомбардираме. Искаме да минимизираме (или отстраним) цивилните жертви – за нас е много важно да сме сигурни в оценката на алгоритъма, когато предвиди \"терорист\". Съответно, търсим алгоритъм с добър precision.\n",
    "\n",
    "Аналогичен случай е спама – ако алгоритъма е решил, че определ имейл е спам, искаме да сме много сигурни в това, преди да го изтрием. Предпотичаме имейлите на кантар да не са спам, пред това да изтрием нещо важно."
   ]
  },
  {
   "cell_type": "markdown",
   "metadata": {
    "slideshow": {
     "slide_type": "subslide"
    }
   },
   "source": [
    "## Recall\n",
    "\n",
    "Recall е аналогична метрика:\n",
    "\n",
    "$$ \\operatorname{Recall} = \\frac{\\operatorname{TP}}{\\operatorname{TP} + \\operatorname{FN}} $$\n",
    "\n",
    "Тя е важна, когато искаме да сме много сигурни, че ще хванем всички позитивни данни."
   ]
  },
  {
   "cell_type": "markdown",
   "metadata": {
    "slideshow": {
     "slide_type": "subslide"
    }
   },
   "source": [
    "## Пример за важен recall\n",
    "\n",
    "Добър пример за това са туморите. Цената на false positive е различна от тази на false negative. При false positive ще кажем на здрав пациент, че може да е болен. Това ще струва допълнителни изследвания и малко емоционални мъки. При false negative може да пропуснем да направим лечение и да застрашим живота на пациента. В този случай предпочитаме алгоритъма ни да има висок recall."
   ]
  },
  {
   "cell_type": "markdown",
   "metadata": {
    "slideshow": {
     "slide_type": "subslide"
    }
   },
   "source": [
    "## Precision и recall илюстрирани\n",
    "\n",
    "Лесен начин да помним двете метрики е `TP` разделено на сбора на реда или колоната:"
   ]
  },
  {
   "cell_type": "code",
   "execution_count": 29,
   "metadata": {},
   "outputs": [
    {
     "data": {
      "image/png": "[encoded data removed]",
      "text/plain": [
       "<matplotlib.figure.Figure at 0x11419bda0>"
      ]
     },
     "metadata": {},
     "output_type": "display_data"
    }
   ],
   "source": [
    "plot_confusion_matrix(y_test, logistic.predict(X_test), ['not nine', 'nine'], figsize=(5, 4))"
   ]
  },
  {
   "cell_type": "markdown",
   "metadata": {},
   "source": [
    "Precision е 395 разделено на сбора на първата колона, докато recall е 395 разделено на сбора на първия ред. "
   ]
  },
  {
   "cell_type": "markdown",
   "metadata": {
    "slideshow": {
     "slide_type": "subslide"
    }
   },
   "source": [
    "## $f_1$ score\n",
    "\n",
    "Ако метрика която взема и двете числа предвид, може да ползваме $f_1$ score. Това е хармоничната средна стойност на двете:\n",
    "\n",
    "$$ f_1 = 2 \\cdot \\frac{\\operatorname{precision} \\cdot \\operatorname{recall}}{\\operatorname{precision} + \\operatorname{recall}} $$"
   ]
  },
  {
   "cell_type": "code",
   "execution_count": 30,
   "metadata": {
    "slideshow": {
     "slide_type": "-"
    }
   },
   "outputs": [
    {
     "data": {
      "text/plain": [
       "0.8421052631578948"
      ]
     },
     "execution_count": 30,
     "metadata": {},
     "output_type": "execute_result"
    }
   ],
   "source": [
    "from sklearn.metrics import f1_score\n",
    "\n",
    "f1_score(y_test, logistic.predict(X_test))"
   ]
  },
  {
   "cell_type": "markdown",
   "metadata": {
    "slideshow": {
     "slide_type": "subslide"
    }
   },
   "source": [
    "scikit-learn може да ни даде всички метрики."
   ]
  },
  {
   "cell_type": "code",
   "execution_count": 31,
   "metadata": {},
   "outputs": [
    {
     "name": "stdout",
     "output_type": "stream",
     "text": [
      "             precision    recall  f1-score   support\n",
      "\n",
      "   not nine       0.99      0.98      0.98       405\n",
      "       nine       0.80      0.89      0.84        45\n",
      "\n",
      "avg / total       0.97      0.97      0.97       450\n",
      "\n"
     ]
    }
   ],
   "source": [
    "from sklearn.metrics import classification_report\n",
    "print(classification_report(y_test, logistic.predict(X_test), target_names=['not nine', 'nine']))"
   ]
  },
  {
   "cell_type": "markdown",
   "metadata": {
    "slideshow": {
     "slide_type": "subslide"
    }
   },
   "source": [
    "Нека да пробваме с още един dummy класификатор (с магически random state):"
   ]
  },
  {
   "cell_type": "code",
   "execution_count": 32,
   "metadata": {
    "collapsed": true
   },
   "outputs": [],
   "source": [
    "dummy = DummyClassifier(random_state=7260, strategy='stratified').fit(X_train, y_train)"
   ]
  },
  {
   "cell_type": "markdown",
   "metadata": {
    "slideshow": {
     "slide_type": "subslide"
    }
   },
   "source": [
    "Ако гледаме само `score`, няма да видим твърде драматична разлика:"
   ]
  },
  {
   "cell_type": "code",
   "execution_count": 33,
   "metadata": {},
   "outputs": [
    {
     "name": "stdout",
     "output_type": "stream",
     "text": [
      "Dummy score:    0.8688888888888889\n",
      "Logistic score: 0.9666666666666667\n"
     ]
    }
   ],
   "source": [
    "print(\"Dummy score:    {}\".format(dummy.score(X_test, y_test)))\n",
    "print(\"Logistic score: {}\".format(logistic.score(X_test, y_test)))"
   ]
  },
  {
   "cell_type": "markdown",
   "metadata": {
    "slideshow": {
     "slide_type": "subslide"
    }
   },
   "source": [
    "Разликите си личат в пълния report:"
   ]
  },
  {
   "cell_type": "code",
   "execution_count": 34,
   "metadata": {},
   "outputs": [
    {
     "name": "stdout",
     "output_type": "stream",
     "text": [
      "Dummy Classifier:\n",
      "\n",
      "              precision    recall  f1-score   support\n",
      "\n",
      "   not nine       0.91      0.94      0.93       405\n",
      "       nine       0.28      0.20      0.23        45\n",
      "\n",
      "avg / total       0.85      0.87      0.86       450\n",
      "\n",
      "Logistic Regression:\n",
      "\n",
      "              precision    recall  f1-score   support\n",
      "\n",
      "   not nine       0.99      0.98      0.98       405\n",
      "       nine       0.80      0.89      0.84        45\n",
      "\n",
      "avg / total       0.97      0.97      0.97       450\n",
      "\n"
     ]
    }
   ],
   "source": [
    "print(\"Dummy Classifier:\\n\\n\", classification_report(y_test, dummy.predict(X_test), target_names=['not nine', 'nine']))\n",
    "print(\"Logistic Regression:\\n\\n\", classification_report(y_test, logistic.predict(X_test), target_names=['not nine', 'nine']))"
   ]
  },
  {
   "cell_type": "markdown",
   "metadata": {
    "slideshow": {
     "slide_type": "slide"
    }
   },
   "source": [
    "# Увереност на модела\n",
    "\n",
    "Повечето класификационни модели имат още една хватка – могат да дават увереност колко са убедени в модела си. Нека разгледаме един синтетичен пирмер."
   ]
  },
  {
   "cell_type": "code",
   "execution_count": 35,
   "metadata": {
    "collapsed": true,
    "slideshow": {
     "slide_type": "subslide"
    }
   },
   "outputs": [],
   "source": [
    "from sklearn.datasets import make_circles\n",
    "\n",
    "X, y = make_circles(noise=0.25, factor=0.5, random_state=1)\n",
    "\n",
    "X_train, X_test, y_train, y_test = train_test_split(X, y, random_state=0)"
   ]
  },
  {
   "cell_type": "markdown",
   "metadata": {
    "slideshow": {
     "slide_type": "subslide"
    }
   },
   "source": [
    "Да видим как изглежда този dataset:"
   ]
  },
  {
   "cell_type": "code",
   "execution_count": 36,
   "metadata": {},
   "outputs": [
    {
     "data": {
      "image/png": "[encoded data removed]",
      "text/plain": [
       "<matplotlib.figure.Figure at 0x1153ebe80>"
      ]
     },
     "metadata": {},
     "output_type": "display_data"
    }
   ],
   "source": [
    "mglearn.discrete_scatter(X_test[:, 0], X_test[:, 1], y_test, markers='^')\n",
    "mglearn.discrete_scatter(X_train[:, 0], X_train[:, 1], y_train, markers='o');"
   ]
  },
  {
   "cell_type": "markdown",
   "metadata": {
    "slideshow": {
     "slide_type": "subslide"
    }
   },
   "source": [
    "Да го пробваме с `GradientBoostingClasifier` (от семейство decision trees):"
   ]
  },
  {
   "cell_type": "code",
   "execution_count": 37,
   "metadata": {
    "collapsed": true
   },
   "outputs": [],
   "source": [
    "from sklearn.ensemble import GradientBoostingClassifier\n",
    "\n",
    "gbrt = GradientBoostingClassifier(random_state=0)\n",
    "gbrt.fit(X_train, y_train);"
   ]
  },
  {
   "cell_type": "markdown",
   "metadata": {
    "slideshow": {
     "slide_type": "subslide"
    }
   },
   "source": [
    "Нека да начертаем границата:"
   ]
  },
  {
   "cell_type": "code",
   "execution_count": 38,
   "metadata": {},
   "outputs": [
    {
     "data": {
      "image/png": "[encoded data removed]",
      "text/plain": [
       "<matplotlib.figure.Figure at 0x1115d7f98>"
      ]
     },
     "metadata": {},
     "output_type": "display_data"
    }
   ],
   "source": [
    "mglearn.tools.plot_2d_separator(gbrt, X, alpha=.4, fill=True, cm=mglearn.cm2)\n",
    "mglearn.discrete_scatter(X_test[:, 0], X_test[:, 1], y_test, markers='^')\n",
    "mglearn.discrete_scatter(X_train[:, 0], X_train[:, 1], y_train, markers='o');"
   ]
  },
  {
   "cell_type": "markdown",
   "metadata": {
    "slideshow": {
     "slide_type": "subslide"
    }
   },
   "source": [
    "# Вероятности\n",
    "\n",
    "Повечето класификационни модели имат функция `predict_proba`, която показва вероятността на всеки клас (според класификатора):"
   ]
  },
  {
   "cell_type": "code",
   "execution_count": 39,
   "metadata": {
    "slideshow": {
     "slide_type": "subslide"
    }
   },
   "outputs": [
    {
     "data": {
      "text/plain": [
       "array([[ 0.01573626,  0.98426374],\n",
       "       [ 0.84575649,  0.15424351],\n",
       "       [ 0.98112869,  0.01887131],\n",
       "       [ 0.97406775,  0.02593225],\n",
       "       [ 0.01352142,  0.98647858],\n",
       "       [ 0.02504637,  0.97495363]])"
      ]
     },
     "execution_count": 39,
     "metadata": {},
     "output_type": "execute_result"
    }
   ],
   "source": [
    "gbrt.predict_proba(X_test[:6])"
   ]
  },
  {
   "cell_type": "markdown",
   "metadata": {},
   "source": [
    "Първото число е вероятността за първия клас, второто – за втория. Може да видим, че модела е по-убеден за едни точки, отколкото за други.\n",
    "\n",
    "Също така, сборът на двете е 1 (до floating point точност)."
   ]
  },
  {
   "cell_type": "markdown",
   "metadata": {
    "slideshow": {
     "slide_type": "subslide"
    }
   },
   "source": [
    "# Decision function"
   ]
  },
  {
   "cell_type": "markdown",
   "metadata": {},
   "source": [
    "Моделите имат и `decision_function`, който е числото зад тези неща.\n",
    "\n",
    "Стойността на `decision_function` зависи от конкретния модел и обикновено е нещо абстрактно. Вероятността е функция на нейния резултат."
   ]
  },
  {
   "cell_type": "code",
   "execution_count": 40,
   "metadata": {},
   "outputs": [
    {
     "data": {
      "text/plain": [
       "array([ 4.13592629, -1.7016989 , -3.95106099, -3.62599351,  4.28986668,\n",
       "        3.66166106])"
      ]
     },
     "execution_count": 40,
     "metadata": {},
     "output_type": "execute_result"
    }
   ],
   "source": [
    "gbrt.decision_function(X_test[:6])"
   ]
  },
  {
   "cell_type": "markdown",
   "metadata": {
    "slideshow": {
     "slide_type": "subslide"
    }
   },
   "source": [
    "Нека си направим таблица:"
   ]
  },
  {
   "cell_type": "code",
   "execution_count": 41,
   "metadata": {},
   "outputs": [
    {
     "data": {
      "text/html": [
       "<div>\n",
       "<style>\n",
       "    .dataframe thead tr:only-child th {\n",
       "        text-align: right;\n",
       "    }\n",
       "\n",
       "    .dataframe thead th {\n",
       "        text-align: left;\n",
       "    }\n",
       "\n",
       "    .dataframe tbody tr th {\n",
       "        vertical-align: top;\n",
       "    }\n",
       "</style>\n",
       "<table border=\"1\" class=\"dataframe\">\n",
       "  <thead>\n",
       "    <tr style=\"text-align: right;\">\n",
       "      <th></th>\n",
       "      <th>blue %</th>\n",
       "      <th>red %</th>\n",
       "      <th>decision function</th>\n",
       "      <th>answer</th>\n",
       "      <th>color</th>\n",
       "    </tr>\n",
       "  </thead>\n",
       "  <tbody>\n",
       "    <tr>\n",
       "      <th>0</th>\n",
       "      <td>0.0157</td>\n",
       "      <td>0.9843</td>\n",
       "      <td>4.1359</td>\n",
       "      <td>1.0</td>\n",
       "      <td>red</td>\n",
       "    </tr>\n",
       "    <tr>\n",
       "      <th>1</th>\n",
       "      <td>0.8458</td>\n",
       "      <td>0.1542</td>\n",
       "      <td>-1.7017</td>\n",
       "      <td>0.0</td>\n",
       "      <td>blue</td>\n",
       "    </tr>\n",
       "    <tr>\n",
       "      <th>2</th>\n",
       "      <td>0.9811</td>\n",
       "      <td>0.0189</td>\n",
       "      <td>-3.9511</td>\n",
       "      <td>0.0</td>\n",
       "      <td>blue</td>\n",
       "    </tr>\n",
       "    <tr>\n",
       "      <th>3</th>\n",
       "      <td>0.9741</td>\n",
       "      <td>0.0259</td>\n",
       "      <td>-3.6260</td>\n",
       "      <td>0.0</td>\n",
       "      <td>blue</td>\n",
       "    </tr>\n",
       "    <tr>\n",
       "      <th>4</th>\n",
       "      <td>0.0135</td>\n",
       "      <td>0.9865</td>\n",
       "      <td>4.2899</td>\n",
       "      <td>1.0</td>\n",
       "      <td>red</td>\n",
       "    </tr>\n",
       "    <tr>\n",
       "      <th>5</th>\n",
       "      <td>0.0250</td>\n",
       "      <td>0.9750</td>\n",
       "      <td>3.6617</td>\n",
       "      <td>1.0</td>\n",
       "      <td>red</td>\n",
       "    </tr>\n",
       "    <tr>\n",
       "      <th>6</th>\n",
       "      <td>0.9995</td>\n",
       "      <td>0.0005</td>\n",
       "      <td>-7.6910</td>\n",
       "      <td>0.0</td>\n",
       "      <td>blue</td>\n",
       "    </tr>\n",
       "    <tr>\n",
       "      <th>7</th>\n",
       "      <td>0.0161</td>\n",
       "      <td>0.9839</td>\n",
       "      <td>4.1100</td>\n",
       "      <td>1.0</td>\n",
       "      <td>red</td>\n",
       "    </tr>\n",
       "    <tr>\n",
       "      <th>8</th>\n",
       "      <td>0.2483</td>\n",
       "      <td>0.7517</td>\n",
       "      <td>1.1075</td>\n",
       "      <td>1.0</td>\n",
       "      <td>red</td>\n",
       "    </tr>\n",
       "    <tr>\n",
       "      <th>9</th>\n",
       "      <td>0.0321</td>\n",
       "      <td>0.9679</td>\n",
       "      <td>3.4078</td>\n",
       "      <td>1.0</td>\n",
       "      <td>red</td>\n",
       "    </tr>\n",
       "    <tr>\n",
       "      <th>10</th>\n",
       "      <td>0.9984</td>\n",
       "      <td>0.0016</td>\n",
       "      <td>-6.4626</td>\n",
       "      <td>0.0</td>\n",
       "      <td>blue</td>\n",
       "    </tr>\n",
       "    <tr>\n",
       "      <th>11</th>\n",
       "      <td>0.0135</td>\n",
       "      <td>0.9865</td>\n",
       "      <td>4.2899</td>\n",
       "      <td>1.0</td>\n",
       "      <td>red</td>\n",
       "    </tr>\n",
       "    <tr>\n",
       "      <th>12</th>\n",
       "      <td>0.0198</td>\n",
       "      <td>0.9802</td>\n",
       "      <td>3.9016</td>\n",
       "      <td>1.0</td>\n",
       "      <td>red</td>\n",
       "    </tr>\n",
       "    <tr>\n",
       "      <th>13</th>\n",
       "      <td>0.7686</td>\n",
       "      <td>0.2314</td>\n",
       "      <td>-1.2003</td>\n",
       "      <td>0.0</td>\n",
       "      <td>blue</td>\n",
       "    </tr>\n",
       "    <tr>\n",
       "      <th>14</th>\n",
       "      <td>0.0250</td>\n",
       "      <td>0.9750</td>\n",
       "      <td>3.6617</td>\n",
       "      <td>1.0</td>\n",
       "      <td>red</td>\n",
       "    </tr>\n",
       "    <tr>\n",
       "      <th>15</th>\n",
       "      <td>0.9848</td>\n",
       "      <td>0.0152</td>\n",
       "      <td>-4.1723</td>\n",
       "      <td>0.0</td>\n",
       "      <td>blue</td>\n",
       "    </tr>\n",
       "    <tr>\n",
       "      <th>16</th>\n",
       "      <td>0.7738</td>\n",
       "      <td>0.2262</td>\n",
       "      <td>-1.2301</td>\n",
       "      <td>0.0</td>\n",
       "      <td>blue</td>\n",
       "    </tr>\n",
       "    <tr>\n",
       "      <th>17</th>\n",
       "      <td>0.9805</td>\n",
       "      <td>0.0195</td>\n",
       "      <td>-3.9158</td>\n",
       "      <td>0.0</td>\n",
       "      <td>blue</td>\n",
       "    </tr>\n",
       "    <tr>\n",
       "      <th>18</th>\n",
       "      <td>0.0174</td>\n",
       "      <td>0.9826</td>\n",
       "      <td>4.0360</td>\n",
       "      <td>1.0</td>\n",
       "      <td>red</td>\n",
       "    </tr>\n",
       "    <tr>\n",
       "      <th>19</th>\n",
       "      <td>0.0161</td>\n",
       "      <td>0.9839</td>\n",
       "      <td>4.1100</td>\n",
       "      <td>1.0</td>\n",
       "      <td>red</td>\n",
       "    </tr>\n",
       "    <tr>\n",
       "      <th>20</th>\n",
       "      <td>0.0161</td>\n",
       "      <td>0.9839</td>\n",
       "      <td>4.1100</td>\n",
       "      <td>1.0</td>\n",
       "      <td>red</td>\n",
       "    </tr>\n",
       "    <tr>\n",
       "      <th>21</th>\n",
       "      <td>0.3414</td>\n",
       "      <td>0.6586</td>\n",
       "      <td>0.6571</td>\n",
       "      <td>1.0</td>\n",
       "      <td>red</td>\n",
       "    </tr>\n",
       "    <tr>\n",
       "      <th>22</th>\n",
       "      <td>0.0631</td>\n",
       "      <td>0.9369</td>\n",
       "      <td>2.6983</td>\n",
       "      <td>1.0</td>\n",
       "      <td>red</td>\n",
       "    </tr>\n",
       "    <tr>\n",
       "      <th>23</th>\n",
       "      <td>0.9344</td>\n",
       "      <td>0.0656</td>\n",
       "      <td>-2.6567</td>\n",
       "      <td>0.0</td>\n",
       "      <td>blue</td>\n",
       "    </tr>\n",
       "    <tr>\n",
       "      <th>24</th>\n",
       "      <td>0.8662</td>\n",
       "      <td>0.1338</td>\n",
       "      <td>-1.8678</td>\n",
       "      <td>0.0</td>\n",
       "      <td>blue</td>\n",
       "    </tr>\n",
       "  </tbody>\n",
       "</table>\n",
       "</div>"
      ],
      "text/plain": [
       "    blue %   red %  decision function  answer color\n",
       "0   0.0157  0.9843             4.1359     1.0   red\n",
       "1   0.8458  0.1542            -1.7017     0.0  blue\n",
       "2   0.9811  0.0189            -3.9511     0.0  blue\n",
       "3   0.9741  0.0259            -3.6260     0.0  blue\n",
       "4   0.0135  0.9865             4.2899     1.0   red\n",
       "5   0.0250  0.9750             3.6617     1.0   red\n",
       "6   0.9995  0.0005            -7.6910     0.0  blue\n",
       "7   0.0161  0.9839             4.1100     1.0   red\n",
       "8   0.2483  0.7517             1.1075     1.0   red\n",
       "9   0.0321  0.9679             3.4078     1.0   red\n",
       "10  0.9984  0.0016            -6.4626     0.0  blue\n",
       "11  0.0135  0.9865             4.2899     1.0   red\n",
       "12  0.0198  0.9802             3.9016     1.0   red\n",
       "13  0.7686  0.2314            -1.2003     0.0  blue\n",
       "14  0.0250  0.9750             3.6617     1.0   red\n",
       "15  0.9848  0.0152            -4.1723     0.0  blue\n",
       "16  0.7738  0.2262            -1.2301     0.0  blue\n",
       "17  0.9805  0.0195            -3.9158     0.0  blue\n",
       "18  0.0174  0.9826             4.0360     1.0   red\n",
       "19  0.0161  0.9839             4.1100     1.0   red\n",
       "20  0.0161  0.9839             4.1100     1.0   red\n",
       "21  0.3414  0.6586             0.6571     1.0   red\n",
       "22  0.0631  0.9369             2.6983     1.0   red\n",
       "23  0.9344  0.0656            -2.6567     0.0  blue\n",
       "24  0.8662  0.1338            -1.8678     0.0  blue"
      ]
     },
     "execution_count": 41,
     "metadata": {},
     "output_type": "execute_result"
    }
   ],
   "source": [
    "frame = pd.DataFrame(\n",
    "    np.hstack((\n",
    "        gbrt.predict_proba(X_test).round(4),\n",
    "        gbrt.decision_function(X_test).reshape(-1, 1).round(4),\n",
    "        gbrt.predict(X_test).reshape(-1, 1),\n",
    "    )),\n",
    "    columns=['blue %', 'red %', 'decision function', 'answer']\n",
    ")\n",
    "frame['color'] = np.array(['blue', 'red'])[frame['answer'].astype(int)]\n",
    "frame"
   ]
  },
  {
   "cell_type": "markdown",
   "metadata": {},
   "source": [
    "Тук виждаме няколко неща:\n",
    "\n",
    "* Положителен резултат от decision function се оценява като 1.0, а отрицателен като 0.0.\n",
    "* Колкото по-голяма е стойността на функцията, толкова по уверен е алгоритъма – имаме 98% при 4.13 и 65% при 0.65.\n",
    "* Най-вероятно decision функцията минава през сигмоид."
   ]
  },
  {
   "cell_type": "markdown",
   "metadata": {
    "slideshow": {
     "slide_type": "subslide"
    }
   },
   "source": [
    "Нека наречтаем това на графика:"
   ]
  },
  {
   "cell_type": "code",
   "execution_count": 42,
   "metadata": {},
   "outputs": [
    {
     "data": {
      "image/png": "[encoded data removed]",
      "text/plain": [
       "<matplotlib.figure.Figure at 0x11552e128>"
      ]
     },
     "metadata": {},
     "output_type": "display_data"
    }
   ],
   "source": [
    "fig, axes = plt.subplots(1, 2, figsize=(13, 5))\n",
    "mglearn.tools.plot_2d_separator(gbrt, X, ax=axes[0], alpha=.4, fill=True, cm=mglearn.cm2)\n",
    "scores_image = mglearn.tools.plot_2d_scores(gbrt, X, ax=axes[1], alpha=.4, cm=mglearn.ReBl)\n",
    "\n",
    "for ax in axes:\n",
    "    mglearn.discrete_scatter(X_test[:, 0], X_test[:, 1], y_test, markers='^', ax=ax)\n",
    "    mglearn.discrete_scatter(X_train[:, 0], X_train[:, 1], y_train, markers='o', ax=ax)\n",
    "    ax.set_xlabel(\"Feature 0\")\n",
    "    ax.set_ylabel(\"Feature 1\")\n",
    "\n",
    "cbar = plt.colorbar(scores_image, ax=axes.tolist())\n",
    "axes[0].legend([\"Test class 0\", \"Test class 1\", \"Train class 0\", \"Train class 1\"], ncol=4, loc=(.1, 1.1));"
   ]
  },
  {
   "cell_type": "markdown",
   "metadata": {},
   "source": [
    "Фонът във втората диаграма показва стойността на decision функцията. Може да съобразим, че алгоритъма сравнява с някакъв treshold и така определя класа. В този конретен случай изглежда, че сравнява с 0."
   ]
  },
  {
   "cell_type": "markdown",
   "metadata": {
    "slideshow": {
     "slide_type": "subslide"
    }
   },
   "source": [
    "Бихме могли да го тестваме:"
   ]
  },
  {
   "cell_type": "code",
   "execution_count": 43,
   "metadata": {},
   "outputs": [
    {
     "data": {
      "text/plain": [
       "True"
      ]
     },
     "execution_count": 43,
     "metadata": {},
     "output_type": "execute_result"
    }
   ],
   "source": [
    "np.all(gbrt.predict(X_test) == (gbrt.decision_function(X_test) > 0))"
   ]
  },
  {
   "cell_type": "markdown",
   "metadata": {
    "slideshow": {
     "slide_type": "subslide"
    }
   },
   "source": [
    "Ако ползваме `decision_function` вместо `predict` може да наклоним класификатора в определена посока:"
   ]
  },
  {
   "cell_type": "code",
   "execution_count": 44,
   "metadata": {},
   "outputs": [
    {
     "name": "stdout",
     "output_type": "stream",
     "text": [
      "df > 0:  14\n",
      "df > 4:  7\n",
      "df > -4: 22\n"
     ]
    }
   ],
   "source": [
    "print(\"df > 0:  {}\".format(gbrt.predict(X_test).sum()))\n",
    "print(\"df > 4:  {}\".format((gbrt.decision_function(X_test) > 4).sum()))\n",
    "print(\"df > -4: {}\".format((gbrt.decision_function(X_test) > -4).sum()))"
   ]
  },
  {
   "cell_type": "markdown",
   "metadata": {
    "slideshow": {
     "slide_type": "subslide"
    }
   },
   "source": [
    "Може да начертаем decision boundary при различните варианти:"
   ]
  },
  {
   "cell_type": "code",
   "execution_count": 45,
   "metadata": {},
   "outputs": [
    {
     "data": {
      "image/png": "[encoded data removed]",
      "text/plain": [
       "<matplotlib.figure.Figure at 0x115521b00>"
      ]
     },
     "metadata": {},
     "output_type": "display_data"
    }
   ],
   "source": [
    "fig, axes = plt.subplots(1, 3, figsize=(18, 5))\n",
    "\n",
    "for (ax, threshold) in zip(axes, [0, 4, -4]):\n",
    "    mglearn.tools.plot_2d_separator(gbrt, X, ax=ax, alpha=.4, threshold=threshold, fill=True, cm=mglearn.cm2)\n",
    "    mglearn.discrete_scatter(X_test[:, 0], X_test[:, 1], y_test, markers='^', ax=ax)\n",
    "    mglearn.discrete_scatter(X_train[:, 0], X_train[:, 1], y_train, markers='o', ax=ax)\n",
    "    ax.set_title(\"df > {}\".format(threshold))"
   ]
  },
  {
   "cell_type": "markdown",
   "metadata": {},
   "source": [
    "Виждаме, че при промяна на стойноста, с която сравняваме, започваме да предпочитаме единия клас пред другия.\n",
    "\n",
    "Гледайки горната таблица, при > 4 имаме увереност над 98%. Така бихме могли да правим trade-off между decision и recall."
   ]
  },
  {
   "cell_type": "code",
   "execution_count": 46,
   "metadata": {
    "slideshow": {
     "slide_type": "subslide"
    }
   },
   "outputs": [
    {
     "name": "stdout",
     "output_type": "stream",
     "text": [
      "Report at df > 0:\n",
      "\n",
      "             precision    recall  f1-score   support\n",
      "\n",
      "          0       0.73      0.89      0.80         9\n",
      "          1       0.93      0.81      0.87        16\n",
      "\n",
      "avg / total       0.86      0.84      0.84        25\n",
      "\n",
      "Report at df > -4:\n",
      "\n",
      "             precision    recall  f1-score   support\n",
      "\n",
      "          0       0.67      0.22      0.33         9\n",
      "          1       0.68      0.94      0.79        16\n",
      "\n",
      "avg / total       0.68      0.68      0.63        25\n",
      "\n"
     ]
    }
   ],
   "source": [
    "print(\"Report at df > 0:\\n\")\n",
    "print(classification_report(y_test, gbrt.predict(X_test)))\n",
    "print(\"Report at df > -4:\\n\")\n",
    "print(classification_report(y_test, gbrt.decision_function(X_test) > -4))"
   ]
  },
  {
   "cell_type": "markdown",
   "metadata": {},
   "source": [
    "Може да видим, че за позитивня клас (1) сме увеличили recall-а от 0.81 до 0.94 за сметка на всичко останало. Понякога това може да желано."
   ]
  },
  {
   "cell_type": "markdown",
   "metadata": {
    "slideshow": {
     "slide_type": "subslide"
    }
   },
   "source": [
    "Всичко това ни е нуждо да обясним финалните метрики за класификация."
   ]
  },
  {
   "cell_type": "markdown",
   "metadata": {
    "slideshow": {
     "slide_type": "slide"
    }
   },
   "source": [
    "# Precision-recall curve\n",
    "\n",
    "За видим precision-recall curve, нека да започнем с друг dataset:"
   ]
  },
  {
   "cell_type": "code",
   "execution_count": 47,
   "metadata": {
    "collapsed": true
   },
   "outputs": [],
   "source": [
    "from mglearn.datasets import make_blobs\n",
    "\n",
    "X, y = make_blobs(n_samples=(4000, 500), centers=2, cluster_std=[7.0, 2], random_state=22)\n",
    "X_train, X_test, y_train, y_test = train_test_split(X, y, random_state=0)"
   ]
  },
  {
   "cell_type": "markdown",
   "metadata": {
    "slideshow": {
     "slide_type": "subslide"
    }
   },
   "source": [
    "Нека да видим как изглежда:"
   ]
  },
  {
   "cell_type": "code",
   "execution_count": 48,
   "metadata": {},
   "outputs": [
    {
     "data": {
      "image/png": "[encoded data removed]",
      "text/plain": [
       "<matplotlib.figure.Figure at 0x1115d78d0>"
      ]
     },
     "metadata": {},
     "output_type": "display_data"
    }
   ],
   "source": [
    "plt.figure(figsize=(10, 10))\n",
    "mglearn.discrete_scatter(X_test[:, 0], X_test[:, 1], y_test, markers='^')\n",
    "mglearn.discrete_scatter(X_train[:, 0], X_train[:, 1], y_train, markers='o');"
   ]
  },
  {
   "cell_type": "markdown",
   "metadata": {
    "slideshow": {
     "slide_type": "subslide"
    }
   },
   "source": [
    "Ще тренираме друг класификатор (`SVC`), който няма да обясняваме подробно. Просто може да знаем, че е класификатор:"
   ]
  },
  {
   "cell_type": "code",
   "execution_count": 49,
   "metadata": {
    "collapsed": true
   },
   "outputs": [],
   "source": [
    "from sklearn.svm import SVC\n",
    "\n",
    "svc = SVC(gamma=.05).fit(X_train, y_train)"
   ]
  },
  {
   "cell_type": "markdown",
   "metadata": {
    "slideshow": {
     "slide_type": "subslide"
    }
   },
   "source": [
    "Може да видим report с default-ния treshold:"
   ]
  },
  {
   "cell_type": "code",
   "execution_count": 50,
   "metadata": {},
   "outputs": [
    {
     "name": "stdout",
     "output_type": "stream",
     "text": [
      "             precision    recall  f1-score   support\n",
      "\n",
      "          0       0.96      0.96      0.96      1004\n",
      "          1       0.64      0.67      0.66       121\n",
      "\n",
      "avg / total       0.93      0.92      0.93      1125\n",
      "\n"
     ]
    }
   ],
   "source": [
    "print(classification_report(y_test, svc.predict(X_test)))"
   ]
  },
  {
   "cell_type": "markdown",
   "metadata": {
    "slideshow": {
     "slide_type": "subslide"
    }
   },
   "source": [
    "Интересно е да видим как ще променят recall и precision, ако променяме treshold-а. Може да начертаем графика с `precision_recall_curve`:"
   ]
  },
  {
   "cell_type": "code",
   "execution_count": 51,
   "metadata": {},
   "outputs": [
    {
     "data": {
      "image/png": "[encoded data removed]",
      "text/plain": [
       "<matplotlib.figure.Figure at 0x1114dda90>"
      ]
     },
     "metadata": {},
     "output_type": "display_data"
    }
   ],
   "source": [
    "from sklearn.metrics import precision_recall_curve\n",
    "\n",
    "precision, recall, thresholds = precision_recall_curve(y_test, svc.decision_function(X_test))\n",
    "\n",
    "close_zero = np.argmin(np.abs(thresholds))\n",
    "plt.plot(precision[close_zero], recall[close_zero], 'o', markersize=10, label='threshold zero', fillstyle='none', c='k', mew=2)\n",
    "plt.plot(precision, recall, label='precision recall curve')\n",
    "plt.xlabel('Precision')\n",
    "plt.ylabel('Recall');"
   ]
  },
  {
   "cell_type": "markdown",
   "metadata": {
    "slideshow": {
     "slide_type": "subslide"
    }
   },
   "source": [
    "На тази графика виждаме:\n",
    "\n",
    "* Точката избрана от модела (при $y$ = 1).\n",
    "* Връзката между presicion и recall при промяна на treshold-а.\n",
    "* В този модел виждаме, че може да получим precision = 0.5 при висок recall. Ако искаме повече precision трябва да жертваме recall.\n",
    "* Колкото по-близо е кривата до горния десен ъгъл, толкова по-добре – т.е. може да имаме едновременно висок precision и recall."
   ]
  },
  {
   "cell_type": "markdown",
   "metadata": {
    "slideshow": {
     "slide_type": "subslide"
    }
   },
   "source": [
    "Различните модели ще имат различна крива. Да пробваме с друг:"
   ]
  },
  {
   "cell_type": "code",
   "execution_count": 52,
   "metadata": {},
   "outputs": [
    {
     "data": {
      "image/png": "[encoded data removed]",
      "text/plain": [
       "<matplotlib.figure.Figure at 0x11149d5c0>"
      ]
     },
     "metadata": {},
     "output_type": "display_data"
    }
   ],
   "source": [
    "from sklearn.ensemble import RandomForestClassifier\n",
    "\n",
    "forest = RandomForestClassifier(n_estimators=100, random_state=0, max_features=2)\n",
    "forest.fit(X_train, y_train)\n",
    "\n",
    "precision_rf, recall_rf, tresholds_rf = precision_recall_curve(y_test, forest.predict_proba(X_test)[:, 1])\n",
    "\n",
    "close_default_rf = np.argmin(np.abs(tresholds_rf - 0.5))\n",
    "\n",
    "plt.plot(precision_rf, recall_rf, label='rf')\n",
    "plt.plot(precision_rf[close_default_rf], recall_rf[close_default_rf], '^', c='k', markersize=10, label='treshold 0.5 rf', fillstyle='none', mew=2)\n",
    "plt.xlabel('Precision')\n",
    "plt.xlabel('Recall');"
   ]
  },
  {
   "cell_type": "markdown",
   "metadata": {
    "slideshow": {
     "slide_type": "subslide"
    }
   },
   "source": [
    "Може да видим и двете заедно на една графика:"
   ]
  },
  {
   "cell_type": "code",
   "execution_count": 53,
   "metadata": {},
   "outputs": [
    {
     "data": {
      "image/png": "[encoded data removed]",
      "text/plain": [
       "<matplotlib.figure.Figure at 0x1117bac50>"
      ]
     },
     "metadata": {},
     "output_type": "display_data"
    }
   ],
   "source": [
    "plt.plot(precision, recall, label='svc')\n",
    "plt.plot(precision_rf, recall_rf, label='rf')\n",
    "plt.plot(precision[close_zero], recall[close_zero], 'o', markersize=10, label='treshold zero svc', fillstyle='none', c='k', mew=2)\n",
    "plt.plot(precision_rf[close_default_rf], recall_rf[close_default_rf], '^', c='k', markersize=10, label='treshold 0.5 rf', fillstyle='none', mew=2)\n",
    "plt.xlabel('Precision')\n",
    "plt.xlabel('Recall')\n",
    "plt.legend(loc='best');"
   ]
  },
  {
   "cell_type": "markdown",
   "metadata": {
    "slideshow": {
     "slide_type": "subslide"
    }
   },
   "source": [
    "От графиката се вижда, че support vector машината се оправя по-добре в средната точка, но random forest-а се справя по-добре с крайностите. Това не се вижда в $f_1$ score-а:"
   ]
  },
  {
   "cell_type": "code",
   "execution_count": 54,
   "metadata": {},
   "outputs": [
    {
     "name": "stdout",
     "output_type": "stream",
     "text": [
      "f₁ for SVC:           0.6558704453441295\n",
      "f₁ for Random Forest: 0.6097560975609757\n"
     ]
    }
   ],
   "source": [
    "print(\"f₁ for SVC:           {}\".format(f1_score(y_test, svc.predict(X_test))))\n",
    "print(\"f₁ for Random Forest: {}\".format(f1_score(y_test, forest.predict(X_test))))"
   ]
  },
  {
   "cell_type": "markdown",
   "metadata": {
    "slideshow": {
     "slide_type": "subslide"
    }
   },
   "source": [
    "Друга метрика е площта под кривата. scikit-learn има функция и за това:"
   ]
  },
  {
   "cell_type": "code",
   "execution_count": 55,
   "metadata": {},
   "outputs": [
    {
     "name": "stdout",
     "output_type": "stream",
     "text": [
      "AUC for SVC:           0.6663140319391998\n",
      "AUC for Random Forest: 0.659559370099291\n"
     ]
    }
   ],
   "source": [
    "from sklearn.metrics import average_precision_score\n",
    "\n",
    "print(\"AUC for SVC:           {}\".format(average_precision_score(y_test, svc.decision_function(X_test))))\n",
    "print(\"AUC for Random Forest: {}\".format(average_precision_score(y_test, forest.predict_proba(X_test)[:, 1])))"
   ]
  },
  {
   "cell_type": "markdown",
   "metadata": {
    "slideshow": {
     "slide_type": "slide"
    }
   },
   "source": [
    "# Reciever operating characteristics\n",
    "\n",
    "ROC е друга метрика, която може да погледнем. Вместо recall и precision съпоставя две други метрики – false positive rate и true positive rate:\n",
    "\n",
    "$$\n",
    "\\operatorname{TPR} = \\frac{\\operatorname{TP}}{\\operatorname{TP}+\\operatorname{FN}}\n",
    "$$\n",
    "\n",
    "$$\n",
    "\\operatorname{FPR} = \\frac{\\operatorname{FP}}{\\operatorname{FP}+\\operatorname{TN}}\n",
    "$$\n",
    "\n",
    "Интуитивно:\n",
    "* TPR е отношението на броя имейли, за които сме казали \"спам\" към всички спам мейли.\n",
    "* FPR е отношението на броя имейли, за които сме казали \"спам\" към всички не спам мейли.\n",
    "* TPR е просто recall."
   ]
  },
  {
   "cell_type": "markdown",
   "metadata": {
    "slideshow": {
     "slide_type": "subslide"
    }
   },
   "source": [
    "Може да си начертаем графика:"
   ]
  },
  {
   "cell_type": "code",
   "execution_count": 56,
   "metadata": {},
   "outputs": [
    {
     "data": {
      "image/png": "[encoded data removed]",
      "text/plain": [
       "<matplotlib.figure.Figure at 0x1142b2898>"
      ]
     },
     "metadata": {},
     "output_type": "display_data"
    }
   ],
   "source": [
    "from sklearn.metrics import roc_curve\n",
    "fpr, tpr, tresholds = roc_curve(y_test, svc.decision_function(X_test))\n",
    "\n",
    "plt.plot(fpr, tpr, label=\"ROC Curve\")\n",
    "plt.xlabel(\"False Positive Rate\")\n",
    "plt.ylabel(\"True Positive Rate\")\n",
    "close_zero = np.argmin(np.abs(tresholds))\n",
    "plt.plot(fpr[close_zero], tpr[close_zero], 'o', fillstyle='none', c='k', markersize=10);"
   ]
  },
  {
   "cell_type": "markdown",
   "metadata": {
    "slideshow": {
     "slide_type": "-"
    }
   },
   "source": [
    "Идеалната крива е максимално близка до горния ляв ъгъл. От графиката може да видим, че след един момент нататък (около 0.9), може да увеличим recall само на цената на голямо увеличение на FPR."
   ]
  },
  {
   "cell_type": "markdown",
   "metadata": {
    "slideshow": {
     "slide_type": "subslide"
    }
   },
   "source": [
    "Може да направим същото за Random Forest класификатора:"
   ]
  },
  {
   "cell_type": "code",
   "execution_count": 57,
   "metadata": {},
   "outputs": [
    {
     "data": {
      "image/png": "[encoded data removed]",
      "text/plain": [
       "<matplotlib.figure.Figure at 0x111707b38>"
      ]
     },
     "metadata": {},
     "output_type": "display_data"
    }
   ],
   "source": [
    "fpr_rf, tpr_rf, tresholds_rf = roc_curve(y_test, forest.predict_proba(X_test)[:, 1])\n",
    "\n",
    "plt.plot(fpr_rf, tpr_rf, label=\"ROC Curve\")\n",
    "plt.xlabel(\"False Positive Rate\")\n",
    "plt.ylabel(\"True Positive Rate\")\n",
    "close_default_rf = np.argmin(np.abs(tresholds_rf - 0.5))\n",
    "plt.plot(fpr_rf[close_default_rf], tpr_rf[close_default_rf], 'o', fillstyle='none', c='k', markersize=10);"
   ]
  },
  {
   "cell_type": "markdown",
   "metadata": {
    "slideshow": {
     "slide_type": "subslide"
    }
   },
   "source": [
    "Или и двете заедно:"
   ]
  },
  {
   "cell_type": "code",
   "execution_count": 58,
   "metadata": {},
   "outputs": [
    {
     "data": {
      "image/png": "[encoded data removed]",
      "text/plain": [
       "<matplotlib.figure.Figure at 0x1150259b0>"
      ]
     },
     "metadata": {},
     "output_type": "display_data"
    }
   ],
   "source": [
    "plt.plot(fpr, tpr, label=\"svm\")\n",
    "plt.plot(fpr[close_zero], tpr[close_zero], 'o', fillstyle='none', c='k', markersize=10)\n",
    "\n",
    "plt.plot(fpr_rf, tpr_rf, label=\"random forest\")\n",
    "plt.plot(fpr_rf[close_default_rf], tpr_rf[close_default_rf], '^', fillstyle='none', c='k', markersize=10);\n",
    "\n",
    "plt.xlabel(\"False Positive Rate\")\n",
    "plt.ylabel(\"True Positive Rate\")\n",
    "plt.legend(loc='best');"
   ]
  },
  {
   "cell_type": "markdown",
   "metadata": {
    "slideshow": {
     "slide_type": "subslide"
    }
   },
   "source": [
    "Отново, имаме метрика събираща лицето под кривата:"
   ]
  },
  {
   "cell_type": "code",
   "execution_count": 59,
   "metadata": {},
   "outputs": [
    {
     "name": "stdout",
     "output_type": "stream",
     "text": [
      "AUC for SVC:           0.9162935036712655\n",
      "AUC for Random Forest: 0.9366953672911658\n"
     ]
    }
   ],
   "source": [
    "from sklearn.metrics import roc_auc_score\n",
    "\n",
    "print(\"AUC for SVC:           {}\".format(roc_auc_score(y_test, svc.decision_function(X_test))))\n",
    "print(\"AUC for Random Forest: {}\".format(roc_auc_score(y_test, forest.predict_proba(X_test)[:, 1])))"
   ]
  },
  {
   "cell_type": "markdown",
   "metadata": {
    "slideshow": {
     "slide_type": "slide"
    }
   },
   "source": [
    "# Logarithmic loss (LogLoss)\n",
    "\n",
    "При двоична класификация:\n",
    "\n",
    "$$\n",
    "\\operatorname{LogLoss} = - \\frac {1}{n} \\sum_{i=1}^n \\Big( y_i \\ln(p_i) + (1 - y_i) \\ln(1 - p_i) \\Big)\n",
    "$$\n",
    "\n",
    "Където:\n",
    "\n",
    "* $y_i \\in \\{0, 1\\}$ – класът на $i$-тия елемент\n",
    "* $p_i$ – вероятността предвиждането на $i$-тия елемент да е 1"
   ]
  },
  {
   "cell_type": "markdown",
   "metadata": {
    "slideshow": {
     "slide_type": "subslide"
    }
   },
   "source": [
    "Пример:\n",
    "\n",
    "Предсказваме клас 1 с вероятност 0.9 и истинския клас е 1:\n",
    "\n",
    "\n",
    "$$\n",
    "\\operatorname{LogLoss} = - \\big ( 1 * log(0.9) + (1 - 1) * log(1 - 0.9) \\big ) =\n",
    "$$\n",
    "\n",
    "$$\n",
    "= -  \\big (-0.105 + 0  \\big ) = 0.105\n",
    "$$\n",
    "\n",
    "\n",
    "\n",
    "Предсказваме клас 1 с вероятност 0.9 и истинския клас е 0:\n",
    "\n",
    "\n",
    "$$\n",
    "\\operatorname{LogLoss} = - \\big ( 0 * log(0.9) + (1 - 0) * log(1 - 0.9) \\big ) =\n",
    "$$\n",
    "\n",
    "$$\n",
    "= -  \\big ( 0  - 2.3  \\big ) = 2.3\n",
    "$$\n"
   ]
  },
  {
   "cell_type": "markdown",
   "metadata": {
    "slideshow": {
     "slide_type": "subslide"
    }
   },
   "source": [
    "При много класове:\n",
    "\n",
    "$$\n",
    "\\operatorname{LogLoss} = - \\frac {1}{n} \\sum_{i=1}^n \\sum_{j=1}^l \\sigma_{ij}\\ln(p_{ij} ) \n",
    "$$\n",
    "\n",
    "Където:\n",
    "\n",
    "* $l \\in \\mathbb{N}$ – броя класове\n",
    "* $\\sigma_{ij} \\in \\{0, 1\\}$ – 1 ако $i$-тия елемент е от клас $j$, иначе 0\n",
    "* $p_{ij} \\in [0, 1]$ – вероятността (според модела) $i$-тия елемент да е от клас $j$"
   ]
  },
  {
   "cell_type": "code",
   "execution_count": 60,
   "metadata": {
    "collapsed": true,
    "slideshow": {
     "slide_type": "skip"
    }
   },
   "outputs": [],
   "source": [
    "from sklearn.metrics import log_loss, accuracy_score\n",
    "\n",
    "def plot_log_loss():\n",
    "    plt.figure(figsize=(16, 4))\n",
    "    plt.subplot(1,2,1)\n",
    "    plt.title('Клас 1')\n",
    "    x = pd.np.linspace(0, 1)\n",
    "    loss_log = [log_loss([1], [x], labels=[0, 1]) for x in x]\n",
    "\n",
    "    plt.plot(x, loss_log); plt.grid();\n",
    "    plt.plot(x, 1 -x);\n",
    "    plt.ylim(-0.1, 8)\n",
    "    plt.ylabel('Натрупана грешка за 1 семпъл')\n",
    "    plt.xlabel('Разлика във вероятността от истинския клас')\n",
    "\n",
    "    plt.subplot(1,2,2)\n",
    "    plt.title('Клас 0')\n",
    "    \n",
    "    x = pd.np.linspace(0, 1)\n",
    "    loss_log = [log_loss([0], [x], labels=[0, 1]) for x in x]\n",
    "\n",
    "    plt.ylim(-0.1, 8)\n",
    "    plt.plot(x, loss_log); plt.grid();\n",
    "    plt.plot(x, x);\n",
    "    plt.xlabel('Разлика във вероятността от истинския клас')\n",
    "    plt.legend(['LogLoss', 'Абсолютна разлика'])"
   ]
  },
  {
   "cell_type": "code",
   "execution_count": 61,
   "metadata": {
    "slideshow": {
     "slide_type": "subslide"
    }
   },
   "outputs": [
    {
     "data": {
      "image/png": "[encoded data removed]",
      "text/plain": [
       "<matplotlib.figure.Figure at 0x115075898>"
      ]
     },
     "metadata": {},
     "output_type": "display_data"
    }
   ],
   "source": [
    "plot_log_loss()"
   ]
  },
  {
   "cell_type": "markdown",
   "metadata": {},
   "source": [
    "Вижда се, че тази функция наказва модел, който е много уверен в грешните неща. Оптимизирането й води до модел, е по-консервативен във вероятностите си.\n",
    "\n",
    "Това е функцията, която се оптимизира при логистична регресия."
   ]
  },
  {
   "cell_type": "markdown",
   "metadata": {
    "slideshow": {
     "slide_type": "subslide"
    }
   },
   "source": [
    "Най-добрия константен модел:\n",
    "\n",
    "Настройваме вероятностите за всеки клас да са равни на съответните честоти на класа.\n",
    "    \n",
    "Dataset:\n",
    "- 10 кучета\n",
    "- 90 котки\n",
    "\n",
    "Вероятностите са [0.1, 0.9] за двата класа."
   ]
  },
  {
   "cell_type": "markdown",
   "metadata": {
    "slideshow": {
     "slide_type": "slide"
    }
   },
   "source": [
    "# Калибрирани модели\n",
    "\n",
    "`predict_proba` връща вероятности, които модела е определил. Това може да не са реалните вероятности, обаче.\n",
    "\n",
    "Наричаме един модел \"калибриран\" когато двете съвпадат. Калибрирането на модели е сложна тема, която може и да разгледаме по-натам. Засега може да се пробвате със следния paper:\n",
    "\n",
    "http://www.machinelearning.org/proceedings/icml2005/papers/079_GoodProbabilities_NiculescuMizilCaruana.pdf"
   ]
  },
  {
   "cell_type": "markdown",
   "metadata": {
    "slideshow": {
     "slide_type": "slide"
    }
   },
   "source": [
    "# Sensitivity and specificity\n",
    "\n",
    "Recall и precision са само част от голям набор от метрики, базирани на TP, FP, TN и FN. В machine learning те се ползват най-често, но има и други. Ако ви е любопитно, wikipedia има много добра статия по въпроса:\n",
    "\n",
    "https://en.wikipedia.org/wiki/Sensitivity_and_specificity"
   ]
  },
  {
   "cell_type": "markdown",
   "metadata": {
    "collapsed": true,
    "slideshow": {
     "slide_type": "slide"
    }
   },
   "source": [
    "# Cross Validation\n",
    "\n",
    "Да се тренира и тества модел върху едни и същи данни се счита за грешка. Достатъчно сложен модел може да научи перфектно резултата за всеки вход за данните с които се тренира. Това не означава, че ще генерализира добре."
   ]
  },
  {
   "cell_type": "markdown",
   "metadata": {
    "slideshow": {
     "slide_type": "subslide"
    }
   },
   "source": [
    "В `sklearn` можем да използваме функцията `train_test_split` за бързо разделяне на данните на две части:\n",
    "\n",
    "1. За трениране на модел: `X_train` и `y_train`\n",
    "2. За оценяване на модел: `X_test` и `y_test`\n",
    "\n",
    "`train_test_split` прави и случайно разбъркване на данните."
   ]
  },
  {
   "cell_type": "code",
   "execution_count": 62,
   "metadata": {
    "slideshow": {
     "slide_type": "subslide"
    }
   },
   "outputs": [
    {
     "name": "stdout",
     "output_type": "stream",
     "text": [
      "Train shape: (90, 4) (90,)\n",
      "Test shape:  (60, 4) (60,)\n"
     ]
    }
   ],
   "source": [
    "from sklearn.datasets import load_iris\n",
    "\n",
    "iris = load_iris()\n",
    "X_train, X_test, y_train, y_test = train_test_split(iris.data, iris.target, test_size=0.4, random_state=0)\n",
    "\n",
    "print(\"Train shape:\", X_train.shape, y_train.shape)\n",
    "print(\"Test shape: \", X_test.shape, y_test.shape)"
   ]
  },
  {
   "cell_type": "markdown",
   "metadata": {
    "slideshow": {
     "slide_type": "subslide"
    }
   },
   "source": [
    "# Валидационно множество\n",
    "\n",
    "Имаме следната ситуация:\n",
    "\n",
    "* Когато настройваме различни хипер-параметри (`alpha`, `max_depth`, `n_features`, и т.н.) се появява шанс за овърфит.\n",
    "* При значителен брой итерации върху тест сета, информация за тест сета може да изтече към модела.\n",
    "* В този момент модела става оптимален за конкретния тест сет, но не генерализира толкова добре на нови данни.\n",
    "\n",
    "За да се реши този проблем се прави още едно разделяне на данните, което се нарича \"Валидационнен сет\"."
   ]
  },
  {
   "cell_type": "markdown",
   "metadata": {
    "slideshow": {
     "slide_type": "subslide"
    }
   },
   "source": [
    "На практика данните се разделят на 3 части:\n",
    "\n",
    "1. Тренировачно множество\n",
    "   * Служи за многократно трениране на модела с различни настройки (хипер параметри).\n",
    "2. Валидационно множество\n",
    "   * Служи като тестово множество за всяко претрениране на модела с различни настройки.\n",
    "   * След изседване на различни комбинации на параметри се избира моделът, показващ най-добър резултат върху валидационното множество.\n",
    "3. Тестово множество\n",
    "   * Използва се само веднъж, след като сме приключили с експериментите и сме избрали най-добрия модел.\n",
    "   * Целта е да видим какви са показателите на модела върху нови данни."
   ]
  },
  {
   "cell_type": "markdown",
   "metadata": {
    "slideshow": {
     "slide_type": "subslide"
    }
   },
   "source": [
    "Или на картинка:\n",
    "\n",
    "![img](https://am207.github.io/2017/wiki/images/train-validate-test.png)"
   ]
  },
  {
   "cell_type": "markdown",
   "metadata": {
    "slideshow": {
     "slide_type": "subslide"
    }
   },
   "source": [
    "# Какво става ако данните не са достатъчно?\n",
    "\n",
    "Може да ползваме cross (кръстосана) валидация.\n",
    "\n",
    "* Крос валидацията разделя тренировачното множество на $k$ части.\n",
    "* Прави $k$ на брой тренирания с $k - 1$ части и винаги оставя една част за валидация.\n",
    "* Оцененката от крос валидацията е средната оценка от всички $k$ тренирания и оценявания."
   ]
  },
  {
   "cell_type": "markdown",
   "metadata": {
    "slideshow": {
     "slide_type": "subslide"
    }
   },
   "source": [
    "Или на картинка:\n",
    "\n",
    "![cv](http://blog-test.goldenhelix.com/wp-content/uploads/2015/04/B-fig-1.jpg)"
   ]
  },
  {
   "cell_type": "markdown",
   "metadata": {
    "slideshow": {
     "slide_type": "subslide"
    }
   },
   "source": [
    "Може да ползваме `cross_val_score` за да направи тази операция:"
   ]
  },
  {
   "cell_type": "code",
   "execution_count": 63,
   "metadata": {},
   "outputs": [
    {
     "name": "stdout",
     "output_type": "stream",
     "text": [
      "[ 1.          1.          1.          0.93333333  0.93333333  0.93333333\n",
      "  0.8         0.93333333  1.          1.        ]\n",
      "Mean: 0.9533333333333334\n",
      "Std:  0.059999999999999984\n"
     ]
    }
   ],
   "source": [
    "from sklearn.model_selection import cross_val_score\n",
    "from sklearn.linear_model import LogisticRegression\n",
    "\n",
    "logistic = LogisticRegression()\n",
    "\n",
    "scores = cross_val_score(logistic, iris.data, iris.target, cv=10, scoring='accuracy')\n",
    "print(scores)\n",
    "print(\"Mean: {}\".format(scores.mean()))\n",
    "print(\"Std:  {}\".format(scores.std()))"
   ]
  },
  {
   "cell_type": "markdown",
   "metadata": {
    "slideshow": {
     "slide_type": "subslide"
    }
   },
   "source": [
    "Обърнете внимание, че:\n",
    "\n",
    "* Крос валидацията показва дали има вариация в модела.\n",
    "* Облекчава проблема с неприятен разрез на данните от `train_test_split`.\n",
    "* По подразбиране `cross_val_score` запазва пропорциите на класовете в двете множествата. \n",
    "* Може да се наложи предварително да размесим данните - не става автоматично.\n",
    "* За всяко оценяване трябва да бъдат направени k тренирания и оценявания на различни части от тренировачното множество."
   ]
  },
  {
   "cell_type": "markdown",
   "metadata": {
    "slideshow": {
     "slide_type": "subslide"
    }
   },
   "source": [
    "## Параметри\n",
    "\n",
    "Параметърът `cv` може да приема следните стойности:\n",
    "\n",
    "* По подразбиране `None` използва три-кратно крос валидиране.\n",
    "* `int` - k-кратно крос валидиране, където k е подаденото число.\n",
    "* Обект, използван за генериране на валидационни множества, например `StratifiedKFold`.\n",
    "* Python iterable връщаш двойка `(train, validation)` множества"
   ]
  },
  {
   "cell_type": "markdown",
   "metadata": {
    "slideshow": {
     "slide_type": "subslide"
    }
   },
   "source": [
    "## Допълнителна информация\n",
    "\n",
    "Има друга функция, `cross_validate` която дава повече информация:"
   ]
  },
  {
   "cell_type": "code",
   "execution_count": 64,
   "metadata": {},
   "outputs": [
    {
     "data": {
      "text/html": [
       "<div>\n",
       "<style>\n",
       "    .dataframe thead tr:only-child th {\n",
       "        text-align: right;\n",
       "    }\n",
       "\n",
       "    .dataframe thead th {\n",
       "        text-align: left;\n",
       "    }\n",
       "\n",
       "    .dataframe tbody tr th {\n",
       "        vertical-align: top;\n",
       "    }\n",
       "</style>\n",
       "<table border=\"1\" class=\"dataframe\">\n",
       "  <thead>\n",
       "    <tr style=\"text-align: right;\">\n",
       "      <th></th>\n",
       "      <th>fit_time</th>\n",
       "      <th>score_time</th>\n",
       "      <th>test_accuracy</th>\n",
       "      <th>test_f1_macro</th>\n",
       "      <th>test_precision_macro</th>\n",
       "      <th>test_recall_macro</th>\n",
       "    </tr>\n",
       "  </thead>\n",
       "  <tbody>\n",
       "    <tr>\n",
       "      <th>0</th>\n",
       "      <td>0.000647</td>\n",
       "      <td>0.001616</td>\n",
       "      <td>1.000000</td>\n",
       "      <td>1.000000</td>\n",
       "      <td>1.000000</td>\n",
       "      <td>1.000000</td>\n",
       "    </tr>\n",
       "    <tr>\n",
       "      <th>1</th>\n",
       "      <td>0.000541</td>\n",
       "      <td>0.001138</td>\n",
       "      <td>0.966667</td>\n",
       "      <td>0.966583</td>\n",
       "      <td>0.969697</td>\n",
       "      <td>0.966667</td>\n",
       "    </tr>\n",
       "    <tr>\n",
       "      <th>2</th>\n",
       "      <td>0.000465</td>\n",
       "      <td>0.001313</td>\n",
       "      <td>0.933333</td>\n",
       "      <td>0.933333</td>\n",
       "      <td>0.933333</td>\n",
       "      <td>0.933333</td>\n",
       "    </tr>\n",
       "    <tr>\n",
       "      <th>3</th>\n",
       "      <td>0.000494</td>\n",
       "      <td>0.001144</td>\n",
       "      <td>0.900000</td>\n",
       "      <td>0.897698</td>\n",
       "      <td>0.923077</td>\n",
       "      <td>0.900000</td>\n",
       "    </tr>\n",
       "    <tr>\n",
       "      <th>4</th>\n",
       "      <td>0.000633</td>\n",
       "      <td>0.001308</td>\n",
       "      <td>1.000000</td>\n",
       "      <td>1.000000</td>\n",
       "      <td>1.000000</td>\n",
       "      <td>1.000000</td>\n",
       "    </tr>\n",
       "  </tbody>\n",
       "</table>\n",
       "</div>"
      ],
      "text/plain": [
       "   fit_time  score_time  test_accuracy  test_f1_macro  test_precision_macro  \\\n",
       "0  0.000647    0.001616       1.000000       1.000000              1.000000   \n",
       "1  0.000541    0.001138       0.966667       0.966583              0.969697   \n",
       "2  0.000465    0.001313       0.933333       0.933333              0.933333   \n",
       "3  0.000494    0.001144       0.900000       0.897698              0.923077   \n",
       "4  0.000633    0.001308       1.000000       1.000000              1.000000   \n",
       "\n",
       "   test_recall_macro  \n",
       "0           1.000000  \n",
       "1           0.966667  \n",
       "2           0.933333  \n",
       "3           0.900000  \n",
       "4           1.000000  "
      ]
     },
     "execution_count": 64,
     "metadata": {},
     "output_type": "execute_result"
    }
   ],
   "source": [
    "from sklearn.model_selection import cross_validate\n",
    "\n",
    "scoring = ['accuracy', 'precision_macro', 'recall_macro', 'f1_macro']\n",
    "\n",
    "logistic = LogisticRegression()\n",
    "scores = cross_validate(logistic, iris.data, iris.target, scoring=scoring, cv=5, return_train_score=False)\n",
    "pd.DataFrame(scores)"
   ]
  },
  {
   "cell_type": "markdown",
   "metadata": {
    "slideshow": {
     "slide_type": "subslide"
    }
   },
   "source": [
    "Ако търсим средни стойности, може да се пробваме с `describe`:"
   ]
  },
  {
   "cell_type": "code",
   "execution_count": 65,
   "metadata": {},
   "outputs": [
    {
     "data": {
      "text/html": [
       "<div>\n",
       "<style>\n",
       "    .dataframe thead tr:only-child th {\n",
       "        text-align: right;\n",
       "    }\n",
       "\n",
       "    .dataframe thead th {\n",
       "        text-align: left;\n",
       "    }\n",
       "\n",
       "    .dataframe tbody tr th {\n",
       "        vertical-align: top;\n",
       "    }\n",
       "</style>\n",
       "<table border=\"1\" class=\"dataframe\">\n",
       "  <thead>\n",
       "    <tr style=\"text-align: right;\">\n",
       "      <th></th>\n",
       "      <th>fit_time</th>\n",
       "      <th>score_time</th>\n",
       "      <th>test_accuracy</th>\n",
       "      <th>test_f1_macro</th>\n",
       "      <th>test_precision_macro</th>\n",
       "      <th>test_recall_macro</th>\n",
       "    </tr>\n",
       "  </thead>\n",
       "  <tbody>\n",
       "    <tr>\n",
       "      <th>count</th>\n",
       "      <td>5.000000</td>\n",
       "      <td>5.000000</td>\n",
       "      <td>5.000000</td>\n",
       "      <td>5.000000</td>\n",
       "      <td>5.000000</td>\n",
       "      <td>5.000000</td>\n",
       "    </tr>\n",
       "    <tr>\n",
       "      <th>mean</th>\n",
       "      <td>0.000556</td>\n",
       "      <td>0.001304</td>\n",
       "      <td>0.960000</td>\n",
       "      <td>0.959523</td>\n",
       "      <td>0.965221</td>\n",
       "      <td>0.960000</td>\n",
       "    </tr>\n",
       "    <tr>\n",
       "      <th>std</th>\n",
       "      <td>0.000082</td>\n",
       "      <td>0.000194</td>\n",
       "      <td>0.043461</td>\n",
       "      <td>0.044257</td>\n",
       "      <td>0.036167</td>\n",
       "      <td>0.043461</td>\n",
       "    </tr>\n",
       "    <tr>\n",
       "      <th>min</th>\n",
       "      <td>0.000465</td>\n",
       "      <td>0.001138</td>\n",
       "      <td>0.900000</td>\n",
       "      <td>0.897698</td>\n",
       "      <td>0.923077</td>\n",
       "      <td>0.900000</td>\n",
       "    </tr>\n",
       "    <tr>\n",
       "      <th>25%</th>\n",
       "      <td>0.000494</td>\n",
       "      <td>0.001144</td>\n",
       "      <td>0.933333</td>\n",
       "      <td>0.933333</td>\n",
       "      <td>0.933333</td>\n",
       "      <td>0.933333</td>\n",
       "    </tr>\n",
       "    <tr>\n",
       "      <th>50%</th>\n",
       "      <td>0.000541</td>\n",
       "      <td>0.001308</td>\n",
       "      <td>0.966667</td>\n",
       "      <td>0.966583</td>\n",
       "      <td>0.969697</td>\n",
       "      <td>0.966667</td>\n",
       "    </tr>\n",
       "    <tr>\n",
       "      <th>75%</th>\n",
       "      <td>0.000633</td>\n",
       "      <td>0.001313</td>\n",
       "      <td>1.000000</td>\n",
       "      <td>1.000000</td>\n",
       "      <td>1.000000</td>\n",
       "      <td>1.000000</td>\n",
       "    </tr>\n",
       "    <tr>\n",
       "      <th>max</th>\n",
       "      <td>0.000647</td>\n",
       "      <td>0.001616</td>\n",
       "      <td>1.000000</td>\n",
       "      <td>1.000000</td>\n",
       "      <td>1.000000</td>\n",
       "      <td>1.000000</td>\n",
       "    </tr>\n",
       "  </tbody>\n",
       "</table>\n",
       "</div>"
      ],
      "text/plain": [
       "       fit_time  score_time  test_accuracy  test_f1_macro  \\\n",
       "count  5.000000    5.000000       5.000000       5.000000   \n",
       "mean   0.000556    0.001304       0.960000       0.959523   \n",
       "std    0.000082    0.000194       0.043461       0.044257   \n",
       "min    0.000465    0.001138       0.900000       0.897698   \n",
       "25%    0.000494    0.001144       0.933333       0.933333   \n",
       "50%    0.000541    0.001308       0.966667       0.966583   \n",
       "75%    0.000633    0.001313       1.000000       1.000000   \n",
       "max    0.000647    0.001616       1.000000       1.000000   \n",
       "\n",
       "       test_precision_macro  test_recall_macro  \n",
       "count              5.000000           5.000000  \n",
       "mean               0.965221           0.960000  \n",
       "std                0.036167           0.043461  \n",
       "min                0.923077           0.900000  \n",
       "25%                0.933333           0.933333  \n",
       "50%                0.969697           0.966667  \n",
       "75%                1.000000           1.000000  \n",
       "max                1.000000           1.000000  "
      ]
     },
     "execution_count": 65,
     "metadata": {},
     "output_type": "execute_result"
    }
   ],
   "source": [
    "pd.DataFrame(scores).describe()"
   ]
  },
  {
   "cell_type": "markdown",
   "metadata": {
    "slideshow": {
     "slide_type": "subslide"
    }
   },
   "source": [
    "# Leave One Out\n",
    "\n",
    "Частния случай $k = n$ се нарича leave one out. В него правим по едно трениране за всеки елемент:"
   ]
  },
  {
   "cell_type": "code",
   "execution_count": 66,
   "metadata": {},
   "outputs": [
    {
     "name": "stdout",
     "output_type": "stream",
     "text": [
      "* train: [2 3 4] [ 0.2  0.3  0.4]   test: [1] [ 0.1]\n",
      "* train: [1 3 4] [ 0.1  0.3  0.4]   test: [2] [ 0.2]\n",
      "* train: [1 2 4] [ 0.1  0.2  0.4]   test: [3] [ 0.3]\n",
      "* train: [1 2 3] [ 0.1  0.2  0.3]   test: [4] [ 0.4]\n"
     ]
    }
   ],
   "source": [
    "from sklearn.model_selection import LeaveOneOut\n",
    "\n",
    "X = np.array([1, 2, 3, 4])\n",
    "y = np.array([0.1, 0.2, 0.3, 0.4])\n",
    "\n",
    "leave_one_out = LeaveOneOut()\n",
    "for train_idx, test_idx in leave_one_out.split(X):\n",
    "    print(\"* train: {} {}   test: {} {}\".format(X[train_idx], y[train_idx], X[test_idx], y[test_idx]))"
   ]
  },
  {
   "cell_type": "markdown",
   "metadata": {
    "slideshow": {
     "slide_type": "subslide"
    }
   },
   "source": [
    "Може да ползваме `LeaveOneOut` за оценка по следния начин:"
   ]
  },
  {
   "cell_type": "code",
   "execution_count": 67,
   "metadata": {},
   "outputs": [
    {
     "name": "stdout",
     "output_type": "stream",
     "text": [
      "0.953333333333\n",
      "[ 1.  1.  1.  1.  1.  1.  1.  1.  1.  1.  1.  1.  1.  1.  1.  1.  1.  1.\n",
      "  1.  1.  1.  1.  1.  1.  1.  1.  1.  1.  1.  1.  1.  1.  1.  1.  1.  1.\n",
      "  1.  1.  1.  1.  1.  1.  1.  1.  1.  1.  1.  1.  1.  1.  1.  1.  1.  1.\n",
      "  1.  1.  1.  1.  1.  1.  1.  1.  1.  1.  1.  1.  0.  1.  1.  1.  0.  1.\n",
      "  1.  1.  1.  1.  1.  1.  1.  1.  1.  1.  1.  0.  0.  0.  1.  1.  1.  1.\n",
      "  1.  1.  1.  1.  1.  1.  1.  1.  1.  1.  1.  1.  1.  1.  1.  1.  1.  1.\n",
      "  1.  1.  1.  1.  1.  1.  1.  1.  1.  1.  1.  1.  1.  1.  1.  1.  1.  1.\n",
      "  1.  1.  1.  0.  1.  1.  1.  0.  1.  1.  1.  1.  1.  1.  1.  1.  1.  1.\n",
      "  1.  1.  1.  1.  1.  1.]\n"
     ]
    }
   ],
   "source": [
    "logistic = LogisticRegression()\n",
    "scores = cross_val_score(logistic, iris.data, iris.target, cv=LeaveOneOut())\n",
    "\n",
    "print(scores.mean())\n",
    "print(scores)"
   ]
  },
  {
   "cell_type": "markdown",
   "metadata": {
    "slideshow": {
     "slide_type": "subslide"
    }
   },
   "source": [
    "Има и `cross_val_predict`, който прави предвиждания:"
   ]
  },
  {
   "cell_type": "code",
   "execution_count": 68,
   "metadata": {},
   "outputs": [
    {
     "name": "stdout",
     "output_type": "stream",
     "text": [
      "[0 0 0 0 0 0 0 0 0 0 0 0 0 0 0 0 0 0 0 0 0 0 0 0 0 0 0 0 0 0 0 0 0 0 0 0 0\n",
      " 0 0 0 0 0 0 0 0 0 0 0 0 0 1 1 1 1 1 1 1 1 1 1 1 1 1 1 1 1 2 1 1 1 2 1 1 1\n",
      " 1 1 1 1 1 1 1 1 1 2 2 2 1 1 1 1 1 1 1 1 1 1 1 1 1 1 2 2 2 2 2 2 2 2 2 2 2\n",
      " 2 2 2 2 2 2 2 2 2 2 2 2 2 2 2 2 2 2 1 2 2 2 1 2 2 2 2 2 2 2 2 2 2 2 2 2 2\n",
      " 2 2]\n",
      "[0 0 0 0 0 0 0 0 0 0 0 0 0 0 0 0 0 0 0 0 0 0 0 0 0 0 0 0 0 0 0 0 0 0 0 0 0\n",
      " 0 0 0 0 0 0 0 0 0 0 0 0 0 1 1 1 1 1 1 1 1 1 1 1 1 1 1 1 1 1 1 1 1 1 1 1 1\n",
      " 1 1 1 1 1 1 1 1 1 1 1 1 1 1 1 1 1 1 1 1 1 1 1 1 1 1 2 2 2 2 2 2 2 2 2 2 2\n",
      " 2 2 2 2 2 2 2 2 2 2 2 2 2 2 2 2 2 2 2 2 2 2 2 2 2 2 2 2 2 2 2 2 2 2 2 2 2\n",
      " 2 2]\n",
      "0.953333333333\n"
     ]
    }
   ],
   "source": [
    "from sklearn.model_selection import cross_val_predict\n",
    "\n",
    "logistic = LogisticRegression()\n",
    "y_pred = cross_val_predict(logistic, iris.data, iris.target, cv=LeaveOneOut())\n",
    "\n",
    "print(y_pred)\n",
    "print(iris.target)\n",
    "print((y_pred == iris.target).mean())"
   ]
  },
  {
   "cell_type": "markdown",
   "metadata": {
    "slideshow": {
     "slide_type": "subslide"
    }
   },
   "source": [
    "# Stratified k-fold\n",
    "\n",
    "Да отбележим още веднъж, че прип класификация, fold-овете генерирани от крос валидация трябва да запазвата пропорциите на класовете. Важно е всеки клас да бъде представен равномерно във всеки fold:"
   ]
  },
  {
   "cell_type": "code",
   "execution_count": 69,
   "metadata": {},
   "outputs": [
    {
     "data": {
      "image/png": "[encoded data removed]",
      "text/plain": [
       "<matplotlib.figure.Figure at 0x1153b9f28>"
      ]
     },
     "metadata": {},
     "output_type": "display_data"
    }
   ],
   "source": [
    "mglearn.plots.plot_stratified_cross_validation();"
   ]
  },
  {
   "cell_type": "markdown",
   "metadata": {
    "slideshow": {
     "slide_type": "subslide"
    }
   },
   "source": [
    "`cross_val_score` сам се сеща да го направи при класификация, но поняга може да се наложи да ползвате `StratifiedKFold`."
   ]
  },
  {
   "cell_type": "markdown",
   "metadata": {
    "slideshow": {
     "slide_type": "subslide"
    }
   },
   "source": [
    "# Крос валидация на времеви редове от данни\n",
    "\n",
    "* Данните с времева серия се характеризират с корелацията между наблюденията, които са близки във времето (автокорелация). \n",
    "* Техники за кръстосано валидиране, като `KFold` и `ShuffleSplit`, предполагат, че пробите са независими и идентично разпределени.\n",
    "* Това би довело до неразумна връзка между тренировачните и валидационни множества (водещи до лоши оценки на грешката за генерализация).\n",
    "* Поради това е много важно да оценим модела с данни от динамични редове за \"бъдещите\" наблюдения. \n",
    "* За да се постигне това, се използва класа `TimeSeriesSplit`."
   ]
  },
  {
   "cell_type": "code",
   "execution_count": 70,
   "metadata": {
    "slideshow": {
     "slide_type": "subslide"
    }
   },
   "outputs": [
    {
     "name": "stdout",
     "output_type": "stream",
     "text": [
      "* train: [0 1 2 3] test: [4 5]\n",
      "* train: [1 2 3 4 5] test: [6 7]\n",
      "* train: [3 4 5 6 7] test: [8 9]\n"
     ]
    }
   ],
   "source": [
    "from sklearn.model_selection import TimeSeriesSplit\n",
    "\n",
    "X = np.array([0, 1, 2, 3, 4, 5, 6, 7, 8, 9])\n",
    "y = np.array([0, 1, 0, 1, 0, 1, 0, 1, 0, 1])\n",
    "\n",
    "series_split = TimeSeriesSplit(n_splits=3, max_train_size=5)\n",
    "\n",
    "for train_idx, test_idx in series_split.split(X):\n",
    "    print('* train: {} test: {}'.format(X[train_idx], X[test_idx]))"
   ]
  },
  {
   "cell_type": "markdown",
   "metadata": {
    "slideshow": {
     "slide_type": "slide"
    }
   },
   "source": [
    "# Въпроси"
   ]
  }
 ],
 "metadata": {
  "kernelspec": {
   "display_name": "Python 3",
   "language": "python",
   "name": "python3"
  },
  "language_info": {
   "codemirror_mode": {
    "name": "ipython",
    "version": 3
   },
   "file_extension": ".py",
   "mimetype": "text/x-python",
   "name": "python",
   "nbconvert_exporter": "python",
   "pygments_lexer": "ipython3",
   "version": "3.6.1"
  }
 },
 "nbformat": 4,
 "nbformat_minor": 2
}
