{
 "cells": [
  {
   "cell_type": "markdown",
   "metadata": {
    "slideshow": {
     "slide_type": "slide"
    }
   },
   "source": [
    "## Класификационни и регресионни дървета"
   ]
  },
  {
   "cell_type": "code",
   "execution_count": 1,
   "metadata": {
    "collapsed": true,
    "slideshow": {
     "slide_type": "skip"
    }
   },
   "outputs": [],
   "source": [
    "from sklearn.datasets import make_classification\n",
    "from sklearn.tree import DecisionTreeClassifier\n",
    "from sklearn import tree\n",
    "from sklearn.model_selection import cross_val_score\n",
    "\n",
    "import matplotlib.pyplot as plt\n",
    "import seaborn as sns\n",
    "import numpy as np\n",
    "\n",
    "%matplotlib inline"
   ]
  },
  {
   "cell_type": "markdown",
   "metadata": {
    "slideshow": {
     "slide_type": "slide"
    }
   },
   "source": [
    "Днес: decision trees\n",
    "\n",
    "Преди това: да си припомним малко от предния път."
   ]
  },
  {
   "cell_type": "markdown",
   "metadata": {
    "slideshow": {
     "slide_type": "subslide"
    }
   },
   "source": [
    "# NumPy и векторизация\n",
    "\n",
    "Повечето операции в NumPy работят с така наречената векторизация. Това по-лесно се илюстрира с пример:"
   ]
  },
  {
   "cell_type": "code",
   "execution_count": 2,
   "metadata": {
    "slideshow": {
     "slide_type": "subslide"
    }
   },
   "outputs": [
    {
     "data": {
      "text/plain": [
       "array([ 5, 10, 15, 20])"
      ]
     },
     "execution_count": 2,
     "metadata": {},
     "output_type": "execute_result"
    }
   ],
   "source": [
    "np.array([1, 2, 3, 4]) * 5"
   ]
  },
  {
   "cell_type": "code",
   "execution_count": 3,
   "metadata": {
    "slideshow": {
     "slide_type": "subslide"
    }
   },
   "outputs": [
    {
     "data": {
      "text/plain": [
       "array([ 3,  8, 15])"
      ]
     },
     "execution_count": 3,
     "metadata": {},
     "output_type": "execute_result"
    }
   ],
   "source": [
    "np.array([1, 2, 3]) * np.array([3, 4, 5])"
   ]
  },
  {
   "cell_type": "code",
   "execution_count": 4,
   "metadata": {
    "slideshow": {
     "slide_type": "subslide"
    }
   },
   "outputs": [
    {
     "data": {
      "text/plain": [
       "array([ True, False, False, False,  True, False], dtype=bool)"
      ]
     },
     "execution_count": 4,
     "metadata": {},
     "output_type": "execute_result"
    }
   ],
   "source": [
    "np.array([8, 3, 4, 1, 9, 4]) > 4"
   ]
  },
  {
   "cell_type": "code",
   "execution_count": 5,
   "metadata": {
    "slideshow": {
     "slide_type": "subslide"
    }
   },
   "outputs": [
    {
     "data": {
      "text/plain": [
       "array([ 1.,  0.,  0.,  0.,  1.,  0.])"
      ]
     },
     "execution_count": 5,
     "metadata": {},
     "output_type": "execute_result"
    }
   ],
   "source": [
    "(np.array([8, 3, 4, 1, 9, 4]) > 4).astype(float)"
   ]
  },
  {
   "cell_type": "code",
   "execution_count": 6,
   "metadata": {
    "slideshow": {
     "slide_type": "subslide"
    }
   },
   "outputs": [
    {
     "data": {
      "text/plain": [
       "array([20, 10, 30, 10, 20])"
      ]
     },
     "execution_count": 6,
     "metadata": {},
     "output_type": "execute_result"
    }
   ],
   "source": [
    "np.array([10, 20, 30])[np.array([1, 0, 2, 0, 1])]"
   ]
  },
  {
   "cell_type": "markdown",
   "metadata": {},
   "source": [
    "Основната цел е да не ни се налага да пишем `for` цикли. Като допълнение – векторизираните операции в NumPy работят много по-бързо от цикъла в Python, който бихме написали."
   ]
  },
  {
   "cell_type": "markdown",
   "metadata": {
    "slideshow": {
     "slide_type": "subslide"
    }
   },
   "source": [
    "# LabelEncoder\n",
    "\n",
    "Ако има категорийни данни (например низове), може да ползваме `LabelEncoder` да ги заменим с числа:"
   ]
  },
  {
   "cell_type": "code",
   "execution_count": 7,
   "metadata": {
    "slideshow": {
     "slide_type": "subslide"
    }
   },
   "outputs": [
    {
     "name": "stdout",
     "output_type": "stream",
     "text": [
      "transofrmed: [1 1 0]\n",
      "inverse:     ['blue' 'green' 'red']\n"
     ]
    }
   ],
   "source": [
    "from sklearn.preprocessing import LabelEncoder\n",
    "\n",
    "encoder = LabelEncoder()\n",
    "encoder.fit([\"red\", \"green\", \"red\", \"blue\", \"red\", \"green\"])\n",
    "\n",
    "colors = [\"green\", \"green\", \"blue\"]\n",
    "\n",
    "print(\"transofrmed:\", encoder.transform([\"green\", \"green\", \"blue\"])) \n",
    "print(\"inverse:    \", encoder.inverse_transform([0, 1, 2]))"
   ]
  },
  {
   "cell_type": "markdown",
   "metadata": {
    "slideshow": {
     "slide_type": "subslide"
    }
   },
   "source": [
    "# OneHotEncoder\n",
    "\n",
    "Може да кодираме категории с label encoder, когато в категориите има някакъв естествен ред (напр. 4 е по-голямо от 2). Ако няма такъв ред обаче, на най-добре е да ползваме one-hot – така създаваме по един фийчър за всяка категория, който има стойности 0 или 1."
   ]
  },
  {
   "cell_type": "code",
   "execution_count": 8,
   "metadata": {
    "slideshow": {
     "slide_type": "subslide"
    }
   },
   "outputs": [
    {
     "name": "stdout",
     "output_type": "stream",
     "text": [
      "[[ 1.  0.  0.]\n",
      " [ 0.  1.  0.]\n",
      " [ 0.  1.  0.]\n",
      " [ 0.  0.  1.]\n",
      " [ 1.  0.  0.]]\n"
     ]
    }
   ],
   "source": [
    "from sklearn.preprocessing import OneHotEncoder\n",
    "\n",
    "encoder = OneHotEncoder()\n",
    "\n",
    "encoder.fit([[0], \n",
    "             [1], \n",
    "             [0], \n",
    "             [2]])\n",
    "\n",
    "print(encoder.transform([[0], [1], [1], [2], [0]]).toarray())"
   ]
  },
  {
   "cell_type": "markdown",
   "metadata": {
    "slideshow": {
     "slide_type": "subslide"
    }
   },
   "source": [
    "Но да се върнем към днешната тема!"
   ]
  },
  {
   "cell_type": "markdown",
   "metadata": {},
   "source": [
    "Нека генерираме синтетичен dataset подходящ за класификация. Може да погледнете [документацията](http://scikit-learn.org/stable/modules/generated/sklearn.datasets.make_classification.html) за значението на параметрите:"
   ]
  },
  {
   "cell_type": "code",
   "execution_count": 9,
   "metadata": {
    "slideshow": {
     "slide_type": "slide"
    }
   },
   "outputs": [],
   "source": [
    "X, y = make_classification(n_samples=100,\n",
    "                           n_features=2,\n",
    "                           n_redundant=0, \n",
    "                           n_clusters_per_class=2, \n",
    "                           random_state=123)"
   ]
  },
  {
   "cell_type": "markdown",
   "metadata": {},
   "source": [
    "`X` ще съдържа матрица от точки (всеки ред е точка с два координата), а `y` ще съдържа класа на всяка точка (0 или 1):"
   ]
  },
  {
   "cell_type": "code",
   "execution_count": 10,
   "metadata": {
    "slideshow": {
     "slide_type": "slide"
    }
   },
   "outputs": [
    {
     "name": "stdout",
     "output_type": "stream",
     "text": [
      "[[-0.01032243 -0.80566819]\n",
      " [-1.10293659  2.21661117]\n",
      " [-1.90795358 -0.20839902]\n",
      " [ 0.53115524  2.2762704 ]]\n",
      "[1 0 0 1]\n"
     ]
    }
   ],
   "source": [
    "print(X[:4])\n",
    "print(y[:4])"
   ]
  },
  {
   "cell_type": "markdown",
   "metadata": {},
   "source": [
    "Нека начертаем точките и техните класове в равнината:"
   ]
  },
  {
   "cell_type": "code",
   "execution_count": 11,
   "metadata": {
    "slideshow": {
     "slide_type": "slide"
    }
   },
   "outputs": [
    {
     "data": {
      "image/png": "[encoded data removed]",
      "text/plain": [
       "<matplotlib.figure.Figure at 0x108b07be0>"
      ]
     },
     "metadata": {},
     "output_type": "display_data"
    }
   ],
   "source": [
    "plt.scatter(X[:, 0], X[:, 1], c=y);"
   ]
  },
  {
   "cell_type": "markdown",
   "metadata": {},
   "source": [
    "Това е една функция, която ще начертае decision boundary на decision tree (ще оцвети фона спрямо как класификатора ще определи дадена точка):"
   ]
  },
  {
   "cell_type": "code",
   "execution_count": 12,
   "metadata": {
    "collapsed": true,
    "slideshow": {
     "slide_type": "skip"
    }
   },
   "outputs": [],
   "source": [
    "# Plotting decision regions adapted from \n",
    "# http://scikit-learn.org/stable/auto_examples/ensemble/plot_voting_decision_regions.html\n",
    "\n",
    "def plot_boundary(clf, X, y):\n",
    "    x_min, x_max = X[:, 0].min() - 1, X[:, 0].max() + 1\n",
    "    y_min, y_max = X[:, 1].min() - 1, X[:, 1].max() + 1\n",
    "    xx, yy = np.meshgrid(np.arange(x_min, x_max, 0.1),\n",
    "                         np.arange(y_min, y_max, 0.1))\n",
    "\n",
    "    f, ax = plt.subplots(figsize=(10, 8))\n",
    "\n",
    "    Z = clf.predict(np.c_[xx.ravel(), yy.ravel()])\n",
    "    Z = Z.reshape(xx.shape)\n",
    "\n",
    "    ax.contourf(xx, yy, Z, alpha=0.4)\n",
    "    ax.scatter(X[:, 0], X[:, 1], c=y, s=20, edgecolor='k')\n",
    "    \n",
    "    plt.show()"
   ]
  },
  {
   "cell_type": "markdown",
   "metadata": {},
   "source": [
    "Нека тренираме класификатор:"
   ]
  },
  {
   "cell_type": "code",
   "execution_count": 13,
   "metadata": {
    "slideshow": {
     "slide_type": "slide"
    }
   },
   "outputs": [
    {
     "name": "stdout",
     "output_type": "stream",
     "text": [
      "1.0\n"
     ]
    }
   ],
   "source": [
    "classifier = DecisionTreeClassifier().fit(X, y)\n",
    "print(classifier.score(X, y))"
   ]
  },
  {
   "cell_type": "markdown",
   "metadata": {},
   "source": [
    "Както виждаме, той успява да намери решение, което винаги класифицира правилно. Вероято прави голям overfitting. Да начертаем decision boundary-то:"
   ]
  },
  {
   "cell_type": "code",
   "execution_count": 14,
   "metadata": {
    "slideshow": {
     "slide_type": "slide"
    }
   },
   "outputs": [
    {
     "data": {
      "image/png": "[encoded data removed]",
      "text/plain": [
       "<matplotlib.figure.Figure at 0x10db719e8>"
      ]
     },
     "metadata": {},
     "output_type": "display_data"
    }
   ],
   "source": [
    "plot_boundary(classifier, X, y)"
   ]
  },
  {
   "cell_type": "markdown",
   "metadata": {},
   "source": [
    "От графиката изглежда че има overfitting – например има вертикалната ивица окола $x_0 = -1$ се класифицира изцяло като жълта, защото има една точка от този клас. По-вероятно е това да е някаква аномалия и да бихме искали да я сметнем за точка от другия клас.\n",
    "\n",
    "Бихме могли да регуляризираме с `min_samples_split`:"
   ]
  },
  {
   "cell_type": "code",
   "execution_count": 15,
   "metadata": {
    "slideshow": {
     "slide_type": "slide"
    }
   },
   "outputs": [
    {
     "data": {
      "image/png": "[encoded data removed]",
      "text/plain": [
       "<matplotlib.figure.Figure at 0x10dc0cf98>"
      ]
     },
     "metadata": {},
     "output_type": "display_data"
    }
   ],
   "source": [
    "classifier = DecisionTreeClassifier(min_samples_split=50).fit(X, y)\n",
    "plot_boundary(classifier, X, y)"
   ]
  },
  {
   "cell_type": "markdown",
   "metadata": {},
   "source": [
    "Тук получаваме по-прост модел, който естествено игнорира някои точки, но поне не overfit-ва.\n",
    "\n",
    "Нека начертаем дървото, което алгоритъма е открил:"
   ]
  },
  {
   "cell_type": "code",
   "execution_count": 16,
   "metadata": {
    "slideshow": {
     "slide_type": "slide"
    }
   },
   "outputs": [],
   "source": [
    "import graphviz\n",
    "\n",
    "# За да изпълните този код ще се нуждаете от graphviz библиотеката и съответния пакет за нея в python.\n",
    "#\n",
    "# На macOS това става със:\n",
    "#\n",
    "#  brew install graphviz\n",
    "#  pip install graphviz\n",
    "#\n",
    "# На други операционни системи трябва да замените първия ред с каквото ви е нужно (apt-get, yum, т.н.)\n",
    "\n",
    "def draw_decision_tree(classifier):\n",
    "    dot_data = tree.export_graphviz(classifier, out_file=None) \n",
    "    graph = graphviz.Source(dot_data) \n",
    "    graph.render(\"tree\") \n",
    "\n",
    "    dot_data = tree.export_graphviz(classifier, out_file=None, \n",
    "                             feature_names=np.array(['X_0 Vertical', 'X_1 Horizontal']),  \n",
    "                             class_names=np.array(['Class_0', 'Class_1']),  \n",
    "                             filled=True, rounded=True,  \n",
    "                             special_characters=True)\n",
    "\n",
    "    return graphviz.Source(dot_data) "
   ]
  },
  {
   "cell_type": "code",
   "execution_count": 17,
   "metadata": {
    "slideshow": {
     "slide_type": "slide"
    }
   },
   "outputs": [
    {
     "data": {
      "image/svg+xml": [
       "<?xml version=\"1.0\" encoding=\"UTF-8\" standalone=\"no\"?>\n",
       "<!DOCTYPE svg PUBLIC \"-//W3C//DTD SVG 1.1//EN\"\n",
       " \"http://www.w3.org/Graphics/SVG/1.1/DTD/svg11.dtd\">\n",
       "<!-- Generated by graphviz version 2.40.1 (20161225.0304)\n",
       " -->\n",
       "<!-- Title: Tree Pages: 1 -->\n",
       "<svg width=\"349pt\" height=\"300pt\"\n",
       " viewBox=\"0.00 0.00 349.43 300.00\" xmlns=\"http://www.w3.org/2000/svg\" xmlns:xlink=\"http://www.w3.org/1999/xlink\">\n",
       "<g id=\"graph0\" class=\"graph\" transform=\"scale(1 1) rotate(0) translate(4 296)\">\n",
       "<title>Tree</title>\n",
       "<polygon fill=\"#ffffff\" stroke=\"transparent\" points=\"-4,4 -4,-296 345.4307,-296 345.4307,4 -4,4\"/>\n",
       "<!-- 0 -->\n",
       "<g id=\"node1\" class=\"node\">\n",
       "<title>0</title>\n",
       "<path fill=\"#399de5\" fill-opacity=\"0.078431\" stroke=\"#000000\" d=\"M201.8778,-292C201.8778,-292 72.5529,-292 72.5529,-292 66.5529,-292 60.5529,-286 60.5529,-280 60.5529,-280 60.5529,-226 60.5529,-226 60.5529,-220 66.5529,-214 72.5529,-214 72.5529,-214 201.8778,-214 201.8778,-214 207.8778,-214 213.8778,-220 213.8778,-226 213.8778,-226 213.8778,-280 213.8778,-280 213.8778,-286 207.8778,-292 201.8778,-292\"/>\n",
       "<text text-anchor=\"start\" x=\"68.3843\" y=\"-276.8\" font-family=\"Helvetica,sans-Serif\" font-size=\"14.00\" fill=\"#000000\">X_0 Vertical ≤ &#45;0.5159</text>\n",
       "<text text-anchor=\"start\" x=\"96.9312\" y=\"-262.8\" font-family=\"Helvetica,sans-Serif\" font-size=\"14.00\" fill=\"#000000\">gini = 0.4992</text>\n",
       "<text text-anchor=\"start\" x=\"91.4932\" y=\"-248.8\" font-family=\"Helvetica,sans-Serif\" font-size=\"14.00\" fill=\"#000000\">samples = 100</text>\n",
       "<text text-anchor=\"start\" x=\"89.1519\" y=\"-234.8\" font-family=\"Helvetica,sans-Serif\" font-size=\"14.00\" fill=\"#000000\">value = [48, 52]</text>\n",
       "<text text-anchor=\"start\" x=\"88\" y=\"-220.8\" font-family=\"Helvetica,sans-Serif\" font-size=\"14.00\" fill=\"#000000\">class = Class_1</text>\n",
       "</g>\n",
       "<!-- 1 -->\n",
       "<g id=\"node2\" class=\"node\">\n",
       "<title>1</title>\n",
       "<path fill=\"#e58139\" fill-opacity=\"0.921569\" stroke=\"#000000\" d=\"M102.6468,-171C102.6468,-171 11.7839,-171 11.7839,-171 5.7839,-171 -.2161,-165 -.2161,-159 -.2161,-159 -.2161,-119 -.2161,-119 -.2161,-113 5.7839,-107 11.7839,-107 11.7839,-107 102.6468,-107 102.6468,-107 108.6468,-107 114.6468,-113 114.6468,-119 114.6468,-119 114.6468,-159 114.6468,-159 114.6468,-165 108.6468,-171 102.6468,-171\"/>\n",
       "<text text-anchor=\"start\" x=\"16.9312\" y=\"-155.8\" font-family=\"Helvetica,sans-Serif\" font-size=\"14.00\" fill=\"#000000\">gini = 0.1327</text>\n",
       "<text text-anchor=\"start\" x=\"15.3862\" y=\"-141.8\" font-family=\"Helvetica,sans-Serif\" font-size=\"14.00\" fill=\"#000000\">samples = 42</text>\n",
       "<text text-anchor=\"start\" x=\"13.0449\" y=\"-127.8\" font-family=\"Helvetica,sans-Serif\" font-size=\"14.00\" fill=\"#000000\">value = [39, 3]</text>\n",
       "<text text-anchor=\"start\" x=\"8\" y=\"-113.8\" font-family=\"Helvetica,sans-Serif\" font-size=\"14.00\" fill=\"#000000\">class = Class_0</text>\n",
       "</g>\n",
       "<!-- 0&#45;&gt;1 -->\n",
       "<g id=\"edge1\" class=\"edge\">\n",
       "<title>0&#45;&gt;1</title>\n",
       "<path fill=\"none\" stroke=\"#000000\" d=\"M109.6839,-213.7677C101.9042,-202.6817 93.4255,-190.5994 85.5968,-179.4436\"/>\n",
       "<polygon fill=\"#000000\" stroke=\"#000000\" points=\"88.3686,-177.3003 79.7593,-171.1252 82.6387,-181.3213 88.3686,-177.3003\"/>\n",
       "<text text-anchor=\"middle\" x=\"75.4437\" y=\"-191.5499\" font-family=\"Helvetica,sans-Serif\" font-size=\"14.00\" fill=\"#000000\">True</text>\n",
       "</g>\n",
       "<!-- 2 -->\n",
       "<g id=\"node3\" class=\"node\">\n",
       "<title>2</title>\n",
       "<path fill=\"#399de5\" fill-opacity=\"0.815686\" stroke=\"#000000\" d=\"M291.4879,-178C291.4879,-178 144.9427,-178 144.9427,-178 138.9427,-178 132.9427,-172 132.9427,-166 132.9427,-166 132.9427,-112 132.9427,-112 132.9427,-106 138.9427,-100 144.9427,-100 144.9427,-100 291.4879,-100 291.4879,-100 297.4879,-100 303.4879,-106 303.4879,-112 303.4879,-112 303.4879,-166 303.4879,-166 303.4879,-172 297.4879,-178 291.4879,-178\"/>\n",
       "<text text-anchor=\"start\" x=\"140.8291\" y=\"-162.8\" font-family=\"Helvetica,sans-Serif\" font-size=\"14.00\" fill=\"#000000\">X_1 Horizontal ≤ &#45;1.6008</text>\n",
       "<text text-anchor=\"start\" x=\"177.9312\" y=\"-148.8\" font-family=\"Helvetica,sans-Serif\" font-size=\"14.00\" fill=\"#000000\">gini = 0.2622</text>\n",
       "<text text-anchor=\"start\" x=\"176.3862\" y=\"-134.8\" font-family=\"Helvetica,sans-Serif\" font-size=\"14.00\" fill=\"#000000\">samples = 58</text>\n",
       "<text text-anchor=\"start\" x=\"174.0449\" y=\"-120.8\" font-family=\"Helvetica,sans-Serif\" font-size=\"14.00\" fill=\"#000000\">value = [9, 49]</text>\n",
       "<text text-anchor=\"start\" x=\"169\" y=\"-106.8\" font-family=\"Helvetica,sans-Serif\" font-size=\"14.00\" fill=\"#000000\">class = Class_1</text>\n",
       "</g>\n",
       "<!-- 0&#45;&gt;2 -->\n",
       "<g id=\"edge2\" class=\"edge\">\n",
       "<title>0&#45;&gt;2</title>\n",
       "<path fill=\"none\" stroke=\"#000000\" d=\"M165.0909,-213.7677C171.3275,-204.9903 178.0079,-195.5883 184.4539,-186.5161\"/>\n",
       "<polygon fill=\"#000000\" stroke=\"#000000\" points=\"187.3494,-188.4837 190.2883,-178.3046 181.6431,-184.4292 187.3494,-188.4837\"/>\n",
       "<text text-anchor=\"middle\" x=\"194.4598\" y=\"-198.7542\" font-family=\"Helvetica,sans-Serif\" font-size=\"14.00\" fill=\"#000000\">False</text>\n",
       "</g>\n",
       "<!-- 3 -->\n",
       "<g id=\"node4\" class=\"node\">\n",
       "<title>3</title>\n",
       "<path fill=\"#e58139\" fill-opacity=\"0.666667\" stroke=\"#000000\" d=\"M197.6468,-64C197.6468,-64 106.7839,-64 106.7839,-64 100.7839,-64 94.7839,-58 94.7839,-52 94.7839,-52 94.7839,-12 94.7839,-12 94.7839,-6 100.7839,0 106.7839,0 106.7839,0 197.6468,0 197.6468,0 203.6468,0 209.6468,-6 209.6468,-12 209.6468,-12 209.6468,-52 209.6468,-52 209.6468,-58 203.6468,-64 197.6468,-64\"/>\n",
       "<text text-anchor=\"start\" x=\"115.8242\" y=\"-48.8\" font-family=\"Helvetica,sans-Serif\" font-size=\"14.00\" fill=\"#000000\">gini = 0.375</text>\n",
       "<text text-anchor=\"start\" x=\"110.3862\" y=\"-34.8\" font-family=\"Helvetica,sans-Serif\" font-size=\"14.00\" fill=\"#000000\">samples = 12</text>\n",
       "<text text-anchor=\"start\" x=\"111.938\" y=\"-20.8\" font-family=\"Helvetica,sans-Serif\" font-size=\"14.00\" fill=\"#000000\">value = [9, 3]</text>\n",
       "<text text-anchor=\"start\" x=\"103\" y=\"-6.8\" font-family=\"Helvetica,sans-Serif\" font-size=\"14.00\" fill=\"#000000\">class = Class_0</text>\n",
       "</g>\n",
       "<!-- 2&#45;&gt;3 -->\n",
       "<g id=\"edge3\" class=\"edge\">\n",
       "<title>2&#45;&gt;3</title>\n",
       "<path fill=\"none\" stroke=\"#000000\" d=\"M194.0141,-99.7647C188.606,-90.9971 182.8578,-81.678 177.4106,-72.8469\"/>\n",
       "<polygon fill=\"#000000\" stroke=\"#000000\" points=\"180.3162,-70.8905 172.0874,-64.2169 174.3584,-74.5655 180.3162,-70.8905\"/>\n",
       "</g>\n",
       "<!-- 4 -->\n",
       "<g id=\"node5\" class=\"node\">\n",
       "<title>4</title>\n",
       "<path fill=\"#399de5\" stroke=\"#000000\" d=\"M329.6468,-64C329.6468,-64 238.7839,-64 238.7839,-64 232.7839,-64 226.7839,-58 226.7839,-52 226.7839,-52 226.7839,-12 226.7839,-12 226.7839,-6 232.7839,0 238.7839,0 238.7839,0 329.6468,0 329.6468,0 335.6468,0 341.6468,-6 341.6468,-12 341.6468,-12 341.6468,-52 341.6468,-52 341.6468,-58 335.6468,-64 329.6468,-64\"/>\n",
       "<text text-anchor=\"start\" x=\"255.6104\" y=\"-48.8\" font-family=\"Helvetica,sans-Serif\" font-size=\"14.00\" fill=\"#000000\">gini = 0.0</text>\n",
       "<text text-anchor=\"start\" x=\"242.3862\" y=\"-34.8\" font-family=\"Helvetica,sans-Serif\" font-size=\"14.00\" fill=\"#000000\">samples = 46</text>\n",
       "<text text-anchor=\"start\" x=\"240.0449\" y=\"-20.8\" font-family=\"Helvetica,sans-Serif\" font-size=\"14.00\" fill=\"#000000\">value = [0, 46]</text>\n",
       "<text text-anchor=\"start\" x=\"235\" y=\"-6.8\" font-family=\"Helvetica,sans-Serif\" font-size=\"14.00\" fill=\"#000000\">class = Class_1</text>\n",
       "</g>\n",
       "<!-- 2&#45;&gt;4 -->\n",
       "<g id=\"edge4\" class=\"edge\">\n",
       "<title>2&#45;&gt;4</title>\n",
       "<path fill=\"none\" stroke=\"#000000\" d=\"M242.4165,-99.7647C247.8246,-90.9971 253.5728,-81.678 259.0201,-72.8469\"/>\n",
       "<polygon fill=\"#000000\" stroke=\"#000000\" points=\"262.0722,-74.5655 264.3432,-64.2169 256.1145,-70.8905 262.0722,-74.5655\"/>\n",
       "</g>\n",
       "</g>\n",
       "</svg>\n"
      ],
      "text/plain": [
       "<graphviz.files.Source at 0x10df18630>"
      ]
     },
     "execution_count": 17,
     "metadata": {},
     "output_type": "execute_result"
    }
   ],
   "source": [
    "draw_decision_tree(classifier)"
   ]
  },
  {
   "cell_type": "markdown",
   "metadata": {},
   "source": [
    "Това е дървото на алгоритъма с `max_samples_split=50`. Може да видите няколко неща.\n",
    "\n",
    "Първо, алгоритъма се опитва да намери дърво от `if`-ове с които да отговори на класификационния въпрос. Първоначално сравнява $x_0$ (първия feature в `X` с $-0.5159$). Ако е по-малко, отговаря с оранжевия клас. Ако е по-голямо, сравнява $x_1$ с $-1.6008$ и на базата на резултата отговаря взема решение. Това съответства на правоъгълния в опростения алгоритъм.\n",
    "\n",
    "Във `samples` може да видите колко точки остават след вземането на решение. Например, първия възел ($x_0 < 0.5159$) ще раздели 100-те точки на два групи, една с 42 и друга с 58. Във `value` може да видите по колко точки има от всеки клас. Например, в лявото разклонение след корена на дървото попадаме в ситуация, в която в train set-а има 39 оранжеви и 3 сини и даваме отговор оранжеви (`Class_0`). Алгоритъма би могъл да продължи да разделя дървото, но понеже `samples = 42` е по-малко от `min_samples_split = 50` той спира да строи.\n",
    "\n",
    "`gini` е параметър, който помага на алгоритъма да прецени какво е най-доброто разпределение да дървото. Ще го разгледаме по-долу."
   ]
  },
  {
   "cell_type": "markdown",
   "metadata": {},
   "source": [
    "Нека да видим как ще се справи алгоритъма без регуляризация:"
   ]
  },
  {
   "cell_type": "code",
   "execution_count": 18,
   "metadata": {
    "collapsed": true
   },
   "outputs": [],
   "source": [
    "classifier = DecisionTreeClassifier().fit(X, y)"
   ]
  },
  {
   "cell_type": "markdown",
   "metadata": {},
   "source": [
    "Така изглежда decision boundary-то:"
   ]
  },
  {
   "cell_type": "code",
   "execution_count": 19,
   "metadata": {},
   "outputs": [
    {
     "data": {
      "image/png": "[encoded data removed]",
      "text/plain": [
       "<matplotlib.figure.Figure at 0x10df186d8>"
      ]
     },
     "metadata": {},
     "output_type": "display_data"
    }
   ],
   "source": [
    "plot_boundary(classifier, X, y)"
   ]
  },
  {
   "cell_type": "markdown",
   "metadata": {},
   "source": [
    "Така изглежда неговото дърво:"
   ]
  },
  {
   "cell_type": "code",
   "execution_count": 20,
   "metadata": {},
   "outputs": [
    {
     "data": {
      "image/svg+xml": [
       "<?xml version=\"1.0\" encoding=\"UTF-8\" standalone=\"no\"?>\n",
       "<!DOCTYPE svg PUBLIC \"-//W3C//DTD SVG 1.1//EN\"\n",
       " \"http://www.w3.org/Graphics/SVG/1.1/DTD/svg11.dtd\">\n",
       "<!-- Generated by graphviz version 2.40.1 (20161225.0304)\n",
       " -->\n",
       "<!-- Title: Tree Pages: 1 -->\n",
       "<svg width=\"605pt\" height=\"756pt\"\n",
       " viewBox=\"0.00 0.00 605.43 756.00\" xmlns=\"http://www.w3.org/2000/svg\" xmlns:xlink=\"http://www.w3.org/1999/xlink\">\n",
       "<g id=\"graph0\" class=\"graph\" transform=\"scale(1 1) rotate(0) translate(4 752)\">\n",
       "<title>Tree</title>\n",
       "<polygon fill=\"#ffffff\" stroke=\"transparent\" points=\"-4,4 -4,-752 601.4307,-752 601.4307,4 -4,4\"/>\n",
       "<!-- 0 -->\n",
       "<g id=\"node1\" class=\"node\">\n",
       "<title>0</title>\n",
       "<path fill=\"#399de5\" fill-opacity=\"0.078431\" stroke=\"#000000\" d=\"M365.8778,-748C365.8778,-748 236.5529,-748 236.5529,-748 230.5529,-748 224.5529,-742 224.5529,-736 224.5529,-736 224.5529,-682 224.5529,-682 224.5529,-676 230.5529,-670 236.5529,-670 236.5529,-670 365.8778,-670 365.8778,-670 371.8778,-670 377.8778,-676 377.8778,-682 377.8778,-682 377.8778,-736 377.8778,-736 377.8778,-742 371.8778,-748 365.8778,-748\"/>\n",
       "<text text-anchor=\"start\" x=\"232.3843\" y=\"-732.8\" font-family=\"Helvetica,sans-Serif\" font-size=\"14.00\" fill=\"#000000\">X_0 Vertical ≤ &#45;0.5159</text>\n",
       "<text text-anchor=\"start\" x=\"260.9312\" y=\"-718.8\" font-family=\"Helvetica,sans-Serif\" font-size=\"14.00\" fill=\"#000000\">gini = 0.4992</text>\n",
       "<text text-anchor=\"start\" x=\"255.4932\" y=\"-704.8\" font-family=\"Helvetica,sans-Serif\" font-size=\"14.00\" fill=\"#000000\">samples = 100</text>\n",
       "<text text-anchor=\"start\" x=\"253.1519\" y=\"-690.8\" font-family=\"Helvetica,sans-Serif\" font-size=\"14.00\" fill=\"#000000\">value = [48, 52]</text>\n",
       "<text text-anchor=\"start\" x=\"252\" y=\"-676.8\" font-family=\"Helvetica,sans-Serif\" font-size=\"14.00\" fill=\"#000000\">class = Class_1</text>\n",
       "</g>\n",
       "<!-- 1 -->\n",
       "<g id=\"node2\" class=\"node\">\n",
       "<title>1</title>\n",
       "<path fill=\"#e58139\" fill-opacity=\"0.921569\" stroke=\"#000000\" d=\"M275.8778,-634C275.8778,-634 146.5529,-634 146.5529,-634 140.5529,-634 134.5529,-628 134.5529,-622 134.5529,-622 134.5529,-568 134.5529,-568 134.5529,-562 140.5529,-556 146.5529,-556 146.5529,-556 275.8778,-556 275.8778,-556 281.8778,-556 287.8778,-562 287.8778,-568 287.8778,-568 287.8778,-622 287.8778,-622 287.8778,-628 281.8778,-634 275.8778,-634\"/>\n",
       "<text text-anchor=\"start\" x=\"142.3843\" y=\"-618.8\" font-family=\"Helvetica,sans-Serif\" font-size=\"14.00\" fill=\"#000000\">X_0 Vertical ≤ &#45;0.9725</text>\n",
       "<text text-anchor=\"start\" x=\"170.9312\" y=\"-604.8\" font-family=\"Helvetica,sans-Serif\" font-size=\"14.00\" fill=\"#000000\">gini = 0.1327</text>\n",
       "<text text-anchor=\"start\" x=\"169.3862\" y=\"-590.8\" font-family=\"Helvetica,sans-Serif\" font-size=\"14.00\" fill=\"#000000\">samples = 42</text>\n",
       "<text text-anchor=\"start\" x=\"167.0449\" y=\"-576.8\" font-family=\"Helvetica,sans-Serif\" font-size=\"14.00\" fill=\"#000000\">value = [39, 3]</text>\n",
       "<text text-anchor=\"start\" x=\"162\" y=\"-562.8\" font-family=\"Helvetica,sans-Serif\" font-size=\"14.00\" fill=\"#000000\">class = Class_0</text>\n",
       "</g>\n",
       "<!-- 0&#45;&gt;1 -->\n",
       "<g id=\"edge1\" class=\"edge\">\n",
       "<title>0&#45;&gt;1</title>\n",
       "<path fill=\"none\" stroke=\"#000000\" d=\"M270.2424,-669.7677C263.2422,-660.9007 255.7388,-651.3964 248.5089,-642.2385\"/>\n",
       "<polygon fill=\"#000000\" stroke=\"#000000\" points=\"251.1889,-639.9847 242.2453,-634.3046 245.6947,-644.3223 251.1889,-639.9847\"/>\n",
       "<text text-anchor=\"middle\" x=\"239.3243\" y=\"-654.9334\" font-family=\"Helvetica,sans-Serif\" font-size=\"14.00\" fill=\"#000000\">True</text>\n",
       "</g>\n",
       "<!-- 12 -->\n",
       "<g id=\"node13\" class=\"node\">\n",
       "<title>12</title>\n",
       "<path fill=\"#399de5\" fill-opacity=\"0.815686\" stroke=\"#000000\" d=\"M464.4879,-634C464.4879,-634 317.9427,-634 317.9427,-634 311.9427,-634 305.9427,-628 305.9427,-622 305.9427,-622 305.9427,-568 305.9427,-568 305.9427,-562 311.9427,-556 317.9427,-556 317.9427,-556 464.4879,-556 464.4879,-556 470.4879,-556 476.4879,-562 476.4879,-568 476.4879,-568 476.4879,-622 476.4879,-622 476.4879,-628 470.4879,-634 464.4879,-634\"/>\n",
       "<text text-anchor=\"start\" x=\"313.8291\" y=\"-618.8\" font-family=\"Helvetica,sans-Serif\" font-size=\"14.00\" fill=\"#000000\">X_1 Horizontal ≤ &#45;1.6008</text>\n",
       "<text text-anchor=\"start\" x=\"350.9312\" y=\"-604.8\" font-family=\"Helvetica,sans-Serif\" font-size=\"14.00\" fill=\"#000000\">gini = 0.2622</text>\n",
       "<text text-anchor=\"start\" x=\"349.3862\" y=\"-590.8\" font-family=\"Helvetica,sans-Serif\" font-size=\"14.00\" fill=\"#000000\">samples = 58</text>\n",
       "<text text-anchor=\"start\" x=\"347.0449\" y=\"-576.8\" font-family=\"Helvetica,sans-Serif\" font-size=\"14.00\" fill=\"#000000\">value = [9, 49]</text>\n",
       "<text text-anchor=\"start\" x=\"342\" y=\"-562.8\" font-family=\"Helvetica,sans-Serif\" font-size=\"14.00\" fill=\"#000000\">class = Class_1</text>\n",
       "</g>\n",
       "<!-- 0&#45;&gt;12 -->\n",
       "<g id=\"edge12\" class=\"edge\">\n",
       "<title>0&#45;&gt;12</title>\n",
       "<path fill=\"none\" stroke=\"#000000\" d=\"M332.1882,-669.7677C339.1885,-660.9007 346.6919,-651.3964 353.9218,-642.2385\"/>\n",
       "<polygon fill=\"#000000\" stroke=\"#000000\" points=\"356.736,-644.3223 360.1853,-634.3046 351.2418,-639.9847 356.736,-644.3223\"/>\n",
       "<text text-anchor=\"middle\" x=\"363.1064\" y=\"-654.9334\" font-family=\"Helvetica,sans-Serif\" font-size=\"14.00\" fill=\"#000000\">False</text>\n",
       "</g>\n",
       "<!-- 2 -->\n",
       "<g id=\"node3\" class=\"node\">\n",
       "<title>2</title>\n",
       "<path fill=\"#e58139\" stroke=\"#000000\" d=\"M109.6468,-513C109.6468,-513 18.7839,-513 18.7839,-513 12.7839,-513 6.7839,-507 6.7839,-501 6.7839,-501 6.7839,-461 6.7839,-461 6.7839,-455 12.7839,-449 18.7839,-449 18.7839,-449 109.6468,-449 109.6468,-449 115.6468,-449 121.6468,-455 121.6468,-461 121.6468,-461 121.6468,-501 121.6468,-501 121.6468,-507 115.6468,-513 109.6468,-513\"/>\n",
       "<text text-anchor=\"start\" x=\"35.6104\" y=\"-497.8\" font-family=\"Helvetica,sans-Serif\" font-size=\"14.00\" fill=\"#000000\">gini = 0.0</text>\n",
       "<text text-anchor=\"start\" x=\"22.3862\" y=\"-483.8\" font-family=\"Helvetica,sans-Serif\" font-size=\"14.00\" fill=\"#000000\">samples = 28</text>\n",
       "<text text-anchor=\"start\" x=\"20.0449\" y=\"-469.8\" font-family=\"Helvetica,sans-Serif\" font-size=\"14.00\" fill=\"#000000\">value = [28, 0]</text>\n",
       "<text text-anchor=\"start\" x=\"15\" y=\"-455.8\" font-family=\"Helvetica,sans-Serif\" font-size=\"14.00\" fill=\"#000000\">class = Class_0</text>\n",
       "</g>\n",
       "<!-- 1&#45;&gt;2 -->\n",
       "<g id=\"edge2\" class=\"edge\">\n",
       "<title>1&#45;&gt;2</title>\n",
       "<path fill=\"none\" stroke=\"#000000\" d=\"M160.6263,-555.7677C145.4903,-544.0296 128.9141,-531.1745 113.8407,-519.485\"/>\n",
       "<polygon fill=\"#000000\" stroke=\"#000000\" points=\"115.687,-516.4877 105.6399,-513.1252 111.3973,-522.0192 115.687,-516.4877\"/>\n",
       "</g>\n",
       "<!-- 3 -->\n",
       "<g id=\"node4\" class=\"node\">\n",
       "<title>3</title>\n",
       "<path fill=\"#e58139\" fill-opacity=\"0.725490\" stroke=\"#000000\" d=\"M280.8778,-520C280.8778,-520 151.5529,-520 151.5529,-520 145.5529,-520 139.5529,-514 139.5529,-508 139.5529,-508 139.5529,-454 139.5529,-454 139.5529,-448 145.5529,-442 151.5529,-442 151.5529,-442 280.8778,-442 280.8778,-442 286.8778,-442 292.8778,-448 292.8778,-454 292.8778,-454 292.8778,-508 292.8778,-508 292.8778,-514 286.8778,-520 280.8778,-520\"/>\n",
       "<text text-anchor=\"start\" x=\"147.3843\" y=\"-504.8\" font-family=\"Helvetica,sans-Serif\" font-size=\"14.00\" fill=\"#000000\">X_0 Vertical ≤ &#45;0.9607</text>\n",
       "<text text-anchor=\"start\" x=\"175.9312\" y=\"-490.8\" font-family=\"Helvetica,sans-Serif\" font-size=\"14.00\" fill=\"#000000\">gini = 0.3367</text>\n",
       "<text text-anchor=\"start\" x=\"174.3862\" y=\"-476.8\" font-family=\"Helvetica,sans-Serif\" font-size=\"14.00\" fill=\"#000000\">samples = 14</text>\n",
       "<text text-anchor=\"start\" x=\"172.561\" y=\"-462.8\" font-family=\"Helvetica,sans-Serif\" font-size=\"14.00\" fill=\"#000000\">value = [11, 3]</text>\n",
       "<text text-anchor=\"start\" x=\"167\" y=\"-448.8\" font-family=\"Helvetica,sans-Serif\" font-size=\"14.00\" fill=\"#000000\">class = Class_0</text>\n",
       "</g>\n",
       "<!-- 1&#45;&gt;3 -->\n",
       "<g id=\"edge3\" class=\"edge\">\n",
       "<title>1&#45;&gt;3</title>\n",
       "<path fill=\"none\" stroke=\"#000000\" d=\"M212.936,-555.7677C213.2935,-547.6172 213.6746,-538.9283 214.0458,-530.4649\"/>\n",
       "<polygon fill=\"#000000\" stroke=\"#000000\" points=\"217.5498,-530.4484 214.4914,-520.3046 210.5565,-530.1416 217.5498,-530.4484\"/>\n",
       "</g>\n",
       "<!-- 4 -->\n",
       "<g id=\"node5\" class=\"node\">\n",
       "<title>4</title>\n",
       "<path fill=\"#399de5\" stroke=\"#000000\" d=\"M102.6468,-399C102.6468,-399 11.7839,-399 11.7839,-399 5.7839,-399 -.2161,-393 -.2161,-387 -.2161,-387 -.2161,-347 -.2161,-347 -.2161,-341 5.7839,-335 11.7839,-335 11.7839,-335 102.6468,-335 102.6468,-335 108.6468,-335 114.6468,-341 114.6468,-347 114.6468,-347 114.6468,-387 114.6468,-387 114.6468,-393 108.6468,-399 102.6468,-399\"/>\n",
       "<text text-anchor=\"start\" x=\"28.6104\" y=\"-383.8\" font-family=\"Helvetica,sans-Serif\" font-size=\"14.00\" fill=\"#000000\">gini = 0.0</text>\n",
       "<text text-anchor=\"start\" x=\"19.2793\" y=\"-369.8\" font-family=\"Helvetica,sans-Serif\" font-size=\"14.00\" fill=\"#000000\">samples = 1</text>\n",
       "<text text-anchor=\"start\" x=\"16.938\" y=\"-355.8\" font-family=\"Helvetica,sans-Serif\" font-size=\"14.00\" fill=\"#000000\">value = [0, 1]</text>\n",
       "<text text-anchor=\"start\" x=\"8\" y=\"-341.8\" font-family=\"Helvetica,sans-Serif\" font-size=\"14.00\" fill=\"#000000\">class = Class_1</text>\n",
       "</g>\n",
       "<!-- 3&#45;&gt;4 -->\n",
       "<g id=\"edge4\" class=\"edge\">\n",
       "<title>3&#45;&gt;4</title>\n",
       "<path fill=\"none\" stroke=\"#000000\" d=\"M161.4966,-441.7677C144.9734,-429.9209 126.8634,-416.9364 110.4393,-405.1606\"/>\n",
       "<polygon fill=\"#000000\" stroke=\"#000000\" points=\"112.1879,-402.1077 102.0215,-399.1252 108.1091,-407.7966 112.1879,-402.1077\"/>\n",
       "</g>\n",
       "<!-- 5 -->\n",
       "<g id=\"node6\" class=\"node\">\n",
       "<title>5</title>\n",
       "<path fill=\"#e58139\" fill-opacity=\"0.819608\" stroke=\"#000000\" d=\"M291.4879,-406C291.4879,-406 144.9427,-406 144.9427,-406 138.9427,-406 132.9427,-400 132.9427,-394 132.9427,-394 132.9427,-340 132.9427,-340 132.9427,-334 138.9427,-328 144.9427,-328 144.9427,-328 291.4879,-328 291.4879,-328 297.4879,-328 303.4879,-334 303.4879,-340 303.4879,-340 303.4879,-394 303.4879,-394 303.4879,-400 297.4879,-406 291.4879,-406\"/>\n",
       "<text text-anchor=\"start\" x=\"140.8291\" y=\"-390.8\" font-family=\"Helvetica,sans-Serif\" font-size=\"14.00\" fill=\"#000000\">X_1 Horizontal ≤ &#45;0.9927</text>\n",
       "<text text-anchor=\"start\" x=\"177.9312\" y=\"-376.8\" font-family=\"Helvetica,sans-Serif\" font-size=\"14.00\" fill=\"#000000\">gini = 0.2604</text>\n",
       "<text text-anchor=\"start\" x=\"176.3862\" y=\"-362.8\" font-family=\"Helvetica,sans-Serif\" font-size=\"14.00\" fill=\"#000000\">samples = 13</text>\n",
       "<text text-anchor=\"start\" x=\"174.561\" y=\"-348.8\" font-family=\"Helvetica,sans-Serif\" font-size=\"14.00\" fill=\"#000000\">value = [11, 2]</text>\n",
       "<text text-anchor=\"start\" x=\"169\" y=\"-334.8\" font-family=\"Helvetica,sans-Serif\" font-size=\"14.00\" fill=\"#000000\">class = Class_0</text>\n",
       "</g>\n",
       "<!-- 3&#45;&gt;5 -->\n",
       "<g id=\"edge5\" class=\"edge\">\n",
       "<title>3&#45;&gt;5</title>\n",
       "<path fill=\"none\" stroke=\"#000000\" d=\"M216.9036,-441.7677C217.0466,-433.6172 217.199,-424.9283 217.3475,-416.4649\"/>\n",
       "<polygon fill=\"#000000\" stroke=\"#000000\" points=\"220.8497,-416.3645 217.5258,-406.3046 213.8508,-416.2417 220.8497,-416.3645\"/>\n",
       "</g>\n",
       "<!-- 6 -->\n",
       "<g id=\"node7\" class=\"node\">\n",
       "<title>6</title>\n",
       "<path fill=\"#e58139\" stroke=\"#000000\" d=\"M187.6468,-285C187.6468,-285 96.7839,-285 96.7839,-285 90.7839,-285 84.7839,-279 84.7839,-273 84.7839,-273 84.7839,-233 84.7839,-233 84.7839,-227 90.7839,-221 96.7839,-221 96.7839,-221 187.6468,-221 187.6468,-221 193.6468,-221 199.6468,-227 199.6468,-233 199.6468,-233 199.6468,-273 199.6468,-273 199.6468,-279 193.6468,-285 187.6468,-285\"/>\n",
       "<text text-anchor=\"start\" x=\"113.6104\" y=\"-269.8\" font-family=\"Helvetica,sans-Serif\" font-size=\"14.00\" fill=\"#000000\">gini = 0.0</text>\n",
       "<text text-anchor=\"start\" x=\"104.2793\" y=\"-255.8\" font-family=\"Helvetica,sans-Serif\" font-size=\"14.00\" fill=\"#000000\">samples = 6</text>\n",
       "<text text-anchor=\"start\" x=\"101.938\" y=\"-241.8\" font-family=\"Helvetica,sans-Serif\" font-size=\"14.00\" fill=\"#000000\">value = [6, 0]</text>\n",
       "<text text-anchor=\"start\" x=\"93\" y=\"-227.8\" font-family=\"Helvetica,sans-Serif\" font-size=\"14.00\" fill=\"#000000\">class = Class_0</text>\n",
       "</g>\n",
       "<!-- 5&#45;&gt;6 -->\n",
       "<g id=\"edge6\" class=\"edge\">\n",
       "<title>5&#45;&gt;6</title>\n",
       "<path fill=\"none\" stroke=\"#000000\" d=\"M192.0604,-327.7677C184.7423,-316.7904 176.7728,-304.8362 169.3967,-293.772\"/>\n",
       "<polygon fill=\"#000000\" stroke=\"#000000\" points=\"172.0914,-291.5043 163.6321,-285.1252 166.267,-295.3872 172.0914,-291.5043\"/>\n",
       "</g>\n",
       "<!-- 7 -->\n",
       "<g id=\"node8\" class=\"node\">\n",
       "<title>7</title>\n",
       "<path fill=\"#e58139\" fill-opacity=\"0.600000\" stroke=\"#000000\" d=\"M358.8778,-292C358.8778,-292 229.5529,-292 229.5529,-292 223.5529,-292 217.5529,-286 217.5529,-280 217.5529,-280 217.5529,-226 217.5529,-226 217.5529,-220 223.5529,-214 229.5529,-214 229.5529,-214 358.8778,-214 358.8778,-214 364.8778,-214 370.8778,-220 370.8778,-226 370.8778,-226 370.8778,-280 370.8778,-280 370.8778,-286 364.8778,-292 358.8778,-292\"/>\n",
       "<text text-anchor=\"start\" x=\"225.3843\" y=\"-276.8\" font-family=\"Helvetica,sans-Serif\" font-size=\"14.00\" fill=\"#000000\">X_0 Vertical ≤ &#45;0.8159</text>\n",
       "<text text-anchor=\"start\" x=\"253.9312\" y=\"-262.8\" font-family=\"Helvetica,sans-Serif\" font-size=\"14.00\" fill=\"#000000\">gini = 0.4082</text>\n",
       "<text text-anchor=\"start\" x=\"256.2793\" y=\"-248.8\" font-family=\"Helvetica,sans-Serif\" font-size=\"14.00\" fill=\"#000000\">samples = 7</text>\n",
       "<text text-anchor=\"start\" x=\"253.938\" y=\"-234.8\" font-family=\"Helvetica,sans-Serif\" font-size=\"14.00\" fill=\"#000000\">value = [5, 2]</text>\n",
       "<text text-anchor=\"start\" x=\"245\" y=\"-220.8\" font-family=\"Helvetica,sans-Serif\" font-size=\"14.00\" fill=\"#000000\">class = Class_0</text>\n",
       "</g>\n",
       "<!-- 5&#45;&gt;7 -->\n",
       "<g id=\"edge7\" class=\"edge\">\n",
       "<title>5&#45;&gt;7</title>\n",
       "<path fill=\"none\" stroke=\"#000000\" d=\"M244.3702,-327.7677C250.1621,-319.0798 256.3619,-309.7801 262.3527,-300.794\"/>\n",
       "<polygon fill=\"#000000\" stroke=\"#000000\" points=\"265.3774,-302.5666 268.0122,-292.3046 259.553,-298.6837 265.3774,-302.5666\"/>\n",
       "</g>\n",
       "<!-- 8 -->\n",
       "<g id=\"node9\" class=\"node\">\n",
       "<title>8</title>\n",
       "<path fill=\"#e58139\" stroke=\"#000000\" d=\"M260.6468,-171C260.6468,-171 169.7839,-171 169.7839,-171 163.7839,-171 157.7839,-165 157.7839,-159 157.7839,-159 157.7839,-119 157.7839,-119 157.7839,-113 163.7839,-107 169.7839,-107 169.7839,-107 260.6468,-107 260.6468,-107 266.6468,-107 272.6468,-113 272.6468,-119 272.6468,-119 272.6468,-159 272.6468,-159 272.6468,-165 266.6468,-171 260.6468,-171\"/>\n",
       "<text text-anchor=\"start\" x=\"186.6104\" y=\"-155.8\" font-family=\"Helvetica,sans-Serif\" font-size=\"14.00\" fill=\"#000000\">gini = 0.0</text>\n",
       "<text text-anchor=\"start\" x=\"177.2793\" y=\"-141.8\" font-family=\"Helvetica,sans-Serif\" font-size=\"14.00\" fill=\"#000000\">samples = 4</text>\n",
       "<text text-anchor=\"start\" x=\"174.938\" y=\"-127.8\" font-family=\"Helvetica,sans-Serif\" font-size=\"14.00\" fill=\"#000000\">value = [4, 0]</text>\n",
       "<text text-anchor=\"start\" x=\"166\" y=\"-113.8\" font-family=\"Helvetica,sans-Serif\" font-size=\"14.00\" fill=\"#000000\">class = Class_0</text>\n",
       "</g>\n",
       "<!-- 7&#45;&gt;8 -->\n",
       "<g id=\"edge8\" class=\"edge\">\n",
       "<title>7&#45;&gt;8</title>\n",
       "<path fill=\"none\" stroke=\"#000000\" d=\"M267.028,-213.7677C259.3456,-202.6817 250.9728,-190.5994 243.2421,-179.4436\"/>\n",
       "<polygon fill=\"#000000\" stroke=\"#000000\" points=\"246.0502,-177.351 237.4775,-171.1252 240.2967,-181.3381 246.0502,-177.351\"/>\n",
       "</g>\n",
       "<!-- 9 -->\n",
       "<g id=\"node10\" class=\"node\">\n",
       "<title>9</title>\n",
       "<path fill=\"#399de5\" fill-opacity=\"0.498039\" stroke=\"#000000\" d=\"M444.3257,-178C444.3257,-178 302.1049,-178 302.1049,-178 296.1049,-178 290.1049,-172 290.1049,-166 290.1049,-166 290.1049,-112 290.1049,-112 290.1049,-106 296.1049,-100 302.1049,-100 302.1049,-100 444.3257,-100 444.3257,-100 450.3257,-100 456.3257,-106 456.3257,-112 456.3257,-112 456.3257,-166 456.3257,-166 456.3257,-172 450.3257,-178 444.3257,-178\"/>\n",
       "<text text-anchor=\"start\" x=\"298.1602\" y=\"-162.8\" font-family=\"Helvetica,sans-Serif\" font-size=\"14.00\" fill=\"#000000\">X_1 Horizontal ≤ 0.4175</text>\n",
       "<text text-anchor=\"start\" x=\"332.9312\" y=\"-148.8\" font-family=\"Helvetica,sans-Serif\" font-size=\"14.00\" fill=\"#000000\">gini = 0.4444</text>\n",
       "<text text-anchor=\"start\" x=\"335.2793\" y=\"-134.8\" font-family=\"Helvetica,sans-Serif\" font-size=\"14.00\" fill=\"#000000\">samples = 3</text>\n",
       "<text text-anchor=\"start\" x=\"332.938\" y=\"-120.8\" font-family=\"Helvetica,sans-Serif\" font-size=\"14.00\" fill=\"#000000\">value = [1, 2]</text>\n",
       "<text text-anchor=\"start\" x=\"324\" y=\"-106.8\" font-family=\"Helvetica,sans-Serif\" font-size=\"14.00\" fill=\"#000000\">class = Class_1</text>\n",
       "</g>\n",
       "<!-- 7&#45;&gt;9 -->\n",
       "<g id=\"edge9\" class=\"edge\">\n",
       "<title>7&#45;&gt;9</title>\n",
       "<path fill=\"none\" stroke=\"#000000\" d=\"M321.4027,-213.7677C327.4232,-205.0798 333.8677,-195.7801 340.095,-186.794\"/>\n",
       "<polygon fill=\"#000000\" stroke=\"#000000\" points=\"343.1588,-188.5176 345.9779,-178.3046 337.4052,-184.5304 343.1588,-188.5176\"/>\n",
       "</g>\n",
       "<!-- 10 -->\n",
       "<g id=\"node11\" class=\"node\">\n",
       "<title>10</title>\n",
       "<path fill=\"#399de5\" stroke=\"#000000\" d=\"M352.6468,-64C352.6468,-64 261.7839,-64 261.7839,-64 255.7839,-64 249.7839,-58 249.7839,-52 249.7839,-52 249.7839,-12 249.7839,-12 249.7839,-6 255.7839,0 261.7839,0 261.7839,0 352.6468,0 352.6468,0 358.6468,0 364.6468,-6 364.6468,-12 364.6468,-12 364.6468,-52 364.6468,-52 364.6468,-58 358.6468,-64 352.6468,-64\"/>\n",
       "<text text-anchor=\"start\" x=\"278.6104\" y=\"-48.8\" font-family=\"Helvetica,sans-Serif\" font-size=\"14.00\" fill=\"#000000\">gini = 0.0</text>\n",
       "<text text-anchor=\"start\" x=\"269.2793\" y=\"-34.8\" font-family=\"Helvetica,sans-Serif\" font-size=\"14.00\" fill=\"#000000\">samples = 2</text>\n",
       "<text text-anchor=\"start\" x=\"266.938\" y=\"-20.8\" font-family=\"Helvetica,sans-Serif\" font-size=\"14.00\" fill=\"#000000\">value = [0, 2]</text>\n",
       "<text text-anchor=\"start\" x=\"258\" y=\"-6.8\" font-family=\"Helvetica,sans-Serif\" font-size=\"14.00\" fill=\"#000000\">class = Class_1</text>\n",
       "</g>\n",
       "<!-- 9&#45;&gt;10 -->\n",
       "<g id=\"edge10\" class=\"edge\">\n",
       "<title>9&#45;&gt;10</title>\n",
       "<path fill=\"none\" stroke=\"#000000\" d=\"M349.0141,-99.7647C343.606,-90.9971 337.8578,-81.678 332.4106,-72.8469\"/>\n",
       "<polygon fill=\"#000000\" stroke=\"#000000\" points=\"335.3162,-70.8905 327.0874,-64.2169 329.3584,-74.5655 335.3162,-70.8905\"/>\n",
       "</g>\n",
       "<!-- 11 -->\n",
       "<g id=\"node12\" class=\"node\">\n",
       "<title>11</title>\n",
       "<path fill=\"#e58139\" stroke=\"#000000\" d=\"M484.6468,-64C484.6468,-64 393.7839,-64 393.7839,-64 387.7839,-64 381.7839,-58 381.7839,-52 381.7839,-52 381.7839,-12 381.7839,-12 381.7839,-6 387.7839,0 393.7839,0 393.7839,0 484.6468,0 484.6468,0 490.6468,0 496.6468,-6 496.6468,-12 496.6468,-12 496.6468,-52 496.6468,-52 496.6468,-58 490.6468,-64 484.6468,-64\"/>\n",
       "<text text-anchor=\"start\" x=\"410.6104\" y=\"-48.8\" font-family=\"Helvetica,sans-Serif\" font-size=\"14.00\" fill=\"#000000\">gini = 0.0</text>\n",
       "<text text-anchor=\"start\" x=\"401.2793\" y=\"-34.8\" font-family=\"Helvetica,sans-Serif\" font-size=\"14.00\" fill=\"#000000\">samples = 1</text>\n",
       "<text text-anchor=\"start\" x=\"398.938\" y=\"-20.8\" font-family=\"Helvetica,sans-Serif\" font-size=\"14.00\" fill=\"#000000\">value = [1, 0]</text>\n",
       "<text text-anchor=\"start\" x=\"390\" y=\"-6.8\" font-family=\"Helvetica,sans-Serif\" font-size=\"14.00\" fill=\"#000000\">class = Class_0</text>\n",
       "</g>\n",
       "<!-- 9&#45;&gt;11 -->\n",
       "<g id=\"edge11\" class=\"edge\">\n",
       "<title>9&#45;&gt;11</title>\n",
       "<path fill=\"none\" stroke=\"#000000\" d=\"M397.4165,-99.7647C402.8246,-90.9971 408.5728,-81.678 414.0201,-72.8469\"/>\n",
       "<polygon fill=\"#000000\" stroke=\"#000000\" points=\"417.0722,-74.5655 419.3432,-64.2169 411.1145,-70.8905 417.0722,-74.5655\"/>\n",
       "</g>\n",
       "<!-- 13 -->\n",
       "<g id=\"node14\" class=\"node\">\n",
       "<title>13</title>\n",
       "<path fill=\"#e58139\" fill-opacity=\"0.666667\" stroke=\"#000000\" d=\"M452.7153,-520C452.7153,-520 327.7153,-520 327.7153,-520 321.7153,-520 315.7153,-514 315.7153,-508 315.7153,-508 315.7153,-454 315.7153,-454 315.7153,-448 321.7153,-442 327.7153,-442 327.7153,-442 452.7153,-442 452.7153,-442 458.7153,-442 464.7153,-448 464.7153,-454 464.7153,-454 464.7153,-508 464.7153,-508 464.7153,-514 458.7153,-520 452.7153,-520\"/>\n",
       "<text text-anchor=\"start\" x=\"323.7153\" y=\"-504.8\" font-family=\"Helvetica,sans-Serif\" font-size=\"14.00\" fill=\"#000000\">X_0 Vertical ≤ 1.7032</text>\n",
       "<text text-anchor=\"start\" x=\"353.8242\" y=\"-490.8\" font-family=\"Helvetica,sans-Serif\" font-size=\"14.00\" fill=\"#000000\">gini = 0.375</text>\n",
       "<text text-anchor=\"start\" x=\"348.3862\" y=\"-476.8\" font-family=\"Helvetica,sans-Serif\" font-size=\"14.00\" fill=\"#000000\">samples = 12</text>\n",
       "<text text-anchor=\"start\" x=\"349.938\" y=\"-462.8\" font-family=\"Helvetica,sans-Serif\" font-size=\"14.00\" fill=\"#000000\">value = [9, 3]</text>\n",
       "<text text-anchor=\"start\" x=\"341\" y=\"-448.8\" font-family=\"Helvetica,sans-Serif\" font-size=\"14.00\" fill=\"#000000\">class = Class_0</text>\n",
       "</g>\n",
       "<!-- 12&#45;&gt;13 -->\n",
       "<g id=\"edge13\" class=\"edge\">\n",
       "<title>12&#45;&gt;13</title>\n",
       "<path fill=\"none\" stroke=\"#000000\" d=\"M390.8712,-555.7677C390.7997,-547.6172 390.7235,-538.9283 390.6492,-530.4649\"/>\n",
       "<polygon fill=\"#000000\" stroke=\"#000000\" points=\"394.1478,-530.2735 390.5601,-520.3046 387.1481,-530.335 394.1478,-530.2735\"/>\n",
       "</g>\n",
       "<!-- 16 -->\n",
       "<g id=\"node17\" class=\"node\">\n",
       "<title>16</title>\n",
       "<path fill=\"#399de5\" stroke=\"#000000\" d=\"M585.6468,-513C585.6468,-513 494.7839,-513 494.7839,-513 488.7839,-513 482.7839,-507 482.7839,-501 482.7839,-501 482.7839,-461 482.7839,-461 482.7839,-455 488.7839,-449 494.7839,-449 494.7839,-449 585.6468,-449 585.6468,-449 591.6468,-449 597.6468,-455 597.6468,-461 597.6468,-461 597.6468,-501 597.6468,-501 597.6468,-507 591.6468,-513 585.6468,-513\"/>\n",
       "<text text-anchor=\"start\" x=\"511.6104\" y=\"-497.8\" font-family=\"Helvetica,sans-Serif\" font-size=\"14.00\" fill=\"#000000\">gini = 0.0</text>\n",
       "<text text-anchor=\"start\" x=\"498.3862\" y=\"-483.8\" font-family=\"Helvetica,sans-Serif\" font-size=\"14.00\" fill=\"#000000\">samples = 46</text>\n",
       "<text text-anchor=\"start\" x=\"496.0449\" y=\"-469.8\" font-family=\"Helvetica,sans-Serif\" font-size=\"14.00\" fill=\"#000000\">value = [0, 46]</text>\n",
       "<text text-anchor=\"start\" x=\"491\" y=\"-455.8\" font-family=\"Helvetica,sans-Serif\" font-size=\"14.00\" fill=\"#000000\">class = Class_1</text>\n",
       "</g>\n",
       "<!-- 12&#45;&gt;16 -->\n",
       "<g id=\"edge16\" class=\"edge\">\n",
       "<title>12&#45;&gt;16</title>\n",
       "<path fill=\"none\" stroke=\"#000000\" d=\"M442.4927,-555.7677C457.8346,-544.0296 474.6363,-531.1745 489.9148,-519.485\"/>\n",
       "<polygon fill=\"#000000\" stroke=\"#000000\" points=\"492.4118,-521.9814 498.2271,-513.1252 488.1583,-516.422 492.4118,-521.9814\"/>\n",
       "</g>\n",
       "<!-- 14 -->\n",
       "<g id=\"node15\" class=\"node\">\n",
       "<title>14</title>\n",
       "<path fill=\"#e58139\" stroke=\"#000000\" d=\"M433.6468,-399C433.6468,-399 342.7839,-399 342.7839,-399 336.7839,-399 330.7839,-393 330.7839,-387 330.7839,-387 330.7839,-347 330.7839,-347 330.7839,-341 336.7839,-335 342.7839,-335 342.7839,-335 433.6468,-335 433.6468,-335 439.6468,-335 445.6468,-341 445.6468,-347 445.6468,-347 445.6468,-387 445.6468,-387 445.6468,-393 439.6468,-399 433.6468,-399\"/>\n",
       "<text text-anchor=\"start\" x=\"359.6104\" y=\"-383.8\" font-family=\"Helvetica,sans-Serif\" font-size=\"14.00\" fill=\"#000000\">gini = 0.0</text>\n",
       "<text text-anchor=\"start\" x=\"350.2793\" y=\"-369.8\" font-family=\"Helvetica,sans-Serif\" font-size=\"14.00\" fill=\"#000000\">samples = 9</text>\n",
       "<text text-anchor=\"start\" x=\"347.938\" y=\"-355.8\" font-family=\"Helvetica,sans-Serif\" font-size=\"14.00\" fill=\"#000000\">value = [9, 0]</text>\n",
       "<text text-anchor=\"start\" x=\"339\" y=\"-341.8\" font-family=\"Helvetica,sans-Serif\" font-size=\"14.00\" fill=\"#000000\">class = Class_0</text>\n",
       "</g>\n",
       "<!-- 13&#45;&gt;14 -->\n",
       "<g id=\"edge14\" class=\"edge\">\n",
       "<title>13&#45;&gt;14</title>\n",
       "<path fill=\"none\" stroke=\"#000000\" d=\"M389.527,-441.7677C389.344,-431.3338 389.1455,-420.0174 388.9596,-409.4215\"/>\n",
       "<polygon fill=\"#000000\" stroke=\"#000000\" points=\"392.4539,-409.0622 388.7789,-399.1252 385.455,-409.1851 392.4539,-409.0622\"/>\n",
       "</g>\n",
       "<!-- 15 -->\n",
       "<g id=\"node16\" class=\"node\">\n",
       "<title>15</title>\n",
       "<path fill=\"#399de5\" stroke=\"#000000\" d=\"M565.6468,-399C565.6468,-399 474.7839,-399 474.7839,-399 468.7839,-399 462.7839,-393 462.7839,-387 462.7839,-387 462.7839,-347 462.7839,-347 462.7839,-341 468.7839,-335 474.7839,-335 474.7839,-335 565.6468,-335 565.6468,-335 571.6468,-335 577.6468,-341 577.6468,-347 577.6468,-347 577.6468,-387 577.6468,-387 577.6468,-393 571.6468,-399 565.6468,-399\"/>\n",
       "<text text-anchor=\"start\" x=\"491.6104\" y=\"-383.8\" font-family=\"Helvetica,sans-Serif\" font-size=\"14.00\" fill=\"#000000\">gini = 0.0</text>\n",
       "<text text-anchor=\"start\" x=\"482.2793\" y=\"-369.8\" font-family=\"Helvetica,sans-Serif\" font-size=\"14.00\" fill=\"#000000\">samples = 3</text>\n",
       "<text text-anchor=\"start\" x=\"479.938\" y=\"-355.8\" font-family=\"Helvetica,sans-Serif\" font-size=\"14.00\" fill=\"#000000\">value = [0, 3]</text>\n",
       "<text text-anchor=\"start\" x=\"471\" y=\"-341.8\" font-family=\"Helvetica,sans-Serif\" font-size=\"14.00\" fill=\"#000000\">class = Class_1</text>\n",
       "</g>\n",
       "<!-- 13&#45;&gt;15 -->\n",
       "<g id=\"edge15\" class=\"edge\">\n",
       "<title>13&#45;&gt;15</title>\n",
       "<path fill=\"none\" stroke=\"#000000\" d=\"M434.954,-441.7677C448.2156,-430.1383 462.7274,-417.4125 475.9583,-405.81\"/>\n",
       "<polygon fill=\"#000000\" stroke=\"#000000\" points=\"478.3704,-408.35 483.5813,-399.1252 473.7551,-403.0869 478.3704,-408.35\"/>\n",
       "</g>\n",
       "</g>\n",
       "</svg>\n"
      ],
      "text/plain": [
       "<graphviz.files.Source at 0x10df34828>"
      ]
     },
     "execution_count": 20,
     "metadata": {},
     "output_type": "execute_result"
    }
   ],
   "source": [
    "draw_decision_tree(classifier)"
   ]
  },
  {
   "cell_type": "markdown",
   "metadata": {},
   "source": [
    "Може да видите, че дървото е доста по-сложно, но за сметка на това отгатва train set-а перфектно. Ако проследите стойностите, може да се уверите, че съответства на графиката по-горе."
   ]
  },
  {
   "cell_type": "markdown",
   "metadata": {
    "slideshow": {
     "slide_type": "slide"
    }
   },
   "source": [
    "# В `sklearn` е имплементиран CART алгоритъм. \n",
    "\n",
    "## Classification and Regression Trees\n",
    "\n",
    "L. Breiman, J. Friedman, R. Olshen, and C. Stone. Classification and Regression Trees. Wadsworth, Belmont, CA, 1984\n",
    "\n",
    "http://scikit-learn.org/stable/modules/tree.html#tree"
   ]
  },
  {
   "cell_type": "markdown",
   "metadata": {
    "slideshow": {
     "slide_type": "slide"
    }
   },
   "source": [
    "# Моделът CART е двоично дърво. \n",
    "\n",
    "* Всеки елемент от дървото може да има нула, едно или две деца.\n",
    "* Алгоритъмът работи рекурсивно. \n",
    "* Критерии за спиране могат да бъдат:\n",
    "  * Достигната е абсолютна чистота на елементите в дървото (останали са само един клас данни в последните деца)\n",
    "  * Достигната е максимална дълбочина на дървото (`max_depth`)\n",
    "  * Достигнат е минимален брой примери за разделяне (`min_samples_split`)"
   ]
  },
  {
   "cell_type": "markdown",
   "metadata": {
    "slideshow": {
     "slide_type": "slide"
    }
   },
   "source": [
    "# Алгоритъмът е алчен (greedy):\n",
    "* Проверява всяка възможна колона (feature) за всички възможни раздвоявания и избира най-доброто.\n",
    "* Сложност при трениране: $O(n_{features}n_{samples}\\log(n_{samples}))$\n",
    "\n",
    "Следва малко математика, която не е съществена за разбиране на това какво се случва, но описва картинката една идея по-добре:"
   ]
  },
  {
   "cell_type": "markdown",
   "metadata": {
    "slideshow": {
     "slide_type": "slide"
    }
   },
   "source": [
    "# Оценяваща функция:\n",
    "\n",
    "Оценяващата функция работи, чрез Information Gain:\n",
    "\n",
    "$$ InformationGain = impurity(parent) - {WeightedAverageBySamplesCount}\\sum{impurity(children)}$$\n",
    "\n",
    "$impurity$ е функция, която измерва \"примесите\". В алгоритъма могат да се ползват различни функции:\n",
    "\n",
    "* При класификация\n",
    "  1. Ентропия (Entropy)\n",
    "  2. Gini\n",
    "  3. Неправилна класификация (Misclassification)\n",
    "* При регресия\n",
    "  1. Средно аритметично от разликата на квадратите (Mean Squared Error)\n",
    "  2. Средно аритметично от абсолютната стойност на разликата (Mean Absolute Error)"
   ]
  },
  {
   "cell_type": "markdown",
   "metadata": {
    "slideshow": {
     "slide_type": "slide"
    }
   },
   "source": [
    "При предвиждане на нов запис, алгоритъмът се спуска по построеното дърво докато стигне възел без наследници.\n",
    "\n",
    "* Предвижда средната стойнoст от записите останали в последния елемент при регресия.\n",
    "* При класификация избира класа представен от мнозинството от записи останали в последния елемент.\n",
    "* Сложност при предвиждане: $O(\\log(n_{samples}))$"
   ]
  },
  {
   "cell_type": "markdown",
   "metadata": {
    "slideshow": {
     "slide_type": "slide"
    }
   },
   "source": [
    "# Функции за измерване на примесите (impurity)"
   ]
  },
  {
   "cell_type": "markdown",
   "metadata": {
    "slideshow": {
     "slide_type": "slide"
    }
   },
   "source": [
    "## 1. Ентропия\n",
    "\n",
    " $entropy = \\sum_i{ - p_i  log_2(  p_i )}$\n",
    " \n",
    " $p_i= \\frac{size of class_i}{size of set}$"
   ]
  },
  {
   "cell_type": "markdown",
   "metadata": {
    "slideshow": {
     "slide_type": "slide"
    }
   },
   "source": [
    "### Пример 1:\n",
    "\n",
    "Имаме множество:\n",
    "\n",
    "```python\n",
    "['Лъчо', 'Лъчо', 'Стефан', 'Стефан']\n",
    "```\n",
    "\n",
    "Лъчо - 2, Стефан - 2\n",
    "\n",
    "Пропорции:\n",
    "\n",
    "Лъчо: $\\frac{2}{4}$, Стефан: $\\frac{2}{4}$\n",
    "\n",
    "Стойност за Лъчо: \n",
    "$$-\\frac{2}{4} * log_2(\\frac{2}{4})$$\n",
    "$$-0.5 * -1$$\n",
    "$$0.5$$\n",
    "\n",
    "Стефан има същата стойност $0.5$.\n",
    "\n",
    "Ентропията на множеството е $$entropy=0.5+0.5 = 1.0$$\n"
   ]
  },
  {
   "cell_type": "markdown",
   "metadata": {
    "slideshow": {
     "slide_type": "slide"
    }
   },
   "source": [
    "### Пример 2:\n",
    "\n",
    "```python\n",
    "['Круши', 'Круши', 'Круши']\n",
    "```\n",
    "\n",
    "Круши - 3\n",
    "\n",
    "Пропорции:\n",
    "\n",
    "Круши $\\frac{3}{3} = 1$\n",
    "\n",
    "$$-1 * log_2(1)$$\n",
    "$$-1 * 0$$\n",
    "$$entropy=0$$"
   ]
  },
  {
   "cell_type": "markdown",
   "metadata": {},
   "source": [
    "Ето функция, която измерва това:"
   ]
  },
  {
   "cell_type": "code",
   "execution_count": 21,
   "metadata": {
    "collapsed": true,
    "slideshow": {
     "slide_type": "slide"
    }
   },
   "outputs": [],
   "source": [
    "def entropy(subset_counts):\n",
    "    subset_counts = np.array(subset_counts)\n",
    "    subset_counts_normalized = subset_counts / subset_counts.sum()\n",
    "    \n",
    "    entropy = sum([-subset_count * np.log2(subset_count + 0.000000000001) \n",
    "                   for subset_count in subset_counts_normalized])\n",
    "    \n",
    "    entropy = np.round(entropy, 4)\n",
    "    print('Entropy for', subset_counts, 'is', entropy)\n",
    "    return entropy"
   ]
  },
  {
   "cell_type": "markdown",
   "metadata": {},
   "source": [
    "Обърнете внимание на `+ 0.000000000001` в логаритъма. Мислете за това като хак, с който са си спестим малко сметки за да избегнем смятана на логаритъм от 0."
   ]
  },
  {
   "cell_type": "code",
   "execution_count": 22,
   "metadata": {
    "slideshow": {
     "slide_type": "slide"
    }
   },
   "outputs": [
    {
     "name": "stdout",
     "output_type": "stream",
     "text": [
      "Entropy for [2 0] is -0.0\n",
      "Entropy for [1 0] is -0.0\n",
      "Entropy for [9 1] is 0.469\n",
      "Entropy for [4 4] is 1.0\n"
     ]
    }
   ],
   "source": [
    "samples = [[2, 0], [1, 0], [9, 1], [4, 4]]\n",
    "\n",
    "for sample in samples:\n",
    "    entropy(sample)"
   ]
  },
  {
   "cell_type": "markdown",
   "metadata": {},
   "source": [
    "При два класа ентропията ще е в множеството $\\big[0, 1\\big]$. Имаме $1$ когато двата класа са равномерно разпределени в множеството и $0$, когато множеството съдържа елементи само от единия вид.\n",
    "\n",
    "При три или повече класа, функцията няма горна граница:"
   ]
  },
  {
   "cell_type": "code",
   "execution_count": 23,
   "metadata": {
    "slideshow": {
     "slide_type": "slide"
    }
   },
   "outputs": [
    {
     "name": "stdout",
     "output_type": "stream",
     "text": [
      "Entropy for [2 0 1] is 0.9183\n",
      "Entropy for [6 0 0] is -0.0\n",
      "Entropy for [9 1 0] is 0.469\n",
      "Entropy for [5 5 0] is 1.0\n",
      "Entropy for [5 5 5] is 1.585\n"
     ]
    }
   ],
   "source": [
    "samples = [[2, 0, 1], [6, 0, 0], [9, 1, 0], [5, 5, 0], [5, 5, 5]]\n",
    "\n",
    "for sample in samples:\n",
    "    entropy(sample)"
   ]
  },
  {
   "cell_type": "markdown",
   "metadata": {
    "slideshow": {
     "slide_type": "slide"
    }
   },
   "source": [
    "## 2. Gini\n",
    "\n",
    "$H(X_m) = \\sum_k p_{mk} (1 - p_{mk})$\n",
    "\n",
    "$p_{mk}$ отново е пропорцията на класа в множеството."
   ]
  },
  {
   "cell_type": "markdown",
   "metadata": {
    "slideshow": {
     "slide_type": "slide"
    }
   },
   "source": [
    "### Пример:\n",
    "\n",
    "```python\n",
    "['Лъчо', 'Лъчо', 'Стефан', Стефан']\n",
    "```\n",
    "\n",
    "Лъчо - 2, Стефан - 2\n",
    "\n",
    "Пропорции:\n",
    "\n",
    "Лъчо: $\\frac{2}{4}$, Стефан: $\\frac{2}{4}$\n",
    "\n",
    "Стойност за Лъчо: \n",
    "$$\\frac{2}{4} * (1 - \\frac{2}{4})$$\n",
    "$$0.5 * 0.5$$\n",
    "$$0.25$$\n",
    "\n",
    "Стефан има същата стойност $0.25$.\n",
    "\n",
    "$$gini=0.25+0.25 = 0.5$$\n"
   ]
  },
  {
   "cell_type": "markdown",
   "metadata": {
    "slideshow": {
     "slide_type": "slide"
    }
   },
   "source": [
    "### Пример 2:\n",
    "\n",
    "['Круши', 'Круши', 'Круши']\n",
    "\n",
    "Круши - 3\n",
    "\n",
    "Пропорции:\n",
    "\n",
    "Круши $\\frac{3}{3} = 1$\n",
    "\n",
    "$$1 * (1 - 1)$$\n",
    "$$1 * 0$$\n",
    "$$gini=0$$"
   ]
  },
  {
   "cell_type": "code",
   "execution_count": 24,
   "metadata": {
    "collapsed": true,
    "slideshow": {
     "slide_type": "slide"
    }
   },
   "outputs": [],
   "source": [
    "def gini_impurity(subset_counts):\n",
    "    subset_counts = np.array(subset_counts)\n",
    "    subset_counts_normalized = subset_counts / subset_counts.sum()\n",
    "    \n",
    "    impurity = sum([subset_count * (1 - subset_count) \n",
    "                    for subset_count in subset_counts_normalized])\n",
    "    \n",
    "    print('Gini impurity for', subset_counts, 'is', impurity)\n",
    "    return impurity"
   ]
  },
  {
   "cell_type": "code",
   "execution_count": 25,
   "metadata": {
    "slideshow": {
     "slide_type": "slide"
    }
   },
   "outputs": [
    {
     "name": "stdout",
     "output_type": "stream",
     "text": [
      "Gini impurity for [2 0] is 0.0\n",
      "Gini impurity for [1 0] is 0.0\n",
      "Gini impurity for [9 1] is 0.18\n",
      "Gini impurity for [4 4] is 0.5\n"
     ]
    }
   ],
   "source": [
    "samples = [[2, 0], [1, 0], [9, 1], [4, 4]]\n",
    "\n",
    "for sample in samples:\n",
    "    gini_impurity(sample)"
   ]
  },
  {
   "cell_type": "code",
   "execution_count": 26,
   "metadata": {
    "slideshow": {
     "slide_type": "slide"
    }
   },
   "outputs": [
    {
     "name": "stdout",
     "output_type": "stream",
     "text": [
      "Gini impurity for [2 0 1] is 0.444444444444\n",
      "Gini impurity for [6 0 0] is 0.0\n",
      "Gini impurity for [9 1 0] is 0.18\n",
      "Gini impurity for [5 5 0] is 0.5\n",
      "Gini impurity for [5 5 5] is 0.666666666667\n"
     ]
    }
   ],
   "source": [
    "samples = [[2, 0, 1], [6, 0, 0], [9, 1, 0], [5, 5, 0], [5, 5, 5]]\n",
    "\n",
    "for sample in samples:\n",
    "    gini_impurity(sample)"
   ]
  },
  {
   "cell_type": "markdown",
   "metadata": {
    "slideshow": {
     "slide_type": "slide"
    }
   },
   "source": [
    "## 3. Неправилна класификация (Misclassification)\n",
    "\n",
    "$H(X_m) = 1 - \\max(p_{mk})$\n"
   ]
  },
  {
   "cell_type": "code",
   "execution_count": 27,
   "metadata": {
    "collapsed": true,
    "slideshow": {
     "slide_type": "slide"
    }
   },
   "outputs": [],
   "source": [
    "def missclassification_impurity(subset_counts):\n",
    "    subset_counts = np.array(subset_counts)\n",
    "    subset_counts_normalized = subset_counts / subset_counts.sum()\n",
    "    \n",
    "    impurity = 1 - max(subset_counts_normalized)\n",
    "    \n",
    "    print('Misclassification impurity for', subset_counts, 'is', impurity)\n",
    "    return impurity"
   ]
  },
  {
   "cell_type": "code",
   "execution_count": 28,
   "metadata": {
    "slideshow": {
     "slide_type": "slide"
    }
   },
   "outputs": [
    {
     "name": "stdout",
     "output_type": "stream",
     "text": [
      "Misclassification impurity for [2 0] is 0.0\n",
      "Misclassification impurity for [1 0] is 0.0\n",
      "Misclassification impurity for [9 1] is 0.1\n",
      "Misclassification impurity for [4 4] is 0.5\n"
     ]
    }
   ],
   "source": [
    "samples = [[2, 0], [1, 0], [9, 1], [4, 4]]\n",
    "\n",
    "for sample in samples:\n",
    "    missclassification_impurity(sample)"
   ]
  },
  {
   "cell_type": "code",
   "execution_count": 29,
   "metadata": {
    "slideshow": {
     "slide_type": "slide"
    }
   },
   "outputs": [
    {
     "name": "stdout",
     "output_type": "stream",
     "text": [
      "Misclassification impurity for [2 0 1] is 0.333333333333\n",
      "Misclassification impurity for [6 0 0] is 0.0\n",
      "Misclassification impurity for [9 1 0] is 0.1\n",
      "Misclassification impurity for [5 5 0] is 0.5\n",
      "Misclassification impurity for [5 5 5] is 0.666666666667\n"
     ]
    }
   ],
   "source": [
    "samples = [[2, 0, 1], [6, 0, 0], [9, 1, 0], [5, 5, 0], [5, 5, 5]]\n",
    "\n",
    "for sample in samples:\n",
    "    missclassification_impurity(sample)"
   ]
  },
  {
   "cell_type": "markdown",
   "metadata": {},
   "source": [
    "Когато конструирате дърво, може да подадете критерий коя функция да се ползва. Това е параметъра `criterion`. scikit-learn поддържа само `gini` и `entropy`. Повече информация може да намерите в документацията:\n",
    "\n",
    "http://scikit-learn.org/stable/modules/generated/sklearn.tree.DecisionTreeClassifier.html"
   ]
  },
  {
   "cell_type": "markdown",
   "metadata": {},
   "source": [
    "На всяка стъпка алгоритъма се опитва да намери неравенство, което да оптимизира information gain-а. Той се получава по следната формула:"
   ]
  },
  {
   "cell_type": "markdown",
   "metadata": {
    "slideshow": {
     "slide_type": "slide"
    }
   },
   "source": [
    "$ InformationGain = impurity(parent) - \\sum_k{p_{mk}}{impurity(children)}$"
   ]
  },
  {
   "cell_type": "markdown",
   "metadata": {},
   "source": [
    "Може да видим различните резултати, които бихме имали при различните функции за оценка на примесите:"
   ]
  },
  {
   "cell_type": "code",
   "execution_count": 30,
   "metadata": {
    "collapsed": true,
    "slideshow": {
     "slide_type": "slide"
    }
   },
   "outputs": [],
   "source": [
    "def information_gain(subsets, parent_impurity=1, f=entropy):\n",
    "    total_count = sum(sum(i) for i in subsets)\n",
    "    print(\"Total count:\", total_count)\n",
    "    \n",
    "    subsets_impurity = sum((sum(subset) / total_count * f(subset) for subset in subsets))\n",
    "    gain = parent_impurity - subsets_impurity\n",
    "    print(\"Information gain:\", gain)\n",
    "    return gain"
   ]
  },
  {
   "cell_type": "code",
   "execution_count": 31,
   "metadata": {
    "slideshow": {
     "slide_type": "slide"
    }
   },
   "outputs": [
    {
     "name": "stdout",
     "output_type": "stream",
     "text": [
      "Total count: 4\n",
      "Entropy for [2 1] is 0.9183\n",
      "Entropy for [1] is -0.0\n",
      "Information gain: 0.311275\n",
      "\n",
      "Total count: 4\n",
      "Gini impurity for [2 1] is 0.444444444444\n",
      "Gini impurity for [1] is 0.0\n",
      "Information gain: 0.666666666667\n",
      "\n",
      "Total count: 4\n",
      "Misclassification impurity for [2 1] is 0.333333333333\n",
      "Misclassification impurity for [1] is 0.0\n",
      "Information gain: 0.75\n",
      "\n"
     ]
    }
   ],
   "source": [
    "subsets = [[2, 1], [1]]\n",
    "for f in [entropy, gini_impurity, missclassification_impurity]:\n",
    "    information_gain(subsets, parent_impurity=1, f=f); \n",
    "    print();"
   ]
  },
  {
   "cell_type": "code",
   "execution_count": 32,
   "metadata": {
    "slideshow": {
     "slide_type": "slide"
    }
   },
   "outputs": [
    {
     "name": "stdout",
     "output_type": "stream",
     "text": [
      "Total count: 4\n",
      "Entropy for [2] is -0.0\n",
      "Entropy for [2] is -0.0\n",
      "Information gain: 1.0\n",
      "\n",
      "Total count: 4\n",
      "Gini impurity for [2] is 0.0\n",
      "Gini impurity for [2] is 0.0\n",
      "Information gain: 1.0\n",
      "\n",
      "Total count: 4\n",
      "Misclassification impurity for [2] is 0.0\n",
      "Misclassification impurity for [2] is 0.0\n",
      "Information gain: 1.0\n",
      "\n"
     ]
    }
   ],
   "source": [
    "subsets = [[2], [2]]\n",
    "for f in [entropy, gini_impurity, missclassification_impurity]:\n",
    "    information_gain(subsets, parent_impurity=1, f=f); \n",
    "    print();"
   ]
  },
  {
   "cell_type": "code",
   "execution_count": 33,
   "metadata": {
    "slideshow": {
     "slide_type": "slide"
    }
   },
   "outputs": [
    {
     "name": "stdout",
     "output_type": "stream",
     "text": [
      "Gini impurity for [48 52] is 0.4992\n",
      "Gini impurity for [ 9 49] is 0.262187871581\n",
      "Gini impurity for [39  3] is 0.132653061224\n",
      "Gini impurity for [ 0 46] is 0.0\n"
     ]
    }
   ],
   "source": [
    "gini_impurity([48, 52])\n",
    "gini_impurity([9, 49])\n",
    "gini_impurity([39, 3])\n",
    "gini_impurity([0, 46]);"
   ]
  },
  {
   "cell_type": "markdown",
   "metadata": {},
   "source": [
    "До тук с математиката. Не е нужно да запомните всичко, но ако ви се налага да дебъгвате какво е открил алгоритъма, това може да ви помогне да си го обясните."
   ]
  },
  {
   "cell_type": "markdown",
   "metadata": {
    "slideshow": {
     "slide_type": "slide"
    }
   },
   "source": [
    "# Плюсове на decision tree \n",
    "* Дървото е лесно за интерпретация.\n",
    "* Лесно се справя с ирелевантни feature-и (gain = 0).\n",
    "* Може да се справи с липсващи данни (макар и не за текущата имплементация в sklearn).\n",
    "* Компактно представяне на модела.\n",
    "* Бърз при предсказване (линеен на дълбочината на дървото).\n",
    "* Може да прави класификация с повече класове без допълнителни трикове.\n",
    "* Лесен за използване и дава добри резултати с малко експерименти."
   ]
  },
  {
   "cell_type": "markdown",
   "metadata": {
    "slideshow": {
     "slide_type": "slide"
    }
   },
   "source": [
    "# Минуси\n",
    "\n",
    "* Разделя атрибутите само по осите. \n",
    "* Алчен (greedy) - може да не открие най-доброто дърво.\n",
    "* Експоненциално нарастване на възможните дървета.\n",
    "* Овърфитва силно."
   ]
  },
  {
   "cell_type": "markdown",
   "metadata": {
    "slideshow": {
     "slide_type": "slide"
    }
   },
   "source": [
    "## Random Forest"
   ]
  },
  {
   "cell_type": "markdown",
   "metadata": {},
   "source": [
    "За да се справим с проблемите на decision tree обикновено ползваме нещо, наречено random forest. То работи по следния начин:\n",
    "\n",
    "* Генерира много на брой дървета (10, 100, 1000, т.н.).\n",
    "* Всяко дърво е генерирано с различни критерии от останалите (подмножество на данните, подмножество на feature-ите и т.н.).\n",
    "* За да се отговори на въпрос, задаваме го на всички дървета и вземаме най-популярния отговор.\n",
    "\n",
    "Ето някои от причините това да работи по-добре:\n",
    "\n",
    "* Индивидуалните дървета ще правя overfitting, но по различен начин. Осредненият резултат между тях би трябвало да бъде по-регуляризиран.\n",
    "* Ако има аномалии в данните, те ще участват в по-малък брой дървета, съответно по-малко дървета ще overfit-ват.\n",
    "* Вариацията в кои feature се ползват ще изследва различни начини да отговорим на въпроса и докато всеки ще прави грешки, по-малко вероятно е всички да правят едни и същи грешки."
   ]
  },
  {
   "cell_type": "markdown",
   "metadata": {},
   "source": [
    "В scikit-learn ползваме random forest по следния начин:"
   ]
  },
  {
   "cell_type": "code",
   "execution_count": 34,
   "metadata": {
    "slideshow": {
     "slide_type": "slide"
    }
   },
   "outputs": [
    {
     "data": {
      "image/png": "[encoded data removed]",
      "text/plain": [
       "<matplotlib.figure.Figure at 0x10e102f28>"
      ]
     },
     "metadata": {},
     "output_type": "display_data"
    }
   ],
   "source": [
    "from sklearn.ensemble import RandomForestClassifier\n",
    "\n",
    "classifier = RandomForestClassifier(random_state=23).fit(X, y) # без натройка на параметрите\n",
    "plot_boundary(classifier, X, y)"
   ]
  },
  {
   "cell_type": "markdown",
   "metadata": {},
   "source": [
    "(подали сме `random_state=23` за да получаваме детерминистичен отговор – ако промените параметъра ще бъде намерена друга гора, което ще прави генерирането на едни и същи графики в този notebook трудно)"
   ]
  },
  {
   "cell_type": "markdown",
   "metadata": {
    "slideshow": {
     "slide_type": "slide"
    }
   },
   "source": [
    "## Параметри за RF:\n",
    "\n",
    "* `n_estimators` – брой дървета (10, 100, 1000)\n",
    "* `criterion` – за всички дървета (gini, entropy)\n",
    "* `max_features` – колко feature да се пробват при търсене на най-добро разделяне. По подразбиране е `sqrt(n_features)`, като са различни при всяко ново търсене.\n",
    "* `max_depth` – максимална дълбочина на дърветата.\n",
    "* `min_samples_split` – минимален брой семпли за да може да се раздели възела\n",
    "* `bootstrap` – втори параметър за случайност - random sampling with replacement. Тегли същия брой семпли като оригиналния сет, но може да изтегли един елемен няколко пъти (и да не изтели друг)\n",
    "* `n_jobs` – тренира по няколко дървета едновременно, но използва повече памет\n",
    "* `random_state` – за възпроизведими експерименти"
   ]
  },
  {
   "cell_type": "markdown",
   "metadata": {},
   "source": [
    "Ето и две произволни дървета, без фиксиран `random_state`:"
   ]
  },
  {
   "cell_type": "code",
   "execution_count": 35,
   "metadata": {
    "slideshow": {
     "slide_type": "slide"
    }
   },
   "outputs": [
    {
     "data": {
      "image/png": "[encoded data removed]",
      "text/plain": [
       "<matplotlib.figure.Figure at 0x10df34d30>"
      ]
     },
     "metadata": {},
     "output_type": "display_data"
    }
   ],
   "source": [
    "classifer = RandomForestClassifier().fit(X, y)\n",
    "plot_boundary(classifer, X, y)"
   ]
  },
  {
   "cell_type": "code",
   "execution_count": 36,
   "metadata": {
    "slideshow": {
     "slide_type": "slide"
    }
   },
   "outputs": [
    {
     "data": {
      "image/png": "[encoded data removed]",
      "text/plain": [
       "<matplotlib.figure.Figure at 0x10df34ba8>"
      ]
     },
     "metadata": {},
     "output_type": "display_data"
    }
   ],
   "source": [
    "classifer = RandomForestClassifier().fit(X, y)\n",
    "plot_boundary(classifer, X, y)"
   ]
  },
  {
   "cell_type": "markdown",
   "metadata": {
    "slideshow": {
     "slide_type": "slide"
    }
   },
   "source": [
    "# Значимост на feature-ите в random forest\n",
    "\n",
    "Сходно на теглата на параметрите при линейни модели, random forest може да ви каже кои feature-а намира за най-значими (т.е. носят най-много информация).\n",
    "\n",
    "![](http://scikit-learn.org/stable/_images/sphx_glr_plot_forest_importances_001.png)\n",
    "\n",
    "Може да видите повече тук:\n",
    "http://scikit-learn.org/stable/auto_examples/ensemble/plot_forest_importances.html"
   ]
  },
  {
   "cell_type": "markdown",
   "metadata": {
    "slideshow": {
     "slide_type": "slide"
    }
   },
   "source": [
    "### Прочетете документацията:\n",
    "* http://scikit-learn.org/stable/modules/tree.html\n",
    "* http://scikit-learn.org/stable/modules/generated/sklearn.tree.DecisionTreeClassifier.html\n",
    "* http://scikit-learn.org/stable/modules/generated/sklearn.ensemble.RandomForestClassifier.html"
   ]
  }
 ],
 "metadata": {
  "celltoolbar": "Slideshow",
  "kernelspec": {
   "display_name": "Python 3",
   "language": "python",
   "name": "python3"
  },
  "language_info": {
   "codemirror_mode": {
    "name": "ipython",
    "version": 3
   },
   "file_extension": ".py",
   "mimetype": "text/x-python",
   "name": "python",
   "nbconvert_exporter": "python",
   "pygments_lexer": "ipython3",
   "version": "3.6.1"
  }
 },
 "nbformat": 4,
 "nbformat_minor": 2
}
