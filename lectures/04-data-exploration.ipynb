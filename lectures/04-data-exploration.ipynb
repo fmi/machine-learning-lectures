{
 "cells": [
  {
   "cell_type": "markdown",
   "metadata": {
    "slideshow": {
     "slide_type": "slide"
    }
   },
   "source": [
    "# Разглеждане на дата сет, трениране на модел и оптимизиране"
   ]
  },
  {
   "cell_type": "markdown",
   "metadata": {},
   "source": [
    "Тук ще опитаме да видим малко \"machine learning на практика\". Ще разгледаме набор от данни от Kaggle, ще си поиграем с него и ще се опитаме да направим регресор, който да вади добри резултати. Идеята е да видим как изглежда процесът на решаване на реален проблем.\n",
    "\n",
    "Нека да започнем с малко библиотеки:"
   ]
  },
  {
   "cell_type": "code",
   "execution_count": null,
   "metadata": {
    "collapsed": true,
    "slideshow": {
     "slide_type": "slide"
    }
   },
   "outputs": [],
   "source": [
    "import sys\n",
    "\n",
    "import sklearn\n",
    "import pandas as pd\n",
    "import matplotlib as mpl\n",
    "import matplotlib.pyplot as plt\n",
    "import seaborn as sns\n",
    "\n",
    "%matplotlib inline"
   ]
  },
  {
   "cell_type": "markdown",
   "metadata": {
    "slideshow": {
     "slide_type": "slide"
    }
   },
   "source": [
    "Може да изтеглите данните, с които ще работим от тук:\n",
    "\n",
    "https://www.kaggle.com/c/house-prices-advanced-regression-techniques/data\n",
    "\n",
    "Трябат ви поне `train.csv` и `test.csv`, които да поставите в `data/house-prices` спрямо директорията в която е notebook-ът."
   ]
  },
  {
   "cell_type": "markdown",
   "metadata": {
    "slideshow": {
     "slide_type": "slide"
    }
   },
   "source": [
    "### Да заредим данните и да погледнем какво имаме:"
   ]
  },
  {
   "cell_type": "code",
   "execution_count": null,
   "metadata": {
    "collapsed": true,
    "slideshow": {
     "slide_type": "-"
    }
   },
   "outputs": [],
   "source": [
    "train = pd.read_csv('data/house-prices/train.csv', index_col=['Id'])\n",
    "test = pd.read_csv('data/house-prices/test.csv', index_col=['Id'])"
   ]
  },
  {
   "cell_type": "markdown",
   "metadata": {},
   "source": [
    "Нека да видим каква е формата на данните. Атрибутът `shape` връща размерността на данните (редове и колони)."
   ]
  },
  {
   "cell_type": "code",
   "execution_count": null,
   "metadata": {
    "slideshow": {
     "slide_type": "-"
    }
   },
   "outputs": [],
   "source": [
    "print('train:', train.shape)\n",
    "print('test:', test.shape)"
   ]
  },
  {
   "cell_type": "markdown",
   "metadata": {
    "slideshow": {
     "slide_type": "slide"
    }
   },
   "source": [
    "В test има една колона по-малко. Нека да видим коя е:"
   ]
  },
  {
   "cell_type": "code",
   "execution_count": null,
   "metadata": {
    "slideshow": {
     "slide_type": "-"
    }
   },
   "outputs": [],
   "source": [
    "print('missing column:', set(train.columns) - set(test.columns))"
   ]
  },
  {
   "cell_type": "markdown",
   "metadata": {
    "slideshow": {
     "slide_type": "slide"
    }
   },
   "source": [
    "Ще работим с трейн сета. С тестовия няма какво да правим, защото липсва колоната, която предсказваме."
   ]
  },
  {
   "cell_type": "code",
   "execution_count": null,
   "metadata": {
    "collapsed": true,
    "slideshow": {
     "slide_type": "-"
    }
   },
   "outputs": [],
   "source": [
    "del test\n",
    "# Това го нямаше на python лекцията. Помага да осовобидм памет, когато ни е нужна. Без да убиваме процеса."
   ]
  },
  {
   "cell_type": "markdown",
   "metadata": {
    "slideshow": {
     "slide_type": "slide"
    }
   },
   "source": [
    "### Трябва да започнем от някъде. \n",
    "Да видим какви колони има в трейн сета."
   ]
  },
  {
   "cell_type": "code",
   "execution_count": null,
   "metadata": {},
   "outputs": [],
   "source": [
    "train.columns"
   ]
  },
  {
   "cell_type": "markdown",
   "metadata": {
    "slideshow": {
     "slide_type": "slide"
    }
   },
   "source": [
    "### Има и файл с обяснения за всяка колона:"
   ]
  },
  {
   "cell_type": "code",
   "execution_count": null,
   "metadata": {
    "scrolled": false
   },
   "outputs": [],
   "source": [
    "!head -25 data/house-prices/data_description.txt"
   ]
  },
  {
   "cell_type": "markdown",
   "metadata": {
    "slideshow": {
     "slide_type": "slide"
    }
   },
   "source": [
    "Може да видим статистика какви стойности има в колоната и разпределението им:"
   ]
  },
  {
   "cell_type": "code",
   "execution_count": null,
   "metadata": {
    "slideshow": {
     "slide_type": "subslide"
    }
   },
   "outputs": [],
   "source": [
    "print(train.LandContour.value_counts())"
   ]
  },
  {
   "cell_type": "code",
   "execution_count": null,
   "metadata": {
    "slideshow": {
     "slide_type": "subslide"
    }
   },
   "outputs": [],
   "source": [
    "print(train.Electrical.value_counts())"
   ]
  },
  {
   "cell_type": "code",
   "execution_count": null,
   "metadata": {
    "slideshow": {
     "slide_type": "subslide"
    }
   },
   "outputs": [],
   "source": [
    "print(train.Alley.value_counts())"
   ]
  },
  {
   "cell_type": "code",
   "execution_count": null,
   "metadata": {
    "slideshow": {
     "slide_type": "subslide"
    }
   },
   "outputs": [],
   "source": [
    "print(train.FullBath.value_counts())"
   ]
  },
  {
   "cell_type": "markdown",
   "metadata": {
    "slideshow": {
     "slide_type": "subslide"
    }
   },
   "source": [
    "`Pandas` може да показва и графики:"
   ]
  },
  {
   "cell_type": "code",
   "execution_count": null,
   "metadata": {
    "slideshow": {
     "slide_type": "-"
    }
   },
   "outputs": [],
   "source": [
    "train.FullBath.value_counts().plot(kind='bar');"
   ]
  },
  {
   "cell_type": "markdown",
   "metadata": {
    "slideshow": {
     "slide_type": "slide"
    }
   },
   "source": [
    "### Какво ще предсказваме - Цена на имот\n",
    "\n",
    "Да погледнем какво разпределение имат данните."
   ]
  },
  {
   "cell_type": "code",
   "execution_count": null,
   "metadata": {
    "slideshow": {
     "slide_type": "subslide"
    }
   },
   "outputs": [],
   "source": [
    "sns.distplot(train.SalePrice);"
   ]
  },
  {
   "cell_type": "markdown",
   "metadata": {
    "slideshow": {
     "slide_type": "slide"
    }
   },
   "source": [
    "Ще започнем с *baseline* модел. Идеята е възможно най-бързо да намерим отправна точка, която да подобряваме.\n",
    "\n",
    "Първо трябва да разделим данните на `x_train`, `y_train` и `x_test` и `y_test` за да проверим дали моделът генерализира."
   ]
  },
  {
   "cell_type": "code",
   "execution_count": null,
   "metadata": {
    "collapsed": true
   },
   "outputs": [],
   "source": [
    "from sklearn.model_selection import train_test_split\n",
    "\n",
    "train_no_sale_price = train.drop(labels=['SalePrice'], axis=1)\n",
    "train_sale_price = train['SalePrice']\n",
    "\n",
    "x_train, x_test, y_train, y_test = train_test_split(train_no_sale_price, \n",
    "                                                    train_sale_price, \n",
    "                                                    test_size=0.3, \n",
    "                                                    random_state=4330)"
   ]
  },
  {
   "cell_type": "markdown",
   "metadata": {
    "slideshow": {
     "slide_type": "slide"
    }
   },
   "source": [
    "Дали не сме забравили какво връща `train_test_split`? Нека видим какви размери имат новите променливи:"
   ]
  },
  {
   "cell_type": "code",
   "execution_count": null,
   "metadata": {
    "slideshow": {
     "slide_type": "subslide"
    }
   },
   "outputs": [],
   "source": [
    "for df in [x_train, x_test, y_train, y_test]:\n",
    "    print(df.shape)"
   ]
  },
  {
   "cell_type": "markdown",
   "metadata": {
    "slideshow": {
     "slide_type": "slide"
    }
   },
   "source": [
    "Нека започнем с линейна регресия:"
   ]
  },
  {
   "cell_type": "code",
   "execution_count": null,
   "metadata": {
    "slideshow": {
     "slide_type": "subslide"
    }
   },
   "outputs": [],
   "source": [
    "from sklearn.linear_model import LinearRegression\n",
    "\n",
    "regressor = LinearRegression()\n",
    "regressor.fit(x_train, y_train)"
   ]
  },
  {
   "cell_type": "markdown",
   "metadata": {
    "slideshow": {
     "slide_type": "slide"
    }
   },
   "source": [
    "# WTF? Анормално?\n",
    "\n",
    "В този момент идва мега шефа – супер дейта сцайънтист и казва: Събирай си багажа и да те няма! :D\n",
    "\n",
    "Някой трябва да дебъгва."
   ]
  },
  {
   "cell_type": "code",
   "execution_count": null,
   "metadata": {
    "slideshow": {
     "slide_type": "subslide"
    }
   },
   "outputs": [],
   "source": [
    "print((x_train.values == 'Abnorml').sum())\n",
    "\n",
    "col_idx = pd.np.argmax(x_train.values == 'Abnorml', axis=1).max()\n",
    "\n",
    "x_train.iloc[:, col_idx].value_counts()"
   ]
  },
  {
   "cell_type": "markdown",
   "metadata": {
    "slideshow": {
     "slide_type": "slide"
    }
   },
   "source": [
    "Проблемът е че не можем директно да вкараме текстови стойности в модела.\n",
    "\n",
    "Как най-лесно да вземем всички числови стойности? `pandas` има метод `describe()`, който показва статистика за колоните с числови стойности."
   ]
  },
  {
   "cell_type": "code",
   "execution_count": null,
   "metadata": {
    "slideshow": {
     "slide_type": "slide"
    }
   },
   "outputs": [],
   "source": [
    "x_train.describe()"
   ]
  },
  {
   "cell_type": "markdown",
   "metadata": {},
   "source": [
    "Може да конфигурираме pandas да показва повече колони и редове:"
   ]
  },
  {
   "cell_type": "code",
   "execution_count": null,
   "metadata": {
    "collapsed": true,
    "slideshow": {
     "slide_type": "skip"
    }
   },
   "outputs": [],
   "source": [
    "pd.options.display.max_columns = 36\n",
    "pd.options.display.max_rows = 10"
   ]
  },
  {
   "cell_type": "markdown",
   "metadata": {},
   "source": [
    "Ще вземем числовите колони по относително мързелив начин, ползвайки резултата от `describe`:"
   ]
  },
  {
   "cell_type": "code",
   "execution_count": null,
   "metadata": {
    "slideshow": {
     "slide_type": "-"
    }
   },
   "outputs": [],
   "source": [
    "numeric_column_names = x_train.describe().columns\n",
    "print(numeric_column_names)"
   ]
  },
  {
   "cell_type": "markdown",
   "metadata": {
    "slideshow": {
     "slide_type": "slide"
    }
   },
   "source": [
    "Да потренираме отново"
   ]
  },
  {
   "cell_type": "code",
   "execution_count": null,
   "metadata": {
    "scrolled": true,
    "slideshow": {
     "slide_type": "subslide"
    }
   },
   "outputs": [],
   "source": [
    "regressor.fit(x_train[numeric_column_names], y_train)"
   ]
  },
  {
   "cell_type": "markdown",
   "metadata": {
    "slideshow": {
     "slide_type": "subslide"
    }
   },
   "source": [
    "Е, нали ML беше лесен, хвърлям данните на модела или невронната мрежа и готово.\n",
    "\n",
    "Ще подълбаем още, за да открием модела:"
   ]
  },
  {
   "cell_type": "code",
   "execution_count": null,
   "metadata": {
    "scrolled": true,
    "slideshow": {
     "slide_type": "subslide"
    }
   },
   "outputs": [],
   "source": [
    "x_train[numeric_column_names].isnull().sum().sort_values()"
   ]
  },
  {
   "cell_type": "code",
   "execution_count": null,
   "metadata": {
    "slideshow": {
     "slide_type": "subslide"
    }
   },
   "outputs": [],
   "source": [
    "x_train[['LotFrontage','GarageYrBlt', 'MasVnrArea']].hist();"
   ]
  },
  {
   "cell_type": "markdown",
   "metadata": {},
   "source": [
    "В горния пример слагаме `;` за да не се отпечата върнатата стойност на `hist()` в notebook-а. Правим го за да е по-прегледно. В Python няма нужда от `;` иначе."
   ]
  },
  {
   "cell_type": "markdown",
   "metadata": {
    "slideshow": {
     "slide_type": "slide"
    }
   },
   "source": [
    "По някакъв начин трябва да се отървем от празните стойности. Ето няколко варианта:\n",
    "\n",
    "- Да премахнем целите редове.\n",
    "- Да ги заменим със средната стойност или медианата на съответната колона. \n",
    "- Да направим ML модел, с който да предвидим колоната с липсващи елементи, на база на останалите колони.\n",
    "\n",
    "В нашия случай ще ги заменим с 0, защото е подходящо с тези данни. И е най-бързо."
   ]
  },
  {
   "cell_type": "code",
   "execution_count": null,
   "metadata": {
    "slideshow": {
     "slide_type": "subslide"
    }
   },
   "outputs": [],
   "source": [
    "x_train[numeric_column_names] = x_train[numeric_column_names].fillna(0)"
   ]
  },
  {
   "cell_type": "markdown",
   "metadata": {},
   "source": [
    "Не обръщайте внимание на warning-а. В този случай е ОК и когато говорим за pandas по-натам ще стане по-ясно защо се случва. Може да намерите хубав tutorial по въпроса тук:\n",
    "\n",
    "https://www.dataquest.io/blog/settingwithcopywarning/"
   ]
  },
  {
   "cell_type": "code",
   "execution_count": null,
   "metadata": {
    "slideshow": {
     "slide_type": "subslide"
    }
   },
   "outputs": [],
   "source": [
    "x_train[numeric_column_names].isnull().sum(axis=0).value_counts()"
   ]
  },
  {
   "cell_type": "markdown",
   "metadata": {
    "slideshow": {
     "slide_type": "slide"
    }
   },
   "source": [
    "### Да потренираме отново...\n",
    "\n",
    "\n",
    "\n",
    "**third time's a charm**\n",
    "\n",
    "Proverb definition:<br>\n",
    "> One is sure to succeed at a task or event on the third try.\n",
    ">\n",
    "> May jokingly be extended to fourth, fifth or higher numbers if success is not achieved on the third try.\n",
    "\n"
   ]
  },
  {
   "cell_type": "code",
   "execution_count": null,
   "metadata": {
    "slideshow": {
     "slide_type": "slide"
    }
   },
   "outputs": [],
   "source": [
    "regressor.fit(x_train[numeric_column_names], y_train)"
   ]
  },
  {
   "cell_type": "markdown",
   "metadata": {
    "slideshow": {
     "slide_type": "slide"
    }
   },
   "source": [
    "Успех!\n",
    "\n",
    "\n",
    "Следва да видим какво е научил:"
   ]
  },
  {
   "cell_type": "code",
   "execution_count": null,
   "metadata": {
    "slideshow": {
     "slide_type": "subslide"
    }
   },
   "outputs": [],
   "source": [
    "regressor.score(x_train[numeric_column_names], y_train)"
   ]
  },
  {
   "cell_type": "markdown",
   "metadata": {
    "slideshow": {
     "slide_type": "slide"
    }
   },
   "source": [
    "Някакво число. При максимум 1 - не е зле.\n",
    "\n",
    "Все пак, какво предсказва? Нека да видим как са разпределени предвижданията:"
   ]
  },
  {
   "cell_type": "code",
   "execution_count": null,
   "metadata": {
    "slideshow": {
     "slide_type": "subslide"
    }
   },
   "outputs": [],
   "source": [
    "predictions = regressor.predict(x_train[numeric_column_names])\n",
    "\n",
    "print(predictions[:8])\n",
    "\n",
    "sns.distplot(predictions);"
   ]
  },
  {
   "cell_type": "markdown",
   "metadata": {},
   "source": [
    "Може да видим и как е разпределена грешката спрямо стойностите, които трябва да предвидим:"
   ]
  },
  {
   "cell_type": "code",
   "execution_count": null,
   "metadata": {
    "scrolled": true,
    "slideshow": {
     "slide_type": "subslide"
    }
   },
   "outputs": [],
   "source": [
    "differences = (predictions - y_train).round(0)\n",
    "print(differences[:8])"
   ]
  },
  {
   "cell_type": "code",
   "execution_count": null,
   "metadata": {
    "slideshow": {
     "slide_type": "subslide"
    }
   },
   "outputs": [],
   "source": [
    "sns.distplot(differences);"
   ]
  },
  {
   "cell_type": "markdown",
   "metadata": {},
   "source": [
    "Може да видим отклоненията между това което сме предвидили и резултата, който е трябвало да познаем:"
   ]
  },
  {
   "cell_type": "code",
   "execution_count": null,
   "metadata": {
    "scrolled": true,
    "slideshow": {
     "slide_type": "subslide"
    }
   },
   "outputs": [],
   "source": [
    "1 - predictions / y_train"
   ]
  },
  {
   "cell_type": "markdown",
   "metadata": {},
   "source": [
    "`predictions / y_train` ще бъде 1 ако сме познали съвсем точно. `1 - predictions / y_train` ще ни върне отклонението в процент.\n",
    "\n",
    "Може да начертаем същото нещо на диаграма:"
   ]
  },
  {
   "cell_type": "code",
   "execution_count": null,
   "metadata": {
    "slideshow": {
     "slide_type": "subslide"
    }
   },
   "outputs": [],
   "source": [
    "plt.figure(figsize=(12,12))\n",
    "sns.regplot(y_train, predictions)\n",
    "plt.grid(True)\n",
    "plt.show()"
   ]
  },
  {
   "cell_type": "markdown",
   "metadata": {},
   "source": [
    "По x имаме оригиналната цена, а по y – нашето предвиждане. Ако моделът ни познаваше съвсем точно, всички точки щяха да лежат на правата. Тук може да видим разликите - грешката, която правим."
   ]
  },
  {
   "cell_type": "markdown",
   "metadata": {
    "slideshow": {
     "slide_type": "slide"
    }
   },
   "source": [
    "Нека да пробваме с тест сета:"
   ]
  },
  {
   "cell_type": "code",
   "execution_count": null,
   "metadata": {
    "scrolled": true,
    "slideshow": {
     "slide_type": "subslide"
    }
   },
   "outputs": [],
   "source": [
    "x_test[numeric_column_names].isnull().sum().sort_values(ascending=False)[:4]"
   ]
  },
  {
   "cell_type": "code",
   "execution_count": null,
   "metadata": {
    "slideshow": {
     "slide_type": "subslide"
    }
   },
   "outputs": [],
   "source": [
    "x_test[numeric_column_names] = x_test[numeric_column_names].fillna(0)"
   ]
  },
  {
   "cell_type": "code",
   "execution_count": null,
   "metadata": {
    "slideshow": {
     "slide_type": "subslide"
    }
   },
   "outputs": [],
   "source": [
    "predictions_test = regressor.predict(x_test[numeric_column_names])\n",
    "plt.figure(figsize=(12,12))\n",
    "sns.regplot(y_test, predictions_test)\n",
    "plt.grid(True)\n",
    "plt.show()"
   ]
  },
  {
   "cell_type": "code",
   "execution_count": null,
   "metadata": {
    "slideshow": {
     "slide_type": "subslide"
    }
   },
   "outputs": [],
   "source": [
    "print(\"score for test:\", regressor.score(x_test[numeric_column_names], y_test))"
   ]
  },
  {
   "cell_type": "code",
   "execution_count": null,
   "metadata": {
    "scrolled": true,
    "slideshow": {
     "slide_type": "subslide"
    }
   },
   "outputs": [],
   "source": [
    "y_test - predictions_test"
   ]
  },
  {
   "cell_type": "code",
   "execution_count": null,
   "metadata": {
    "scrolled": true,
    "slideshow": {
     "slide_type": "subslide"
    }
   },
   "outputs": [],
   "source": [
    "deviation = 1 - predictions_test / y_test\n",
    "deviation[:8]"
   ]
  },
  {
   "cell_type": "code",
   "execution_count": null,
   "metadata": {
    "slideshow": {
     "slide_type": "subslide"
    }
   },
   "outputs": [],
   "source": [
    "sns.distplot(deviation)"
   ]
  },
  {
   "cell_type": "markdown",
   "metadata": {
    "slideshow": {
     "slide_type": "slide"
    }
   },
   "source": [
    "Какво научи моделът? Теглата (weights) на всеки един от атрибутите. Нека го визуализираме:"
   ]
  },
  {
   "cell_type": "code",
   "execution_count": null,
   "metadata": {
    "slideshow": {
     "slide_type": "subslide"
    }
   },
   "outputs": [],
   "source": [
    "plt.figure(figsize=(12,8))\n",
    "barplot = sns.barplot(x=numeric_column_names, y=regressor.coef_, orient='vertical')\n",
    "plt.setp(barplot.get_xticklabels(), rotation=90); plt.grid(True);"
   ]
  },
  {
   "cell_type": "markdown",
   "metadata": {
    "slideshow": {
     "slide_type": "subslide"
    }
   },
   "source": [
    "Тук може да видим някои интересни неща – колоните `OverallQual` и `BsmtFullBath` имат много голяма стойност. Също, наличието на гараж (`GarageCars`) добавя около 16 000 към цената на апартамента.\n",
    "\n",
    "В крайна сметка, линейната регресия е просто линейно уравнение с определени коефициенти (тези горе). Може да ги видим в самия регресор:"
   ]
  },
  {
   "cell_type": "code",
   "execution_count": null,
   "metadata": {
    "slideshow": {
     "slide_type": "subslide"
    }
   },
   "outputs": [],
   "source": [
    "print(regressor.intercept_)\n",
    "print(regressor.coef_)"
   ]
  },
  {
   "cell_type": "markdown",
   "metadata": {
    "slideshow": {
     "slide_type": "subslide"
    }
   },
   "source": [
    "Моделът в момента:\n",
    "\n",
    "цена = 56000 + 17000 \\* _OverallQual_ + 16000 \\* _GarageCars_ + 12000 \\* _BsmtFullBath_ - 14000 \\* _KitchenAbvGr_\n",
    "\n",
    "$y = a_0 + a_1 * x_1 + a_2 * x_2 ... a_n * x_n$"
   ]
  },
  {
   "cell_type": "code",
   "execution_count": null,
   "metadata": {
    "slideshow": {
     "slide_type": "subslide"
    }
   },
   "outputs": [],
   "source": [
    "print(regressor.intercept_, \" + \",)\n",
    "list(zip(regressor.coef_, \"*\"*len(regressor.coef_), numeric_column_names, ))"
   ]
  },
  {
   "cell_type": "markdown",
   "metadata": {
    "slideshow": {
     "slide_type": "slide"
    }
   },
   "source": [
    "## До тук:\n",
    "\n",
    "* Разделихме данните на тренировъчно и тестово множество.\n",
    "* Взехме само числовите колони.\n",
    "* Изчистихме (земенихме с 0) празните стойности.\n",
    "* Натренирахме регресор.\n",
    "* Изчислихме му резултата - за трейн: 0.798 за тест: 0.8412021\n",
    "* Определихме, че моделът не овърфитва - генерализира добре. Следователно може да бъде използван по-сложен модел.\n",
    "* Използваните от модела фичъри не изглеждат интуитивно оптимални.\n",
    "* Разгледахме разликите в предвижданията на цените за трейн и тест множествата.\n",
    "* Разгледахме теглата на фичърите."
   ]
  },
  {
   "cell_type": "markdown",
   "metadata": {
    "slideshow": {
     "slide_type": "slide"
    }
   },
   "source": [
    "## Следва\n",
    "\n",
    "* Усложняване на модела – още фичъри от данните."
   ]
  },
  {
   "cell_type": "code",
   "execution_count": null,
   "metadata": {
    "slideshow": {
     "slide_type": "slide"
    }
   },
   "outputs": [],
   "source": [
    "pd.options.display.max_rows = 10\n",
    "train.dtypes"
   ]
  },
  {
   "cell_type": "code",
   "execution_count": null,
   "metadata": {
    "slideshow": {
     "slide_type": "slide"
    }
   },
   "outputs": [],
   "source": [
    "categorical_columns = train.dtypes[train.dtypes == 'object'].index\n",
    "print(categorical_columns)"
   ]
  },
  {
   "cell_type": "markdown",
   "metadata": {
    "slideshow": {
     "slide_type": "slide"
    }
   },
   "source": [
    "Би било добре.... да разгледаме какво съдържат всички колони, но... \n",
    "\n",
    "![какво е ML](https://imgs.xkcd.com/comics/machine_learning.png)"
   ]
  },
  {
   "cell_type": "markdown",
   "metadata": {
    "slideshow": {
     "slide_type": "slide"
    }
   },
   "source": [
    "### Как да използваме данните от останалите колони? \n",
    "\n",
    "Hint: Трябва да ги умножаваме с тегла – трябва да са числови стойности, а не низове.\n",
    "\n",
    "Може да ползваме нещо, наречено [`LabelEncoder`](http://scikit-learn.org/stable/modules/generated/sklearn.preprocessing.LabelEncoder.html). То ще замени замени всеки уникален низ с число."
   ]
  },
  {
   "cell_type": "code",
   "execution_count": null,
   "metadata": {
    "slideshow": {
     "slide_type": "slide"
    }
   },
   "outputs": [],
   "source": [
    "from sklearn.preprocessing import LabelEncoder\n",
    "\n",
    "le = LabelEncoder()\n",
    "le.fit([\"paris\", \"paris\", \"tokyo\", \"amsterdam\"])\n",
    "\n",
    "print(\"Learned classes:\", le.classes_)\n",
    "\n",
    "capitals_list = [\"tokyo\", \"tokyo\", \"paris\"]\n",
    "\n",
    "print(\"transofrmed:\", capitals_list, \" to:\", le.transform([\"tokyo\", \"tokyo\", \"paris\"])) \n",
    "print(\"inverse:\", [2, 2, 1, 0], \" to:\", le.inverse_transform([2, 2, 1, 0]))"
   ]
  },
  {
   "cell_type": "markdown",
   "metadata": {
    "slideshow": {
     "slide_type": "slide"
    }
   },
   "source": [
    "Тук обаче имаме проблем.\n",
    "\n",
    "Ако теглото за столица е 4. Тогава Амстердам ще има стойност `4 * 0 = 0`, а Париж `4 * 1 = 4`.\n",
    "    \n",
    "Но според Лъчо, `Амстердамския кекс > Парижкия кроасан`.\n",
    "\n",
    "Тук може да ни помогне `OneHotEncoder`. Той ще създаде по една колона за всяка стойност, която ще бъде `0` или `1` спрямо дали колоната има тази стойност или не:"
   ]
  },
  {
   "cell_type": "code",
   "execution_count": null,
   "metadata": {
    "slideshow": {
     "slide_type": "slide"
    }
   },
   "outputs": [],
   "source": [
    "from sklearn.preprocessing import OneHotEncoder\n",
    "enc = OneHotEncoder()\n",
    "\n",
    "enc.fit([[0, 0, 3], \n",
    "         [1, 1, 0], \n",
    "         [0, 2, 1], \n",
    "         [1, 0, 2]])\n",
    "\n",
    "print(\"Number of unique IDs for column:\", enc.n_values_)\n",
    "print(\"Where does the feature start/end:\", enc.feature_indices_)\n",
    "print(enc.transform([[0, 1, 1]]).toarray())\n",
    "print(enc.transform([[1, 2, 3]]).toarray())"
   ]
  },
  {
   "cell_type": "markdown",
   "metadata": {
    "slideshow": {
     "slide_type": "slide"
    }
   },
   "source": [
    "Обаче LabelEncoder работи само с 1 колона. Трябва да ги завъртим в цикъл за всички колони."
   ]
  },
  {
   "cell_type": "code",
   "execution_count": null,
   "metadata": {
    "slideshow": {
     "slide_type": "subslide"
    }
   },
   "outputs": [],
   "source": [
    "train = train.fillna(\"\")\n",
    "encoders = {col: LabelEncoder().fit(train[col]) for col in categorical_columns}\n",
    "\n",
    "print(encoders['MSZoning'].classes_)\n",
    "print(encoders['Street'].classes_)"
   ]
  },
  {
   "cell_type": "markdown",
   "metadata": {
    "slideshow": {
     "slide_type": "slide"
    }
   },
   "source": [
    "Сега ще променим низивете към новите идентификатори:"
   ]
  },
  {
   "cell_type": "code",
   "execution_count": null,
   "metadata": {
    "slideshow": {
     "slide_type": "subslide"
    }
   },
   "outputs": [],
   "source": [
    "def encode_categorical(data, columns, encoders):\n",
    "    data = data.fillna(\"\")\n",
    "    return pd.DataFrame({col: encoders[col].transform(data[col]) for col in columns},\n",
    "                        index = data.index)\n",
    "\n",
    "train_encoded = encode_categorical(train, categorical_columns, encoders)\n",
    "\n",
    "pd.options.display.max_columns=12\n",
    "train_encoded.head(8)"
   ]
  },
  {
   "cell_type": "markdown",
   "metadata": {
    "slideshow": {
     "slide_type": "slide"
    }
   },
   "source": [
    "И сега в one-hot:"
   ]
  },
  {
   "cell_type": "code",
   "execution_count": null,
   "metadata": {
    "slideshow": {
     "slide_type": "subslide"
    }
   },
   "outputs": [],
   "source": [
    "one_hot_encoder = OneHotEncoder().fit(train_encoded)\n",
    "\n",
    "print(one_hot_encoder.transform(train_encoded[:10]).todense())\n",
    "print(one_hot_encoder.transform(train_encoded).shape)"
   ]
  },
  {
   "cell_type": "markdown",
   "metadata": {
    "slideshow": {
     "slide_type": "slide"
    }
   },
   "source": [
    "### Да натренираме... регресор само с тези данни"
   ]
  },
  {
   "cell_type": "code",
   "execution_count": null,
   "metadata": {
    "slideshow": {
     "slide_type": "subslide"
    }
   },
   "outputs": [],
   "source": [
    "from sklearn.linear_model import LinearRegression \n",
    "\n",
    "one_hot_x_train = one_hot_encoder.transform(encode_categorical(x_train[categorical_columns], categorical_columns, encoders))\n",
    "\n",
    "cat_regression = LinearRegression().fit(one_hot_x_train, y_train)\n",
    "print(cat_regression.score(one_hot_x_train, y_train))\n",
    "\n",
    "one_hot_x_test = one_hot_encoder.transform(encode_categorical(x_test[categorical_columns], categorical_columns, encoders))\n",
    "print(cat_regression.score(one_hot_x_test, y_test))"
   ]
  },
  {
   "cell_type": "markdown",
   "metadata": {
    "slideshow": {
     "slide_type": "slide"
    }
   },
   "source": [
    "Предишните резултати за трейн: 0.798 за тест: 0.841\n",
    "\n",
    "Новите са: 0.877 и 0.743\n",
    "\n",
    "Този модел овърфитва, но пак има стойност. Можем да съединим фичърите в общ модел."
   ]
  },
  {
   "cell_type": "code",
   "execution_count": null,
   "metadata": {
    "slideshow": {
     "slide_type": "subslide"
    }
   },
   "outputs": [],
   "source": [
    "x_train[numeric_column_names].shape, one_hot_x_train.shape"
   ]
  },
  {
   "cell_type": "code",
   "execution_count": null,
   "metadata": {
    "slideshow": {
     "slide_type": "subslide"
    }
   },
   "outputs": [],
   "source": [
    "new_x_train = pd.np.concatenate([one_hot_x_train.todense(), x_train[numeric_column_names]], axis=1)\n",
    "new_x_test = pd.np.concatenate([one_hot_x_test.todense(), x_test[numeric_column_names]], axis=1)\n",
    "print(new_x_train.shape, new_x_test.shape)"
   ]
  },
  {
   "cell_type": "markdown",
   "metadata": {
    "slideshow": {
     "slide_type": "slide"
    }
   },
   "source": [
    "### Да потренираме... отново\n",
    "\n",
    "Това почва да омръзва вече :D"
   ]
  },
  {
   "cell_type": "code",
   "execution_count": null,
   "metadata": {
    "slideshow": {
     "slide_type": "subslide"
    }
   },
   "outputs": [],
   "source": [
    "all_data_lr = LinearRegression().fit(new_x_train, y_train)\n",
    "print(all_data_lr.score(new_x_train, y_train))\n",
    "print(all_data_lr.score(new_x_test, y_test))"
   ]
  },
  {
   "cell_type": "markdown",
   "metadata": {
    "slideshow": {
     "slide_type": "slide"
    }
   },
   "source": [
    "0.798 за тест: 0.841\n",
    "\n",
    "0.877 и 0.743\n",
    "\n",
    "Новите: 0.937, за тест: 0.847 \n",
    "**(голямо подобрение за трейн и малко за тест сета)**\n",
    "\n",
    "Да пробваме регуларизация"
   ]
  },
  {
   "cell_type": "code",
   "execution_count": null,
   "metadata": {
    "slideshow": {
     "slide_type": "subslide"
    }
   },
   "outputs": [],
   "source": [
    "from sklearn.linear_model import Ridge\n",
    "\n",
    "alpha = [0.01, 0.1, 1, 10, 100]\n",
    "\n",
    "for a in alpha:\n",
    "    all_data_lr = Ridge(alpha = a).fit(new_x_train, y_train)\n",
    "    print('alpha:', a)\n",
    "    print(all_data_lr.score(new_x_train, y_train), all_data_lr.score(new_x_test, y_test))\n",
    "    print()"
   ]
  },
  {
   "cell_type": "markdown",
   "metadata": {
    "slideshow": {
     "slide_type": "slide"
    }
   },
   "source": [
    "Новите резултати при alpha= 10:\n",
    "\n",
    "трейн: 0.893310713513\n",
    "\n",
    "тест: 0.892240478482\n",
    "\n",
    "Моделът е доста по-добър и генерализира добре. Може и да изтиска още малко ако се търси в диапазона 0.1 до 100 на alpha."
   ]
  },
  {
   "cell_type": "markdown",
   "metadata": {
    "slideshow": {
     "slide_type": "slide"
    }
   },
   "source": [
    "### Още една трансформация (feature engineering)"
   ]
  },
  {
   "cell_type": "code",
   "execution_count": null,
   "metadata": {
    "slideshow": {
     "slide_type": "subslide"
    }
   },
   "outputs": [],
   "source": [
    "plt.figure(figsize=(8, 4))\n",
    "plt.subplot(1, 2, 1)\n",
    "sns.distplot(y_train)\n",
    "plt.subplot(1, 2, 2)\n",
    "sns.distplot(pd.np.log10(y_train))"
   ]
  },
  {
   "cell_type": "markdown",
   "metadata": {},
   "source": [
    "Тук имаше малко магия – първата дистрибуция ила long-tail форма. Понякога като прекараме такава дистрибуция през логаритъм, тя започва да изглежда по-стандартно. В случая (произволно) избрахме логаритъм при основа 10, което свежда нещата до що-годе стандартна дистрибуция."
   ]
  },
  {
   "cell_type": "code",
   "execution_count": null,
   "metadata": {
    "slideshow": {
     "slide_type": "slide"
    }
   },
   "outputs": [],
   "source": [
    "all_data_lr = LinearRegression().fit(new_x_train, pd.np.log10(y_train))\n",
    "print(all_data_lr.score(new_x_train, pd.np.log10(y_train)))\n",
    "print(all_data_lr.score(new_x_test, pd.np.log10(y_test)))\n",
    "\n",
    "# Предишни резултати: \n",
    "# трейн: 0.893310713513\n",
    "# тест: 0.892240478482"
   ]
  },
  {
   "cell_type": "markdown",
   "metadata": {
    "collapsed": true,
    "slideshow": {
     "slide_type": "slide"
    }
   },
   "source": [
    "Вече имаме по-добри резултати.\n",
    "\n",
    "Изглежда, обаче, че модела overfit-а. Може да пробваме с регуляризация. Нека да потърсим подходящ `alpha` параметър:"
   ]
  },
  {
   "cell_type": "code",
   "execution_count": null,
   "metadata": {
    "slideshow": {
     "slide_type": "subslide"
    }
   },
   "outputs": [],
   "source": [
    "alphas = [0.01, 0.1, 1, 10, 100]\n",
    "for alpha in alphas:\n",
    "    all_data_lr = Ridge(alpha = alpha).fit(new_x_train, pd.np.log10(y_train))\n",
    "    print('alpha:', alpha)\n",
    "    print(all_data_lr.score(new_x_train, pd.np.log10(y_train)), all_data_lr.score(new_x_test, pd.np.log10(y_test)))\n",
    "    print()"
   ]
  },
  {
   "cell_type": "code",
   "execution_count": null,
   "metadata": {},
   "outputs": [],
   "source": [
    "from sklearn.metrics import r2_score\n",
    "\n",
    "for alpha in [0.01, 0.1, 1, 10, 100]:\n",
    "    all_data_lr = Ridge(alpha = alpha).fit(new_x_train, pd.np.log10(y_train))\n",
    "    print('alpha:', alpha)\n",
    "    print(r2_score(10**all_data_lr.predict(new_x_train), y_train))\n",
    "    print(r2_score(10**all_data_lr.predict(new_x_test), y_test))\n",
    "    print()"
   ]
  },
  {
   "cell_type": "code",
   "execution_count": null,
   "metadata": {},
   "outputs": [],
   "source": [
    "print(r2_score(y_train, 10**all_data_lr.predict(new_x_train)))\n",
    "print(r2_score(y_test, 10**all_data_lr.predict(new_x_test)))"
   ]
  },
  {
   "cell_type": "markdown",
   "metadata": {
    "slideshow": {
     "slide_type": "slide"
    }
   },
   "source": [
    "alpha: 10\n",
    "\n",
    "0.914572813642\n",
    "\n",
    "0.925776887973\n",
    "\n",
    "\n",
    "\n",
    "Хубава статия за още масажиране на данните: \n",
    "\n",
    "https://www.kaggle.com/pmarcelino/comprehensive-data-exploration-with-python/notebook"
   ]
  },
  {
   "cell_type": "markdown",
   "metadata": {
    "slideshow": {
     "slide_type": "slide"
    }
   },
   "source": [
    "### Последно - полиномни\n",
    "\n",
    "Може да ползваме `PolynomialFeatures` да генерираме всички възможни полиноми от втора степен с входните данни:"
   ]
  },
  {
   "cell_type": "code",
   "execution_count": null,
   "metadata": {
    "slideshow": {
     "slide_type": "subslide"
    }
   },
   "outputs": [],
   "source": [
    "from sklearn.preprocessing import PolynomialFeatures\n",
    "\n",
    "poly_features = PolynomialFeatures(degree=2, interaction_only=False, include_bias=True)\n",
    "\n",
    "poly_features.fit(new_x_train)\n",
    "\n",
    "poly_x_train = poly_features.transform(new_x_train)\n",
    "poly_x_test = poly_features.transform(new_x_test)\n",
    "\n",
    "print(new_x_train.shape)\n",
    "print(poly_x_train.shape)"
   ]
  },
  {
   "cell_type": "markdown",
   "metadata": {},
   "source": [
    "Нека да видим резултата с различни регуляризации."
   ]
  },
  {
   "cell_type": "code",
   "execution_count": null,
   "metadata": {
    "slideshow": {
     "slide_type": "subslide"
    }
   },
   "outputs": [],
   "source": [
    "for a in [10e6, 10e7, 10e8, 10e9, 10e10]:\n",
    "    print('alpha:', a)\n",
    "    all_data_lr = Ridge(alpha=a).fit(poly_x_train, pd.np.log10(y_train))\n",
    "    print(all_data_lr.score(poly_x_train, pd.np.log10(y_train)), all_data_lr.score(poly_x_test, pd.np.log10(y_test)))\n",
    "    print()"
   ]
  },
  {
   "cell_type": "markdown",
   "metadata": {},
   "source": [
    "Този модел прави стабилен overfitting – явно е твърде сложен.\n",
    "\n",
    "Като правило, когато има повече колони, отколкото редове, това се случва."
   ]
  },
  {
   "cell_type": "markdown",
   "metadata": {
    "slideshow": {
     "slide_type": "slide"
    }
   },
   "source": [
    "### Намерихме модел, да го събмитнем."
   ]
  },
  {
   "cell_type": "code",
   "execution_count": null,
   "metadata": {
    "collapsed": true,
    "slideshow": {
     "slide_type": "subslide"
    }
   },
   "outputs": [],
   "source": [
    "train = pd.read_csv('data/house-prices/train.csv', index_col=['Id'])\n",
    "test = pd.read_csv('data/house-prices/test.csv', index_col=['Id'])\n",
    "\n",
    "def pipeline_data(data):\n",
    "    _numeric = data[numeric_column_names].fillna(0)\n",
    "    _categorical = data[categorical_columns].fillna(\"\")\n",
    "    _encoded = encode_categorical(_categorical, categorical_columns, encoders)\n",
    "    _one_hot_encoded = one_hot_encoder.transform(_encoded)\n",
    "    _merged = pd.np.concatenate([_one_hot_encoded.todense(), _numeric], axis=1)\n",
    "    return _merged"
   ]
  },
  {
   "cell_type": "code",
   "execution_count": null,
   "metadata": {
    "collapsed": true,
    "slideshow": {
     "slide_type": "subslide"
    }
   },
   "outputs": [],
   "source": [
    "full_x = pipeline_data(train)\n",
    "full_y = train['SalePrice']\n",
    "\n",
    "# Fix test set missing data problems\n",
    "test['MSZoning'].fillna('RL', inplace=True)\n",
    "test['Utilities'].fillna('AllPub', inplace=True)\n",
    "test['Exterior1st'].fillna('VinylSd', inplace=True)\n",
    "test['Exterior2nd'].fillna('VinylSd', inplace=True)\n",
    "test['KitchenQual'].fillna('TA', inplace=True)\n",
    "test['Functional'].fillna('Typ', inplace=True)\n",
    "test['SaleType'].fillna('WD', inplace=True)\n",
    "\n",
    "test_set = pipeline_data(test)"
   ]
  },
  {
   "cell_type": "code",
   "execution_count": null,
   "metadata": {
    "collapsed": true,
    "slideshow": {
     "slide_type": "subslide"
    }
   },
   "outputs": [],
   "source": [
    "ridge = Ridge(alpha=0.1).fit(full_x, pd.np.log10(full_y))"
   ]
  },
  {
   "cell_type": "code",
   "execution_count": null,
   "metadata": {
    "collapsed": true,
    "slideshow": {
     "slide_type": "subslide"
    }
   },
   "outputs": [],
   "source": [
    "predictions = 10**ridge.predict(test_set)\n",
    "predictions_df = pd.DataFrame({\"Id\":test.index, \"SalePrice\":predictions})\n",
    "predictions_df.to_csv(\"/Users/lachezar/Downloads/submit_me.csv\", index=False)\n",
    "predictions_df.head()"
   ]
  },
  {
   "cell_type": "markdown",
   "metadata": {
    "slideshow": {
     "slide_type": "subslide"
    }
   },
   "source": [
    "![prediction_result](3-prediction-result.png)"
   ]
  },
  {
   "cell_type": "markdown",
   "metadata": {
    "slideshow": {
     "slide_type": "subslide"
    }
   },
   "source": [
    "### Защо не съм на по-добро място в класацията?"
   ]
  },
  {
   "cell_type": "markdown",
   "metadata": {
    "slideshow": {
     "slide_type": "slide"
    }
   },
   "source": [
    "### Заключения\n",
    "\n",
    "1. Има ли значение дали правим регресия или класификация?\n",
    "Ако колоната, която предсказваме съдържа ['скъпа', 'евтина', 'средна']\n",
    "\n",
    "2. Има ли значение кой модел ползваме - LinearRegression, RandomForest, Neural Network, kNN?\n",
    "\n",
    "3. Колко кобминации можем да направим за модела?\n",
    "\n",
    "4. 4 часа разглеждане на данни, чистене и оформяне на pipeline и фичъри. 20 минути трениране и оптимизиране на модели."
   ]
  },
  {
   "cell_type": "markdown",
   "metadata": {
    "slideshow": {
     "slide_type": "slide"
    }
   },
   "source": [
    "### За домашно: \n",
    "\n",
    "1. Прочетете документациите\n",
    "\n",
    "  * http://scikit-learn.org/stable/modules/preprocessing.html\n",
    "  * https://seaborn.pydata.org/\n",
    "  * https://pandas.pydata.org/pandas-docs/stable/\n",
    "\n",
    "2. Упражнение\n",
    "\n",
    "  Изберете си dataset от https://www.kaggle.com/datasets и му направете \"Exploratory data analysis\" в jupyter notebook. Изберете си колона и натренирайте Линейна или логистична регресия. Оценете модела срещу тренировачното и тестово множество."
   ]
  }
 ],
 "metadata": {
  "celltoolbar": "Slideshow",
  "kernelspec": {
   "display_name": "Python 3",
   "language": "python",
   "name": "python3"
  },
  "language_info": {
   "codemirror_mode": {
    "name": "ipython",
    "version": 3
   },
   "file_extension": ".py",
   "mimetype": "text/x-python",
   "name": "python",
   "nbconvert_exporter": "python",
   "pygments_lexer": "ipython3",
   "version": "3.6.2"
  }
 },
 "nbformat": 4,
 "nbformat_minor": 2
}
