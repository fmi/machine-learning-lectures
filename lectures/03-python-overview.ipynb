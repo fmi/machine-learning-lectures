{
 "cells": [
  {
   "cell_type": "markdown",
   "metadata": {
    "slideshow": {
     "slide_type": "slide"
    }
   },
   "source": [
    "# Python"
   ]
  },
  {
   "cell_type": "markdown",
   "metadata": {
    "slideshow": {
     "slide_type": "slide"
    }
   },
   "source": [
    "#### but first!"
   ]
  },
  {
   "cell_type": "markdown",
   "metadata": {
    "slideshow": {
     "slide_type": "subslide"
    }
   },
   "source": [
    "Курсът си има slack! Вижте как да се присъедините към групата в [новината в сайта](http://fmi.machine-learning.bg/announcements/6)."
   ]
  },
  {
   "cell_type": "markdown",
   "metadata": {
    "slideshow": {
     "slide_type": "slide"
    }
   },
   "source": [
    "За целите на курса (и в machine learning света като цяло) стандартният език е python"
   ]
  },
  {
   "cell_type": "markdown",
   "metadata": {
    "slideshow": {
     "slide_type": "subslide"
    }
   },
   "source": [
    "колко от вас имат инсталиран python?"
   ]
  },
  {
   "cell_type": "markdown",
   "metadata": {
    "slideshow": {
     "slide_type": "subslide"
    }
   },
   "source": [
    "сигурни ли сте, че е python3?"
   ]
  },
  {
   "cell_type": "markdown",
   "metadata": {
    "slideshow": {
     "slide_type": "skip"
    }
   },
   "source": [
    "Разликите между python 2.7 и 3.x са достатъчни, за да направят живота ви далеч по-лесен ако ползвате 3.x, но също и достатъчни, за  да направят мигрирането на стар код доста тежко. Макар че версия 3.0 се появи на бял свят през 2008, до преди 3-4 години беше относително нормално да се срещат огромни тежки проекти, които все още използват 2.7. До голяма степен това беше така, поради факта, че трудността за мигриране към 3.x означаваше, че и много библиотеки продължаваха да не работят с python 3.\n",
    "За целите на този курс и като цяло в machine learning света, python 3 вече е много добре поддържан и е стандартната версия, която се очаква да използвате."
   ]
  },
  {
   "cell_type": "markdown",
   "metadata": {
    "slideshow": {
     "slide_type": "subslide"
    }
   },
   "source": [
    "```\n",
    "[kunev@r_lyeh machine-learning-lectures]$ python\n",
    "Python 3.6.2 (default, Jul 20 2017, 03:52:27)\n",
    "[GCC 7.1.1 20170630] on linux\n",
    "Type \"help\", \"copyright\", \"credits\" or \"license\" for more information.\n",
    "```"
   ]
  },
  {
   "cell_type": "markdown",
   "metadata": {
    "slideshow": {
     "slide_type": "slide"
    }
   },
   "source": [
    "### Инсталирайте си python\n",
    "##### os x\n",
    "```\n",
    "brew install python3\n",
    "```\n",
    "##### ubuntu/debian\n",
    "```\n",
    "apt-get install python3\n",
    "```\n",
    "##### other linux\n",
    "обикновено пакетът се казва `python3`\n",
    "##### windows\n",
    "Свалете инсталатора от [тук](https://www.python.org/downloads/)"
   ]
  },
  {
   "cell_type": "markdown",
   "metadata": {
    "slideshow": {
     "slide_type": "skip"
    }
   },
   "source": [
    "Според операционната ви система е възможно да имате стандартно инсталиран python интерпретатор. При OS X/macOS и Debian е 2.7. За повечето linux дистрибуции (особено не базирани на Debian) е по-вероятно да е 3.x. Определено искате да проверите версията си като просто пуснете `python`. Ако се окаже, че версията е 2.7, пробвайте дали не можете да изпълните `python3`. Ако не, просто инсталирайте по някой от описаните по-горе начини. "
   ]
  },
  {
   "cell_type": "markdown",
   "metadata": {
    "slideshow": {
     "slide_type": "slide"
    }
   },
   "source": [
    "### променливи\n",
    "Имената се състоят от букви, цифри и `_`, като не могат да започват с цифра\n",
    "* `a`\n",
    "* `baba`\n",
    "* `larodi_3`\n",
    "* `_spam_42`\n",
    "* `_A_h0Rr1bbl3_Nam3_U_c0UlD_uSE_buT_pL3Ase_DONT`"
   ]
  },
  {
   "cell_type": "markdown",
   "metadata": {
    "slideshow": {
     "slide_type": "subslide"
    }
   },
   "source": [
    "#### присвояване на стойности"
   ]
  },
  {
   "cell_type": "code",
   "execution_count": null,
   "metadata": {
    "collapsed": true,
    "slideshow": {
     "slide_type": "-"
    }
   },
   "outputs": [],
   "source": [
    "kind_of_pi = 3.14\n",
    "the_answer = 42\n",
    "our_hero = 'Zaphod Beeblebrox'"
   ]
  },
  {
   "cell_type": "markdown",
   "metadata": {
    "slideshow": {
     "slide_type": "subslide"
    }
   },
   "source": [
    "##### присвояване на много имена"
   ]
  },
  {
   "cell_type": "code",
   "execution_count": null,
   "metadata": {},
   "outputs": [],
   "source": [
    "a, b, c = 1, 2, 3\n",
    "print(a, b, c)"
   ]
  },
  {
   "cell_type": "markdown",
   "metadata": {
    "slideshow": {
     "slide_type": "slide"
    }
   },
   "source": [
    "#### вградени скаларни типове\n"
   ]
  },
  {
   "cell_type": "code",
   "execution_count": null,
   "metadata": {
    "collapsed": true,
    "slideshow": {
     "slide_type": "-"
    }
   },
   "outputs": [],
   "source": [
    "# числа\n",
    "one = 1\n",
    "one_and_a_half = 1.5\n",
    "# текстови низове\n",
    "cheese_1 = 'brie'\n",
    "cheese_2 = \"gauda\"\n",
    "# булеви променливи\n",
    "we_love_cheese = True\n",
    "we_dislike_koalas = False\n",
    "\n",
    "# 🤔\n",
    "i = 1j"
   ]
  },
  {
   "cell_type": "markdown",
   "metadata": {
    "slideshow": {
     "slide_type": "subslide"
    }
   },
   "source": [
    "##### числа\n",
    "Числата в python са ужасно лесни за ползване, което помага за огромната му популярност в научните среди, включително Machine Learning-а"
   ]
  },
  {
   "cell_type": "code",
   "execution_count": null,
   "metadata": {
    "collapsed": true,
    "slideshow": {
     "slide_type": "-"
    }
   },
   "outputs": [],
   "source": [
    "a = 5  # цяло число `int`\n",
    "b = 1.25  # число с десетична запетая `float`"
   ]
  },
  {
   "cell_type": "markdown",
   "metadata": {
    "slideshow": {
     "slide_type": "fragment"
    }
   },
   "source": [
    "Като цяло рядко ще се налага да мислите за разликата между двете"
   ]
  },
  {
   "cell_type": "code",
   "execution_count": null,
   "metadata": {
    "slideshow": {
     "slide_type": "-"
    }
   },
   "outputs": [],
   "source": [
    "(3 + 5)/12"
   ]
  },
  {
   "cell_type": "markdown",
   "metadata": {
    "slideshow": {
     "slide_type": "subslide"
    }
   },
   "source": [
    "###### текстови низове\n",
    "Могат да се пишат в единични (`''`) или в двойни (`\"\"`) кавички."
   ]
  },
  {
   "cell_type": "markdown",
   "metadata": {
    "slideshow": {
     "slide_type": "skip"
    }
   },
   "source": [
    "Буквално няма никаква разлика, освен кои кавички ще се налага да екранирате в текста в тях."
   ]
  },
  {
   "cell_type": "code",
   "execution_count": null,
   "metadata": {
    "slideshow": {
     "slide_type": "fragment"
    }
   },
   "outputs": [],
   "source": [
    "print('This is a string')\n",
    "print(\"This is also a string\")\n",
    "print(\"Single quotes shouldn't be escaped inside double quote and vice versa\")\n",
    "print('A string with single quotes must\\'ve single quotes within it escaped')\n",
    "print(\"It is said \\\"We need to escape double quotes withing strings surrounded in double quotes\\\"\")"
   ]
  },
  {
   "cell_type": "markdown",
   "metadata": {
    "slideshow": {
     "slide_type": "subslide"
    }
   },
   "source": [
    "##### комплексни числа\n",
    "python поддържа комплексни числа като вграден тип в езика. Нотацията може да изглежда малко странна."
   ]
  },
  {
   "cell_type": "code",
   "execution_count": null,
   "metadata": {
    "slideshow": {
     "slide_type": "-"
    }
   },
   "outputs": [],
   "source": [
    "i = 1j\n",
    "square_of_i = i * i\n",
    "print(square_of_i)\n",
    "print(square_of_i.real)\n",
    "print(square_of_i.imag)"
   ]
  },
  {
   "cell_type": "markdown",
   "metadata": {
    "slideshow": {
     "slide_type": "slide"
    }
   },
   "source": [
    "##### типизация на променливите\n",
    "* обектите в python са силно типизирани\n",
    "* променливите нямат тип, т.е. могат да сочат към различни типове обекти в различни моменти от време"
   ]
  },
  {
   "cell_type": "code",
   "execution_count": null,
   "metadata": {},
   "outputs": [],
   "source": [
    "pi = 3.14\n",
    "print(pi)\n",
    "pi = 'approximately three point one four'\n",
    "print(pi)"
   ]
  },
  {
   "cell_type": "markdown",
   "metadata": {
    "slideshow": {
     "slide_type": "slide"
    }
   },
   "source": [
    "### oперации с базови типове"
   ]
  },
  {
   "cell_type": "markdown",
   "metadata": {
    "slideshow": {
     "slide_type": "subslide"
    }
   },
   "source": [
    "##### аритметични операции с числа"
   ]
  },
  {
   "cell_type": "code",
   "execution_count": null,
   "metadata": {},
   "outputs": [],
   "source": [
    "3 + 5  # събирне на цели числа"
   ]
  },
  {
   "cell_type": "code",
   "execution_count": null,
   "metadata": {},
   "outputs": [],
   "source": [
    "3 + 5.28  # събиране на числа с плаваща запетая (забележете резултата!)"
   ]
  },
  {
   "cell_type": "code",
   "execution_count": null,
   "metadata": {},
   "outputs": [],
   "source": [
    "3 - 8  # изваждане"
   ]
  },
  {
   "cell_type": "markdown",
   "metadata": {
    "slideshow": {
     "slide_type": "subslide"
    }
   },
   "source": [
    "##### аритметични операции с числа"
   ]
  },
  {
   "cell_type": "code",
   "execution_count": null,
   "metadata": {},
   "outputs": [],
   "source": [
    "1j ** 2  # повдигане на степен"
   ]
  },
  {
   "cell_type": "code",
   "execution_count": null,
   "metadata": {},
   "outputs": [],
   "source": [
    "28 / 5  # деление"
   ]
  },
  {
   "cell_type": "code",
   "execution_count": null,
   "metadata": {},
   "outputs": [],
   "source": [
    "28 // 5  # целичислено деление"
   ]
  },
  {
   "cell_type": "code",
   "execution_count": null,
   "metadata": {},
   "outputs": [],
   "source": [
    "28 % 5  # остатък при деление"
   ]
  },
  {
   "cell_type": "markdown",
   "metadata": {
    "slideshow": {
     "slide_type": "subslide"
    }
   },
   "source": [
    "##### операции с текстови низове"
   ]
  },
  {
   "cell_type": "markdown",
   "metadata": {
    "slideshow": {
     "slide_type": "subslide"
    }
   },
   "source": [
    "##### операции с текстови низове"
   ]
  },
  {
   "cell_type": "code",
   "execution_count": null,
   "metadata": {},
   "outputs": [],
   "source": [
    "'баба' + ' ' + 'готви' + ' ' + 'баница'"
   ]
  },
  {
   "cell_type": "markdown",
   "metadata": {
    "slideshow": {
     "slide_type": "subslide"
    }
   },
   "source": [
    "##### операции с текстови низове"
   ]
  },
  {
   "cell_type": "code",
   "execution_count": null,
   "metadata": {
    "slideshow": {
     "slide_type": "-"
    }
   },
   "outputs": [],
   "source": [
    "24 * 'na, '"
   ]
  },
  {
   "cell_type": "code",
   "execution_count": null,
   "metadata": {
    "scrolled": true,
    "slideshow": {
     "slide_type": "fragment"
    }
   },
   "outputs": [],
   "source": [
    "24 * 'na, ' + 'BATMAN!'"
   ]
  },
  {
   "cell_type": "markdown",
   "metadata": {
    "slideshow": {
     "slide_type": "subslide"
    }
   },
   "source": [
    "##### булеви операции"
   ]
  },
  {
   "cell_type": "code",
   "execution_count": null,
   "metadata": {},
   "outputs": [],
   "source": [
    "True and False"
   ]
  },
  {
   "cell_type": "code",
   "execution_count": null,
   "metadata": {},
   "outputs": [],
   "source": [
    "True or False"
   ]
  },
  {
   "cell_type": "markdown",
   "metadata": {
    "slideshow": {
     "slide_type": "slide"
    }
   },
   "source": [
    "### структури за управление"
   ]
  },
  {
   "cell_type": "markdown",
   "metadata": {
    "slideshow": {
     "slide_type": "subslide"
    }
   },
   "source": [
    "##### `if`/`else`"
   ]
  },
  {
   "cell_type": "code",
   "execution_count": null,
   "metadata": {},
   "outputs": [],
   "source": [
    "a = 15\n",
    "if a < 10:\n",
    "    print('a is less than 10')\n",
    "elif a < 20:\n",
    "    print('a is less than 20, but more than 10')\n",
    "else:\n",
    "    print('a is more than 20')"
   ]
  },
  {
   "cell_type": "markdown",
   "metadata": {
    "slideshow": {
     "slide_type": "subslide"
    }
   },
   "source": [
    "##### `while`"
   ]
  },
  {
   "cell_type": "code",
   "execution_count": null,
   "metadata": {},
   "outputs": [],
   "source": [
    "counter = 0\n",
    "while counter < 5:\n",
    "    print(counter)\n",
    "    counter += 1"
   ]
  },
  {
   "cell_type": "markdown",
   "metadata": {
    "slideshow": {
     "slide_type": "subslide"
    }
   },
   "source": [
    "##### `for … in …:`\n",
    "\n",
    "`for` циклите в python се използват само за обхождане на итеруеми обекти (мислете си за колекции от елементи)."
   ]
  },
  {
   "cell_type": "markdown",
   "metadata": {
    "slideshow": {
     "slide_type": "skip"
    }
   },
   "source": [
    "Няма пряк аналог на `for (int i = 0; i < n; i++) { stuff(i) }` конструкцията в C и C-подобните езици. По-късно ще видим как можем да го постигнем ако наистина ни трябва."
   ]
  },
  {
   "cell_type": "markdown",
   "metadata": {
    "slideshow": {
     "slide_type": "slide"
    }
   },
   "source": [
    "### колекции\n",
    "В python има няколко вградени видове колекции:\n",
    " * n-торки/кортежи (`tuple`)\n",
    " * списъци (`list`)\n",
    " * речници (`dict`)\n",
    " * множества (`set`)\n",
    " \n",
    "Могат да бъдат обхождани с `for ... in ...:` конструкцията.\n",
    "Всички вградени колекции в python са хетерогенни, т.е. могат да съдържат обекти от различни типове"
   ]
  },
  {
   "cell_type": "markdown",
   "metadata": {
    "slideshow": {
     "slide_type": "subslide"
    }
   },
   "source": [
    "##### наредени колекции\n",
    " * `tuple` \n",
    "  * вграден тип за наредени n–торки\n",
    "  * не могат да бъдат променяни\n",
    " * `list`\n",
    "  * вграден тип за наредени списъци\n",
    "  * могат да бъдат променяни\n"
   ]
  },
  {
   "cell_type": "code",
   "execution_count": null,
   "metadata": {
    "collapsed": true,
    "slideshow": {
     "slide_type": "subslide"
    }
   },
   "outputs": [],
   "source": [
    "nil_vector = (0, 0, 0)  # tuple с три елемента\n",
    "a_vector = (3, 4, 5)  # tuple с три елемента\n",
    "vectors = [nil_vector, a_vector]  # list с два елемента, горните tuple-и"
   ]
  },
  {
   "cell_type": "code",
   "execution_count": null,
   "metadata": {},
   "outputs": [],
   "source": [
    "for component in a_vector:\n",
    "    print(component)"
   ]
  },
  {
   "cell_type": "code",
   "execution_count": null,
   "metadata": {},
   "outputs": [],
   "source": [
    "for vector in vectors:\n",
    "    print(vector)"
   ]
  },
  {
   "cell_type": "markdown",
   "metadata": {
    "slideshow": {
     "slide_type": "subslide"
    }
   },
   "source": [
    "казахме, че не е нужно да са хомогенни"
   ]
  },
  {
   "cell_type": "code",
   "execution_count": null,
   "metadata": {
    "collapsed": true
   },
   "outputs": [],
   "source": [
    "things = (nil_vector, vectors, [[(2, 5, 4, 3), 8], 'баба'], 42, False)"
   ]
  },
  {
   "cell_type": "markdown",
   "metadata": {
    "slideshow": {
     "slide_type": "subslide"
    }
   },
   "source": [
    "също така казахаме, че `tuple`-ите не могат да се променят"
   ]
  },
  {
   "cell_type": "code",
   "execution_count": null,
   "metadata": {},
   "outputs": [],
   "source": [
    "things[3] = 0"
   ]
  },
  {
   "cell_type": "markdown",
   "metadata": {
    "slideshow": {
     "slide_type": "subslide"
    }
   },
   "source": [
    "за разлика от списъците, които могат да се променят"
   ]
  },
  {
   "cell_type": "code",
   "execution_count": null,
   "metadata": {},
   "outputs": [],
   "source": [
    "print(things[2])\n",
    "things[2][1] = 42\n",
    "print(things[2])"
   ]
  },
  {
   "cell_type": "markdown",
   "metadata": {
    "slideshow": {
     "slide_type": "subslide"
    }
   },
   "source": [
    "##### slice-ове"
   ]
  },
  {
   "cell_type": "markdown",
   "metadata": {
    "slideshow": {
     "slide_type": "skip"
    }
   },
   "source": [
    "Можем лесно да взимаме „изрезки“ от наредени колекции като списъци и n-торки. Може да взимаме всички елементи след определен индекс, до определен индекс, или между два индекса."
   ]
  },
  {
   "cell_type": "code",
   "execution_count": null,
   "metadata": {
    "collapsed": true
   },
   "outputs": [],
   "source": [
    "indexes = [0, 1, 2, 3, 4, 5, 6, 7, 8]"
   ]
  },
  {
   "cell_type": "code",
   "execution_count": null,
   "metadata": {},
   "outputs": [],
   "source": [
    "indexes[2:]"
   ]
  },
  {
   "cell_type": "code",
   "execution_count": null,
   "metadata": {},
   "outputs": [],
   "source": [
    "indexes[:3]"
   ]
  },
  {
   "cell_type": "code",
   "execution_count": null,
   "metadata": {},
   "outputs": [],
   "source": [
    "indexes[4:6]"
   ]
  },
  {
   "cell_type": "markdown",
   "metadata": {
    "slideshow": {
     "slide_type": "skip"
    }
   },
   "source": [
    "при slice-овете може да дефинираме и стъпка"
   ]
  },
  {
   "cell_type": "code",
   "execution_count": null,
   "metadata": {
    "slideshow": {
     "slide_type": "-"
    }
   },
   "outputs": [],
   "source": [
    "indexes[2:8:2]"
   ]
  },
  {
   "cell_type": "markdown",
   "metadata": {
    "slideshow": {
     "slide_type": "skip"
    }
   },
   "source": [
    "можем да индексираме `tuple`-и и `list`-ове и на „наобратно“"
   ]
  },
  {
   "cell_type": "code",
   "execution_count": null,
   "metadata": {
    "slideshow": {
     "slide_type": "subslide"
    }
   },
   "outputs": [],
   "source": [
    "indexes[-1]"
   ]
  },
  {
   "cell_type": "markdown",
   "metadata": {
    "slideshow": {
     "slide_type": "skip"
    }
   },
   "source": [
    "можем да правим и slice-ове с отрицателни индекси"
   ]
  },
  {
   "cell_type": "code",
   "execution_count": null,
   "metadata": {
    "slideshow": {
     "slide_type": "-"
    }
   },
   "outputs": [],
   "source": [
    "indexes[-5:-2]"
   ]
  },
  {
   "cell_type": "markdown",
   "metadata": {
    "slideshow": {
     "slide_type": "skip"
    }
   },
   "source": [
    "очевидно ако „началният“ и „крайният“ индекс на slice-а го позволяват можем да имаме и отрицателна стъпка"
   ]
  },
  {
   "cell_type": "code",
   "execution_count": null,
   "metadata": {
    "slideshow": {
     "slide_type": "-"
    }
   },
   "outputs": [],
   "source": [
    "indexes[9:2:-2]"
   ]
  },
  {
   "cell_type": "markdown",
   "metadata": {
    "slideshow": {
     "slide_type": "skip"
    }
   },
   "source": [
    "ако вземем slice без индекси, просто копираме итеруемото"
   ]
  },
  {
   "cell_type": "code",
   "execution_count": null,
   "metadata": {
    "slideshow": {
     "slide_type": "subslide"
    }
   },
   "outputs": [],
   "source": [
    "indexes[:] == indexes"
   ]
  },
  {
   "cell_type": "markdown",
   "metadata": {
    "slideshow": {
     "slide_type": "skip"
    }
   },
   "source": [
    "`is` проверява дали две променливи сочат към един и същи обект (буквално еидн и същи адрес в паметта)"
   ]
  },
  {
   "cell_type": "code",
   "execution_count": null,
   "metadata": {},
   "outputs": [],
   "source": [
    "indexes[:] is indexes"
   ]
  },
  {
   "cell_type": "markdown",
   "metadata": {
    "slideshow": {
     "slide_type": "subslide"
    }
   },
   "source": [
    "##### речници"
   ]
  },
  {
   "cell_type": "markdown",
   "metadata": {
    "slideshow": {
     "slide_type": "fragment"
    }
   },
   "source": [
    "колко от вас знаят какво е `HashMap`?"
   ]
  },
  {
   "cell_type": "markdown",
   "metadata": {
    "slideshow": {
     "slide_type": "subslide"
    }
   },
   "source": [
    "речниците са като `HashMap`\n"
   ]
  },
  {
   "cell_type": "markdown",
   "metadata": {
    "slideshow": {
     "slide_type": "skip"
    }
   },
   "source": [
    "* съпоставят точно една стойност на ключ\n",
    "* дават константен достъп до стойността за даден ключ"
   ]
  },
  {
   "cell_type": "code",
   "execution_count": null,
   "metadata": {
    "collapsed": true,
    "slideshow": {
     "slide_type": "fragment"
    }
   },
   "outputs": [],
   "source": [
    "album_artists = {\n",
    "    'Deconstruction': 'Devin Townsend Project',\n",
    "    'Túlélő': 'Leander Kills',\n",
    "    'Malina': 'Leprous',\n",
    "    'Currents': 'Covet',\n",
    "}"
   ]
  },
  {
   "cell_type": "code",
   "execution_count": null,
   "metadata": {
    "slideshow": {
     "slide_type": "fragment"
    }
   },
   "outputs": [],
   "source": [
    "album_artists['Deconstruction']"
   ]
  },
  {
   "cell_type": "code",
   "execution_count": null,
   "metadata": {
    "collapsed": true,
    "slideshow": {
     "slide_type": "fragment"
    }
   },
   "outputs": [],
   "source": [
    "album_artists['Whenever You Need Somebody'] = 'Rick Astley'"
   ]
  },
  {
   "cell_type": "code",
   "execution_count": null,
   "metadata": {
    "slideshow": {
     "slide_type": "fragment"
    }
   },
   "outputs": [],
   "source": [
    "album_artists['Whenever You Need Somebody']"
   ]
  },
  {
   "cell_type": "markdown",
   "metadata": {
    "slideshow": {
     "slide_type": "subslide"
    }
   },
   "source": [
    "##### множества"
   ]
  },
  {
   "cell_type": "markdown",
   "metadata": {
    "slideshow": {
     "slide_type": "skip"
    }
   },
   "source": [
    "`set` е вграден тип за множество. Мислете си точно за математическата дефиниция на понятието, съвкупност от елементи, **без повторения** и **без дефиниран ред**."
   ]
  },
  {
   "cell_type": "code",
   "execution_count": null,
   "metadata": {
    "collapsed": true,
    "slideshow": {
     "slide_type": "-"
    }
   },
   "outputs": [],
   "source": [
    "some_numbers = {1, 5, 9, 12, 3, 42}"
   ]
  },
  {
   "cell_type": "code",
   "execution_count": null,
   "metadata": {
    "slideshow": {
     "slide_type": "fragment"
    }
   },
   "outputs": [],
   "source": [
    "for number in some_numbers:\n",
    "    print(number)"
   ]
  },
  {
   "cell_type": "code",
   "execution_count": null,
   "metadata": {
    "slideshow": {
     "slide_type": "subslide"
    }
   },
   "outputs": [],
   "source": [
    "3 in some_numbers"
   ]
  },
  {
   "cell_type": "code",
   "execution_count": null,
   "metadata": {},
   "outputs": [],
   "source": [
    "3.14 in some_numbers"
   ]
  },
  {
   "cell_type": "code",
   "execution_count": null,
   "metadata": {
    "slideshow": {
     "slide_type": "subslide"
    }
   },
   "outputs": [],
   "source": [
    "print(some_numbers)"
   ]
  },
  {
   "cell_type": "code",
   "execution_count": null,
   "metadata": {
    "slideshow": {
     "slide_type": "fragment"
    }
   },
   "outputs": [],
   "source": [
    "some_numbers.add(1024)\n",
    "print(some_numbers)"
   ]
  },
  {
   "cell_type": "code",
   "execution_count": null,
   "metadata": {
    "slideshow": {
     "slide_type": "fragment"
    }
   },
   "outputs": [],
   "source": [
    "some_numbers.remove(9)\n",
    "print(some_numbers)"
   ]
  },
  {
   "cell_type": "markdown",
   "metadata": {
    "slideshow": {
     "slide_type": "subslide"
    }
   },
   "source": [
    "##### обърнете внимание!\n",
    " * `{}` е синтаксис за създаване на празен речник\n",
    " * празно множество се създава със `set()`"
   ]
  },
  {
   "cell_type": "code",
   "execution_count": null,
   "metadata": {},
   "outputs": [],
   "source": [
    "an_empty_dict = {}\n",
    "an_empty_set = set()\n",
    "print(an_empty_dict)\n",
    "print(an_empty_set)"
   ]
  },
  {
   "cell_type": "markdown",
   "metadata": {
    "slideshow": {
     "slide_type": "slide"
    }
   },
   "source": [
    "### схващания\n",
    "##### comprehensions"
   ]
  },
  {
   "cell_type": "markdown",
   "metadata": {
    "slideshow": {
     "slide_type": "skip"
    }
   },
   "source": [
    "Това, което в много други езици се постига с `map`/`filter`/и т.н. в python обикновено се постига с comprehension-и. Вградените колекции могат да бъдат създавани чрез comprehension изрази, чрез прилагане на трансформации върху други колекции."
   ]
  },
  {
   "cell_type": "code",
   "execution_count": null,
   "metadata": {},
   "outputs": [],
   "source": [
    "numbers = [1, 2, 3, 4, 5, 6, 7, 8, 9, 10]\n",
    "\n",
    "even_numbers = [number for number in numbers if number % 2  == 0]\n",
    "print(even_numbers)\n",
    "\n",
    "squares = {number: number ** 2 for number in numbers}\n",
    "print(squares)\n",
    "\n",
    "twice_the_numbers = numbers + numbers\n",
    "print(twice_the_numbers)\n",
    "\n",
    "odd_over_five = {number for number in twice_the_numbers if number > 5}\n",
    "print(odd_over_five)"
   ]
  },
  {
   "cell_type": "markdown",
   "metadata": {
    "slideshow": {
     "slide_type": "slide"
    }
   },
   "source": [
    "### `type`\n",
    "всеки обект в python има точно определен тип, който можем да проверим с вградената функция `type`"
   ]
  },
  {
   "cell_type": "code",
   "execution_count": null,
   "metadata": {},
   "outputs": [],
   "source": [
    "beverage = 'tea'\n",
    "type(beverage)"
   ]
  },
  {
   "cell_type": "code",
   "execution_count": null,
   "metadata": {},
   "outputs": [],
   "source": [
    "hour_of_the_day = 4\n",
    "type(hour_of_the_day)"
   ]
  },
  {
   "cell_type": "code",
   "execution_count": null,
   "metadata": {},
   "outputs": [],
   "source": [
    "is_it_tea_time = hour_of_the_day == 4\n",
    "type(is_it_tea_time)"
   ]
  },
  {
   "cell_type": "code",
   "execution_count": null,
   "metadata": {
    "slideshow": {
     "slide_type": "subslide"
    }
   },
   "outputs": [],
   "source": [
    "type([2, 3, 'baba', [(8, False, True)]])"
   ]
  },
  {
   "cell_type": "code",
   "execution_count": null,
   "metadata": {},
   "outputs": [],
   "source": [
    "type(some_numbers)"
   ]
  },
  {
   "cell_type": "markdown",
   "metadata": {
    "slideshow": {
     "slide_type": "slide"
    }
   },
   "source": [
    "### функции"
   ]
  },
  {
   "cell_type": "markdown",
   "metadata": {
    "slideshow": {
     "slide_type": "skip"
    }
   },
   "source": [
    "дефинират се с ключовата дума `def` последвана от името и списъка с аргументи, тялото е индентирано с 4 space спрямо реда с дефиницията, който трябва да завършва с двуеточие"
   ]
  },
  {
   "cell_type": "code",
   "execution_count": null,
   "metadata": {
    "collapsed": true
   },
   "outputs": [],
   "source": [
    "def compute_answer(question):\n",
    "    if question == 'The ultimate question of life, the universe and everything':\n",
    "        return 42\n",
    "    else:\n",
    "        return None"
   ]
  },
  {
   "cell_type": "code",
   "execution_count": null,
   "metadata": {},
   "outputs": [],
   "source": [
    "compute_answer('The ultimate question of life, the universe and everything')"
   ]
  },
  {
   "cell_type": "markdown",
   "metadata": {
    "slideshow": {
     "slide_type": "subslide"
    }
   },
   "source": [
    "#### стойности по подразбиране и именувани аргументи\n",
    "###### keyword arguments"
   ]
  },
  {
   "cell_type": "markdown",
   "metadata": {
    "slideshow": {
     "slide_type": "skip"
    }
   },
   "source": [
    "Аргументите на функциите могат да имат стойности по подразбиране, така че да не се налага да ги подаваме, освен ако не искаме да променим някакво базово поведение."
   ]
  },
  {
   "cell_type": "code",
   "execution_count": null,
   "metadata": {
    "collapsed": true
   },
   "outputs": [],
   "source": [
    "def bloat_sum(a, b, invert_result=False, required_type=None):\n",
    "    if required_type:\n",
    "        if not isinstance(a, required_type) or not isinstance(b, required_type):\n",
    "            print('Arguments must be of type {}'.format(required_type))\n",
    "            return None\n",
    "    result = a + b\n",
    "    return -result if invert_result else result"
   ]
  },
  {
   "cell_type": "markdown",
   "metadata": {
    "slideshow": {
     "slide_type": "skip"
    }
   },
   "source": [
    "можем да не подадем никой от аргументите със стойност по подразбиране"
   ]
  },
  {
   "cell_type": "code",
   "execution_count": null,
   "metadata": {
    "slideshow": {
     "slide_type": "subslide"
    }
   },
   "outputs": [],
   "source": [
    "bloat_sum(3, 4)"
   ]
  },
  {
   "cell_type": "code",
   "execution_count": null,
   "metadata": {},
   "outputs": [],
   "source": [
    "bloat_sum('оле', '-ле')"
   ]
  },
  {
   "cell_type": "markdown",
   "metadata": {
    "slideshow": {
     "slide_type": "skip"
    }
   },
   "source": [
    "можем да ги подадем като позиционни, в който случай стойностите по подразбиране просто се игнорират"
   ]
  },
  {
   "cell_type": "code",
   "execution_count": null,
   "metadata": {
    "slideshow": {
     "slide_type": "subslide"
    }
   },
   "outputs": [],
   "source": [
    "bloat_sum(3, 4, True, int)"
   ]
  },
  {
   "cell_type": "code",
   "execution_count": null,
   "metadata": {},
   "outputs": [],
   "source": [
    "bloat_sum('оле', '-ле', False, str)"
   ]
  },
  {
   "cell_type": "markdown",
   "metadata": {
    "slideshow": {
     "slide_type": "skip"
    }
   },
   "source": [
    "можем да прескочим един или няколко и да подадем изрично други"
   ]
  },
  {
   "cell_type": "code",
   "execution_count": null,
   "metadata": {
    "slideshow": {
     "slide_type": "subslide"
    }
   },
   "outputs": [],
   "source": [
    "bloat_sum(3, 4, required_type=str)"
   ]
  },
  {
   "cell_type": "code",
   "execution_count": null,
   "metadata": {
    "slideshow": {
     "slide_type": "subslide"
    }
   },
   "outputs": [],
   "source": [
    "bloat_sum(a=3, b=4)"
   ]
  },
  {
   "cell_type": "code",
   "execution_count": null,
   "metadata": {},
   "outputs": [],
   "source": [
    "bloat_sum(b=4, invert_result=True, a=3)"
   ]
  },
  {
   "cell_type": "markdown",
   "metadata": {
    "slideshow": {
     "slide_type": "subslide"
    }
   },
   "source": [
    "#### keyword only\n",
    "възможността за подаване на именувани аргументи като позиционни е **нож с две остриета**, с който е тривиално **да се застреляте в крака**"
   ]
  },
  {
   "cell_type": "markdown",
   "metadata": {
    "slideshow": {
     "slide_type": "skip"
    }
   },
   "source": [
    "По тази причина съществува възможността за keyword only аргументи, т.е. такива, които **не могат** да се подават като позиционни, а само като именовани. Такива са keyword аргументите след `*` в списъка с аргументи в дефиницията на функцията."
   ]
  },
  {
   "cell_type": "code",
   "execution_count": null,
   "metadata": {
    "collapsed": true,
    "slideshow": {
     "slide_type": "fragment"
    }
   },
   "outputs": [],
   "source": [
    "def bloat_sum(a, b, *, invert_result=False, required_type=None):\n",
    "    if required_type:\n",
    "        if not isinstance(a, required_type) or not isinstance(b, required_type):\n",
    "            print('Arguments must be of type {}'.format(required_type))\n",
    "            return None\n",
    "    result = a + b\n",
    "    return -result if invert_result else result"
   ]
  },
  {
   "cell_type": "code",
   "execution_count": null,
   "metadata": {
    "slideshow": {
     "slide_type": "fragment"
    }
   },
   "outputs": [],
   "source": [
    "bloat_sum(3, 4, True, int)"
   ]
  },
  {
   "cell_type": "markdown",
   "metadata": {
    "slideshow": {
     "slide_type": "subslide"
    }
   },
   "source": [
    "#### `*args` и `**kwargs`\n",
    "можем да дефинираме функции с произволен брой позиционни и именувани аргументи"
   ]
  },
  {
   "cell_type": "code",
   "execution_count": null,
   "metadata": {
    "collapsed": true
   },
   "outputs": [],
   "source": [
    "def i_can_haz_argumentz(*args, **kwargs):\n",
    "    print('args = {} {}'.format(args, type(args)))\n",
    "    print('kwargs = {} {}'.format(kwargs, type(kwargs)))"
   ]
  },
  {
   "cell_type": "markdown",
   "metadata": {
    "slideshow": {
     "slide_type": "skip"
    }
   },
   "source": [
    "Имената `args` и `kwargs` не са специални, но се използват по конвенция в почти всички ситуации, освен ако нямате много добра причина да искате да ползвате нещо друго. Специалната част са едната `*` в началото на името, която указва, че това е името, през което ще се достъпват позиционните аргументи и двете `**`, които указват името за именованите аргументи."
   ]
  },
  {
   "cell_type": "code",
   "execution_count": null,
   "metadata": {},
   "outputs": [],
   "source": [
    "i_can_haz_argumentz(3, 4, 'сладолед',\n",
    "                    animals=['pony', 'panda', 'koala'],\n",
    "                    people={'Лъчо', 'Евгени', 'Стефан'})"
   ]
  },
  {
   "cell_type": "markdown",
   "metadata": {
    "slideshow": {
     "slide_type": "subslide"
    }
   },
   "source": [
    "#### разгъване на аргументи"
   ]
  },
  {
   "cell_type": "markdown",
   "metadata": {
    "slideshow": {
     "slide_type": "skip"
    }
   },
   "source": [
    "можем да „разгънем“ списък или кортеж до позиционни аргументи когато извикваме функция"
   ]
  },
  {
   "cell_type": "code",
   "execution_count": null,
   "metadata": {},
   "outputs": [],
   "source": [
    "def add_arguments(a, b, c, d): return a + b + c + d\n",
    "add_arguments(*[1, 2, 3, 4])"
   ]
  },
  {
   "cell_type": "markdown",
   "metadata": {
    "slideshow": {
     "slide_type": "skip"
    }
   },
   "source": [
    "можем да направим същото с речник, но за именувани аргументи"
   ]
  },
  {
   "cell_type": "code",
   "execution_count": null,
   "metadata": {},
   "outputs": [],
   "source": [
    "add_arguments(**{'b': 4, 'c': 1, 'a': 2, 'd': 3})"
   ]
  },
  {
   "cell_type": "markdown",
   "metadata": {
    "slideshow": {
     "slide_type": "subslide"
    }
   },
   "source": [
    "#### рекурсия"
   ]
  },
  {
   "cell_type": "markdown",
   "metadata": {
    "slideshow": {
     "slide_type": "subslide"
    }
   },
   "source": [
    "#### рекурсия"
   ]
  },
  {
   "cell_type": "markdown",
   "metadata": {
    "slideshow": {
     "slide_type": "subslide"
    }
   },
   "source": [
    "#### рекурсия"
   ]
  },
  {
   "cell_type": "markdown",
   "metadata": {
    "slideshow": {
     "slide_type": "subslide"
    }
   },
   "source": [
    "#### рекурсия"
   ]
  },
  {
   "cell_type": "markdown",
   "metadata": {
    "slideshow": {
     "slide_type": "subslide"
    }
   },
   "source": [
    "#### рекурсия"
   ]
  },
  {
   "cell_type": "markdown",
   "metadata": {},
   "source": [
    "`badjokeee.jpg`"
   ]
  },
  {
   "cell_type": "markdown",
   "metadata": {
    "slideshow": {
     "slide_type": "subslide"
    }
   },
   "source": [
    "#### рекурсия"
   ]
  },
  {
   "cell_type": "code",
   "execution_count": null,
   "metadata": {},
   "outputs": [],
   "source": [
    "def factorial(n):\n",
    "    if n == 0:\n",
    "        return 1\n",
    "    return n * factorial(n-1)\n",
    "\n",
    "factorial(10)"
   ]
  },
  {
   "cell_type": "markdown",
   "metadata": {},
   "source": [
    "няма tail recursion оптимизация"
   ]
  },
  {
   "cell_type": "markdown",
   "metadata": {
    "slideshow": {
     "slide_type": "subslide"
    }
   },
   "source": [
    "#### декоратори\n",
    "преизползваеми парчета код, с които можем да „опаковаме“ други функции"
   ]
  },
  {
   "cell_type": "code",
   "execution_count": null,
   "metadata": {},
   "outputs": [],
   "source": [
    "def just_return(result):\n",
    "    return result\n",
    "\n",
    "def call_tracker(function):\n",
    "    def tracked(*args, **kwargs):\n",
    "        print('{function} was called with args={args}, kwargs={kwargs}'.format(\n",
    "            function=function,\n",
    "            args=args,\n",
    "            kwargs=kwargs))\n",
    "        return function(*args, **kwargs)\n",
    "    \n",
    "    return tracked\n",
    "\n",
    "track_and_return = call_tracker(just_return)\n",
    "track_and_return(10)"
   ]
  },
  {
   "cell_type": "markdown",
   "metadata": {
    "slideshow": {
     "slide_type": "subslide"
    }
   },
   "source": [
    "дълго и досадно, а може да е по-приятно"
   ]
  },
  {
   "cell_type": "code",
   "execution_count": null,
   "metadata": {},
   "outputs": [],
   "source": [
    "def call_tracker(function):\n",
    "    def tracked(*args, **kwargs):\n",
    "        print('{function} was called with args={args}, kwargs={kwargs}'.format(\n",
    "            function=function,\n",
    "            args=args,\n",
    "            kwargs=kwargs))\n",
    "        return function(*args, **kwargs)\n",
    "    \n",
    "    return tracked\n",
    "\n",
    "@call_tracker\n",
    "def just_return(result):\n",
    "    return result\n",
    "\n",
    "just_return(42)"
   ]
  },
  {
   "cell_type": "markdown",
   "metadata": {
    "slideshow": {
     "slide_type": "slide"
    }
   },
   "source": [
    "### ООП"
   ]
  },
  {
   "cell_type": "markdown",
   "metadata": {
    "slideshow": {
     "slide_type": "subslide"
    }
   },
   "source": [
    "#### класове/типове\n",
    "\n",
    "python е обектно ориентиран език, всички стойности са обекти, инстанции на някой клас"
   ]
  },
  {
   "cell_type": "markdown",
   "metadata": {
    "slideshow": {
     "slide_type": "skip"
    }
   },
   "source": [
    "Разбира се, можем да дефинираме наши собствени типове. Голяма част от структурите и дори видовете числа, които ще ползвате когато работите с `numpy` са всъщност инстанции на класове, дефинирани в самата бибилиотека, а не стандартни структури от езика. Ползата от това е, че тези имплементации могат да бъдат оптимизирани за типа работа, за която обикновено се ползва `numpy`, т.е. по-тежки изчисления, потенциално с много голям обем данни."
   ]
  },
  {
   "cell_type": "code",
   "execution_count": null,
   "metadata": {},
   "outputs": [],
   "source": [
    "type(3)"
   ]
  },
  {
   "cell_type": "code",
   "execution_count": null,
   "metadata": {},
   "outputs": [],
   "source": [
    "import numpy as np\n",
    "type(np.array([[0.25, 0.34, 0.72], [0, 0.98, 0.54], [0.16, 0.7, 1]]))"
   ]
  },
  {
   "cell_type": "markdown",
   "metadata": {
    "slideshow": {
     "slide_type": "skip"
    }
   },
   "source": [
    "Класове се дефинират с ключовата дума `class`, последвана от името на класа, последващия блок от код е тялото на класа. Всички променливи дефинирани в тялото на класа са класови променливи и могат да бъдат достъпвани чрез самия клас или чрез инстанциите му. Всички функции дефинирани в тялото на класа са методи и могат да бъдат достъпвани през класа или през инстанциите му (има разлика в резултата).\n",
    "\n",
    "`__init__` е специален метод, който се извиква при създаване на инстанация от класа. Може да си мислите за него като за конструктор, но по-правилната дума е „инциализатор“, тъй като заделянето на памет за обекта, което обикновено се случва в конструктора, вече е извършено преди да се извика `__init__`.\n",
    "\n",
    "Първия аргумент на всеки метод е инстанцията, върху която се извиква. Името няма синтактично значение, но по конвенция е прието винаги да се използва `self`."
   ]
  },
  {
   "cell_type": "code",
   "execution_count": null,
   "metadata": {
    "slideshow": {
     "slide_type": "subslide"
    }
   },
   "outputs": [],
   "source": [
    "class Vector:\n",
    "    def __init__(self, x, y):\n",
    "        self.x = x\n",
    "        self.y = y\n",
    "\n",
    "v = Vector(1.0, 1.0)\n",
    "v.x"
   ]
  },
  {
   "cell_type": "markdown",
   "metadata": {
    "slideshow": {
     "slide_type": "subslide"
    }
   },
   "source": [
    "така създадохме наш собствен тип"
   ]
  },
  {
   "cell_type": "code",
   "execution_count": null,
   "metadata": {},
   "outputs": [],
   "source": [
    "type(v)"
   ]
  },
  {
   "cell_type": "markdown",
   "metadata": {
    "slideshow": {
     "slide_type": "subslide"
    }
   },
   "source": [
    "##### лирическо отклонение"
   ]
  },
  {
   "cell_type": "markdown",
   "metadata": {},
   "source": [
    "споменахме, че всичко в python е обект, инстнация на някакъв клас, значи..."
   ]
  },
  {
   "cell_type": "code",
   "execution_count": null,
   "metadata": {
    "slideshow": {
     "slide_type": "fragment"
    }
   },
   "outputs": [],
   "source": [
    "type(Vector)"
   ]
  },
  {
   "cell_type": "code",
   "execution_count": null,
   "metadata": {},
   "outputs": [],
   "source": [
    "type(just_return)"
   ]
  },
  {
   "cell_type": "markdown",
   "metadata": {
    "slideshow": {
     "slide_type": "subslide"
    }
   },
   "source": [
    "ама ВСИЧКО ВСИЧКО... тогава, какво ще стане ако..."
   ]
  },
  {
   "cell_type": "code",
   "execution_count": null,
   "metadata": {
    "slideshow": {
     "slide_type": "fragment"
    }
   },
   "outputs": [],
   "source": [
    "type(type)"
   ]
  },
  {
   "cell_type": "markdown",
   "metadata": {
    "slideshow": {
     "slide_type": "subslide"
    }
   },
   "source": [
    "##### ..."
   ]
  },
  {
   "cell_type": "markdown",
   "metadata": {
    "slideshow": {
     "slide_type": "fragment"
    }
   },
   "source": [
    "> Don't think about it\n",
    "\n",
    ">          – Rick Sanchez"
   ]
  },
  {
   "cell_type": "markdown",
   "metadata": {
    "slideshow": {
     "slide_type": "subslide"
    }
   },
   "source": [
    "#### методи"
   ]
  },
  {
   "cell_type": "markdown",
   "metadata": {
    "slideshow": {
     "slide_type": "skip"
    }
   },
   "source": [
    "Методите на инстанциите се достъпват точно както другите им атрибути. Те просто са функции и могат да бъдат извиквани."
   ]
  },
  {
   "cell_type": "code",
   "execution_count": null,
   "metadata": {
    "slideshow": {
     "slide_type": "-"
    }
   },
   "outputs": [],
   "source": [
    "import math\n",
    "\n",
    "class Vector:\n",
    "    def __init__(self, x, y):\n",
    "        self.x = x\n",
    "        self.y = y\n",
    "        \n",
    "    def length(self):\n",
    "        return math.sqrt(self.x**2 + self.y**2)\n",
    "    \n",
    "v = Vector(3, 4)\n",
    "v.length()"
   ]
  },
  {
   "cell_type": "code",
   "execution_count": null,
   "metadata": {
    "slideshow": {
     "slide_type": "subslide"
    }
   },
   "outputs": [],
   "source": [
    "import math\n",
    "\n",
    "class Vector:\n",
    "    def __init__(self, x, y):\n",
    "        self.x = x\n",
    "        self.y = y\n",
    "        \n",
    "    def length(self):\n",
    "        return math.sqrt(self.x**2 + self.y**2)\n",
    "    \n",
    "    def scale(self, coeficient):\n",
    "        self.x = self.x * coeficient\n",
    "        self.y = self.y * coeficient\n",
    "        \n",
    "v = Vector(3, 4)\n",
    "print(v.length())\n",
    "v.scale(2)\n",
    "print(v.x, v.y, v.length())"
   ]
  },
  {
   "cell_type": "markdown",
   "metadata": {
    "slideshow": {
     "slide_type": "subslide"
    }
   },
   "source": [
    "##### „магически“ методи"
   ]
  },
  {
   "cell_type": "markdown",
   "metadata": {
    "slideshow": {
     "slide_type": "skip"
    }
   },
   "source": [
    "Имаме възможността да конторлираме доста по-детайлно поведението на инстанциите на класовете, които дефинираме, чрез така наречените „магически“ методи (magic methods/dunder methods). Това са определени методи с имена започващи и завършващи с две подчертавки: `__some_method_name__`.\n",
    "\n",
    "Така можем да предефинираме базови операции като събиране, изваждане, деление и т.н., както и по-интересни неща като как може да итерираме по инстанциите на класа си като колекции, да проверяваме за това дали обект е елемент в тях или не, да ги индексираме и прочее."
   ]
  },
  {
   "cell_type": "markdown",
   "metadata": {
    "slideshow": {
     "slide_type": "subslide"
    }
   },
   "source": [
    "###### аритметични операции\n",
    " * `__add__`\n",
    " * `__sub__`\n",
    " * `__mul__`\n",
    " * `__lt__`\n",
    " * `__gt__`\n",
    " * `__eq__`\n",
    " * …\n",
    "Повече може да намерите [тук](https://docs.python.org/3/reference/datamodel.html)"
   ]
  },
  {
   "cell_type": "code",
   "execution_count": null,
   "metadata": {
    "slideshow": {
     "slide_type": "subslide"
    }
   },
   "outputs": [],
   "source": [
    "class Vector:\n",
    "    def __init__(self, x, y):\n",
    "        self.x = x\n",
    "        self.y = y\n",
    "        \n",
    "    def __add__(self, other):\n",
    "        return Vector(self.x + other.x, self.y + other.y)\n",
    "    \n",
    "    def __mul__(self, other):\n",
    "        return Vector(self.x * other.x, self.y * other.y)\n",
    "    \n",
    "    def __sub__(self, other):\n",
    "        return self + Vector(-other.x, -other.y)\n",
    "    \n",
    "    def __str__(self):\n",
    "        return '<Vector x={x}, y={y}>'.format(x=self.x, y=self.y)\n",
    "    \n",
    "v1, v2 = Vector(3, 4), Vector(1, 2)\n",
    "print(v1 - v2)\n",
    "print(v1 + v2)\n",
    "print(v1 * v2)"
   ]
  },
  {
   "cell_type": "markdown",
   "metadata": {
    "slideshow": {
     "slide_type": "subslide"
    }
   },
   "source": [
    "###### да си направим наши колекции"
   ]
  },
  {
   "cell_type": "code",
   "execution_count": null,
   "metadata": {
    "slideshow": {
     "slide_type": "subslide"
    }
   },
   "outputs": [],
   "source": [
    "class Vector:\n",
    "    def __init__(self, x, y):\n",
    "        self.x = x\n",
    "        self.y = y\n",
    "\n",
    "    def __getitem__(self, index):\n",
    "        if index == 0:\n",
    "            return self.x\n",
    "        if index == 1:\n",
    "            return self.y\n",
    "        \n",
    "        raise IndexError('Vector only has two components')\n",
    "        \n",
    "v1 = Vector(3, 4)\n",
    "print(v1[0])\n",
    "print(v1[1])\n",
    "print(v1[15])"
   ]
  },
  {
   "cell_type": "code",
   "execution_count": null,
   "metadata": {
    "collapsed": true,
    "slideshow": {
     "slide_type": "subslide"
    }
   },
   "outputs": [],
   "source": [
    "class Vector:\n",
    "    class VectorIterator:\n",
    "        def __init__(self, vector):\n",
    "            self.vector = vector\n",
    "            self.went_over_x = False\n",
    "            self.went_over_y = False\n",
    "            \n",
    "        def __next__(self):\n",
    "            if not self.went_over_x:\n",
    "                self.went_over_x = True\n",
    "                return self.vector.x\n",
    "            elif not self.went_over_y:\n",
    "                self.went_over_y = True\n",
    "                return self.vector.y\n",
    "            else:\n",
    "                raise StopIteration\n",
    "    \n",
    "    def __init__(self, x, y):\n",
    "        self.x = x\n",
    "        self.y = y\n",
    "\n",
    "    def __iter__(self):\n",
    "        return self.VectorIterator(self)"
   ]
  },
  {
   "cell_type": "code",
   "execution_count": null,
   "metadata": {
    "collapsed": true
   },
   "outputs": [],
   "source": [
    "v = Vector(3, 4)\n",
    "for component in v:\n",
    "    print(component)"
   ]
  },
  {
   "cell_type": "markdown",
   "metadata": {
    "slideshow": {
     "slide_type": "subslide"
    }
   },
   "source": [
    "това обаче е дълго и грозно... на python всичко трябва да е красиво, кратко и елегантно... soooooooo..."
   ]
  },
  {
   "cell_type": "markdown",
   "metadata": {
    "slideshow": {
     "slide_type": "slide"
    }
   },
   "source": [
    "### генератори"
   ]
  },
  {
   "cell_type": "markdown",
   "metadata": {
    "slideshow": {
     "slide_type": "skip"
    }
   },
   "source": [
    "Генераторите в python са механизъм за лесно описване на специфични видове итеруеми обекти.\n",
    "Друг начин, по който можете да гледате на генераторите е като на корутини (всъщност корутините в python се реализират чрез генератори).\n",
    "\n",
    "Генератор-функция е такава фунцкия, в която се използва ключовата дума `yield`. Докато семантиката на `return` е приключване на изпълнение на функцията и връщане на съответната стойност, то семантиката на `yield` е „паузиране“ на изпълнението на функцията и потенциално предаване на стойността към горния scope, от който се итерира по генератора.\n",
    "\n",
    "Ако последните изречения ви объркват, не е проблем. Кодът ще помогне."
   ]
  },
  {
   "cell_type": "code",
   "execution_count": null,
   "metadata": {
    "collapsed": true,
    "slideshow": {
     "slide_type": "subslide"
    }
   },
   "outputs": [],
   "source": [
    "def actors_generator():\n",
    "    yield 'Graham Chapman'\n",
    "    yield 'John Cleese'\n",
    "    yield 'Terry Gilliam'\n",
    "    yield 'Eric Idle'\n",
    "    yield 'Terry Jones'\n",
    "    yield 'Michael Palin'\n",
    "    \n",
    "actors = actors_generator()\n",
    "for actor in actors:\n",
    "    print(actor)"
   ]
  },
  {
   "cell_type": "markdown",
   "metadata": {
    "slideshow": {
     "slide_type": "skip"
    }
   },
   "source": [
    "Тогава можем да пренапишем горната ни имплементация на итератор много по-просто и кратко с генератор."
   ]
  },
  {
   "cell_type": "code",
   "execution_count": null,
   "metadata": {
    "collapsed": true,
    "slideshow": {
     "slide_type": "subslide"
    }
   },
   "outputs": [],
   "source": [
    "class Vector:\n",
    "    def __init__(self, x, y):\n",
    "        self.x = x\n",
    "        self.y = y\n",
    "\n",
    "    def __iter__(self):\n",
    "        yield self.x\n",
    "        yield self.y\n",
    "        \n",
    "v = Vector(3, 4)\n",
    "for component in v:\n",
    "    print(component)"
   ]
  },
  {
   "cell_type": "markdown",
   "metadata": {
    "slideshow": {
     "slide_type": "skip"
    }
   },
   "source": [
    "Генераторите могат да бъдат и „безкрайни“, т.е. да продължават да гененрират нови стойности при всяко ново извикване и никога да не хвърлят `StopIteration`."
   ]
  },
  {
   "cell_type": "code",
   "execution_count": null,
   "metadata": {
    "collapsed": true,
    "slideshow": {
     "slide_type": "subslide"
    }
   },
   "outputs": [],
   "source": [
    "def even_number_generator(start=2):\n",
    "    if start % 2 == 0:\n",
    "        number = start\n",
    "    else:\n",
    "        number = start + 1\n",
    "    while True:\n",
    "        yield number\n",
    "        number += 2\n",
    "        \n",
    "even_numbers = even_number_generator()\n",
    "print(next(even_numbers))\n",
    "print(next(even_numbers))\n",
    "\n",
    "even_numbers_from_nine = even_number_generator(9)\n",
    "print(next(even_numbers_from_nine))\n",
    "print(next(even_numbers_from_nine))\n",
    "print(next(even_numbers_from_nine))\n",
    "print(next(even_numbers_from_nine))"
   ]
  },
  {
   "cell_type": "markdown",
   "metadata": {
    "slideshow": {
     "slide_type": "skip"
    }
   },
   "source": [
    "Както по-рано дефинирахме списъци/множества/речници с comprehension-и, по подобен начин можем да използваме и генератор comprehension."
   ]
  },
  {
   "cell_type": "code",
   "execution_count": null,
   "metadata": {
    "collapsed": true,
    "slideshow": {
     "slide_type": "subslide"
    }
   },
   "outputs": [],
   "source": [
    "multiples_of_six = (number for number in even_numbers if number % 3 ==0)\n",
    "print(next(multiples_of_six))\n",
    "print(next(multiples_of_six))\n",
    "print(next(multiples_of_six))\n",
    "print(next(multiples_of_six))"
   ]
  },
  {
   "cell_type": "markdown",
   "metadata": {
    "slideshow": {
     "slide_type": "skip"
    }
   },
   "source": [
    "Ако искаме да оперираме с много големи, или дори в конкретния случай с безкрайни данни, няма как да конструираме списък, тъй като нямаме достатъчно памет, в която да държим всички елементи на списъка."
   ]
  },
  {
   "cell_type": "code",
   "execution_count": null,
   "metadata": {
    "collapsed": true
   },
   "outputs": [],
   "source": [
    "# този ред буквално „забива“ докато операционната система умре заради липса на RAM\n",
    "# или докато реши да убие процеса, защото е твърде лаком\n",
    "multiples_of_six = [number for number in even_numbers if number % 3 == 0] "
   ]
  },
  {
   "cell_type": "markdown",
   "metadata": {
    "slideshow": {
     "slide_type": "slide"
    }
   },
   "source": [
    "### наследяване"
   ]
  },
  {
   "cell_type": "code",
   "execution_count": null,
   "metadata": {
    "collapsed": true,
    "slideshow": {
     "slide_type": "subslide"
    }
   },
   "outputs": [],
   "source": [
    "class Person:\n",
    "    def __init__(self, first_name, last_name):\n",
    "        self.first_name, self.last_name = first_name, last_name\n",
    "\n",
    "    def name(self):\n",
    "        return \"{0} {1}\".format(self.first_name, self.last_name)\n",
    "\n",
    "class Doctor(Person):\n",
    "    def name(self):\n",
    "        return \"Ph.D. {0}\".format(Person.name(self))"
   ]
  },
  {
   "cell_type": "code",
   "execution_count": null,
   "metadata": {
    "collapsed": true,
    "slideshow": {
     "slide_type": "fragment"
    }
   },
   "outputs": [],
   "source": [
    "gencho = Person('Евгени', 'Кунев')\n",
    "luchko = Doctor('Лъчезар', 'Божков')"
   ]
  },
  {
   "cell_type": "code",
   "execution_count": null,
   "metadata": {
    "collapsed": true,
    "slideshow": {
     "slide_type": "subslide"
    }
   },
   "outputs": [],
   "source": [
    "print(gencho.name())\n",
    "print(luchko.name())"
   ]
  },
  {
   "cell_type": "markdown",
   "metadata": {
    "slideshow": {
     "slide_type": "slide"
    }
   },
   "source": [
    "### изключения"
   ]
  },
  {
   "cell_type": "markdown",
   "metadata": {
    "slideshow": {
     "slide_type": "skip"
    }
   },
   "source": [
    "конструкцията за обработване на изключения в python е следната"
   ]
  },
  {
   "cell_type": "code",
   "execution_count": null,
   "metadata": {
    "collapsed": true,
    "slideshow": {
     "slide_type": "skip"
    }
   },
   "outputs": [],
   "source": [
    "try:\n",
    "    1/0\n",
    "except Exception as e:\n",
    "    print(e)\n",
    "finally:\n",
    "    print(\"we're through...\")"
   ]
  },
  {
   "cell_type": "markdown",
   "metadata": {
    "slideshow": {
     "slide_type": "skip"
    }
   },
   "source": [
    "след ключовата дума `try` има блок код, в който очакваме, че може да се предизвика изключение\n",
    "след него следва ключовата дума `except`, след която можем да кажем какъв вид изключения конкретно искаме да обработваме в последващия блок код\n",
    "на края всичко във `finally` блока винаги се изпълнява без значение дали е било предизвикано изключение, или не"
   ]
  },
  {
   "cell_type": "markdown",
   "metadata": {
    "slideshow": {
     "slide_type": "skip"
    }
   },
   "source": [
    "за разлика от повечето езици, в python `try/except` конструкцията, освен `finally` блок може да има и `else` блок, който се изпълянва само ако не е било предизвикано изключение\n",
    "`else` блока трябва да е след всички `except` блокове и преди `finally` блока"
   ]
  },
  {
   "cell_type": "code",
   "execution_count": null,
   "metadata": {
    "collapsed": true,
    "slideshow": {
     "slide_type": "skip"
    }
   },
   "outputs": [],
   "source": [
    "try:\n",
    "    1/2\n",
    "except Exception as e:\n",
    "    print(e)\n",
    "else:\n",
    "    print('amazingly so, nothing bad actually happened')\n",
    "finally:\n",
    "    print(\"we're through...\")"
   ]
  }
 ],
 "metadata": {
  "celltoolbar": "Slideshow",
  "kernelspec": {
   "display_name": "Python 3",
   "language": "python",
   "name": "python3"
  },
  "language_info": {
   "codemirror_mode": {
    "name": "ipython",
    "version": 3
   },
   "file_extension": ".py",
   "mimetype": "text/x-python",
   "name": "python",
   "nbconvert_exporter": "python",
   "pygments_lexer": "ipython3",
   "version": "3.6.2"
  }
 },
 "nbformat": 4,
 "nbformat_minor": 2
}
